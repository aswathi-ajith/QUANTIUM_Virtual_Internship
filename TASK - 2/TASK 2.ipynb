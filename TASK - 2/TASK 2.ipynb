{
 "cells": [
  {
   "cell_type": "markdown",
   "id": "c7b9e89d",
   "metadata": {},
   "source": [
    "## Name: Aswathi Ajith\n",
    "### Task -2\n",
    "\n",
    "###  Experimentation and uplift testing\n",
    "\n",
    "##### "
   ]
  },
  {
   "cell_type": "markdown",
   "id": "0bfb35b8",
   "metadata": {},
   "source": [
    "The goal is to analyze the effectiveness of a trial campaign by comparing trial stores with control stores. \n",
    "\n",
    "We aim to:\n",
    "\n",
    "- Confirm that the control stores are similar enough to the trial stores before the trial period (pre-trial).\n",
    "- Measure the difference in performance (e.g., sales uplift) between the trial and control stores during the trial period.\n",
    "- Determine whether the trial had a statistically significant impact."
   ]
  },
  {
   "cell_type": "code",
   "execution_count": 1,
   "id": "6d4474ef",
   "metadata": {},
   "outputs": [],
   "source": [
    "# Loading required libraries\n",
    "import numpy as np\n",
    "import matplotlib.pyplot as plt\n",
    "import pandas as pd\n",
    "import datetime "
   ]
  },
  {
   "cell_type": "markdown",
   "id": "e31ba6b5",
   "metadata": {},
   "source": [
    "# Import Dataset"
   ]
  },
  {
   "cell_type": "code",
   "execution_count": 2,
   "id": "1a503857",
   "metadata": {},
   "outputs": [
    {
     "data": {
      "text/html": [
       "<div>\n",
       "<style scoped>\n",
       "    .dataframe tbody tr th:only-of-type {\n",
       "        vertical-align: middle;\n",
       "    }\n",
       "\n",
       "    .dataframe tbody tr th {\n",
       "        vertical-align: top;\n",
       "    }\n",
       "\n",
       "    .dataframe thead th {\n",
       "        text-align: right;\n",
       "    }\n",
       "</style>\n",
       "<table border=\"1\" class=\"dataframe\">\n",
       "  <thead>\n",
       "    <tr style=\"text-align: right;\">\n",
       "      <th></th>\n",
       "      <th>LYLTY_CARD_NBR</th>\n",
       "      <th>DATE</th>\n",
       "      <th>STORE_NBR</th>\n",
       "      <th>TXN_ID</th>\n",
       "      <th>PROD_NBR</th>\n",
       "      <th>PROD_NAME</th>\n",
       "      <th>PROD_QTY</th>\n",
       "      <th>TOT_SALES</th>\n",
       "      <th>PACK_SIZE</th>\n",
       "      <th>BRAND</th>\n",
       "      <th>LIFESTAGE</th>\n",
       "      <th>PREMIUM_CUSTOMER</th>\n",
       "    </tr>\n",
       "  </thead>\n",
       "  <tbody>\n",
       "    <tr>\n",
       "      <th>0</th>\n",
       "      <td>1000</td>\n",
       "      <td>2018-10-17</td>\n",
       "      <td>1</td>\n",
       "      <td>1</td>\n",
       "      <td>5</td>\n",
       "      <td>Natural Chip        Compny SeaSalt175g</td>\n",
       "      <td>2</td>\n",
       "      <td>6.0</td>\n",
       "      <td>175</td>\n",
       "      <td>NATURAL</td>\n",
       "      <td>YOUNG SINGLES/COUPLES</td>\n",
       "      <td>Premium</td>\n",
       "    </tr>\n",
       "    <tr>\n",
       "      <th>1</th>\n",
       "      <td>1002</td>\n",
       "      <td>2018-09-16</td>\n",
       "      <td>1</td>\n",
       "      <td>2</td>\n",
       "      <td>58</td>\n",
       "      <td>Red Rock Deli Chikn&amp;Garlic Aioli 150g</td>\n",
       "      <td>1</td>\n",
       "      <td>2.7</td>\n",
       "      <td>150</td>\n",
       "      <td>RRD</td>\n",
       "      <td>YOUNG SINGLES/COUPLES</td>\n",
       "      <td>Mainstream</td>\n",
       "    </tr>\n",
       "    <tr>\n",
       "      <th>2</th>\n",
       "      <td>1003</td>\n",
       "      <td>2019-03-07</td>\n",
       "      <td>1</td>\n",
       "      <td>3</td>\n",
       "      <td>52</td>\n",
       "      <td>Grain Waves Sour    Cream&amp;Chives 210G</td>\n",
       "      <td>1</td>\n",
       "      <td>3.6</td>\n",
       "      <td>210</td>\n",
       "      <td>GRNWVES</td>\n",
       "      <td>YOUNG FAMILIES</td>\n",
       "      <td>Budget</td>\n",
       "    </tr>\n",
       "  </tbody>\n",
       "</table>\n",
       "</div>"
      ],
      "text/plain": [
       "   LYLTY_CARD_NBR        DATE  STORE_NBR  TXN_ID  PROD_NBR  \\\n",
       "0            1000  2018-10-17          1       1         5   \n",
       "1            1002  2018-09-16          1       2        58   \n",
       "2            1003  2019-03-07          1       3        52   \n",
       "\n",
       "                                PROD_NAME  PROD_QTY  TOT_SALES  PACK_SIZE  \\\n",
       "0  Natural Chip        Compny SeaSalt175g         2        6.0        175   \n",
       "1   Red Rock Deli Chikn&Garlic Aioli 150g         1        2.7        150   \n",
       "2   Grain Waves Sour    Cream&Chives 210G         1        3.6        210   \n",
       "\n",
       "     BRAND              LIFESTAGE PREMIUM_CUSTOMER  \n",
       "0  NATURAL  YOUNG SINGLES/COUPLES          Premium  \n",
       "1      RRD  YOUNG SINGLES/COUPLES       Mainstream  \n",
       "2  GRNWVES         YOUNG FAMILIES           Budget  "
      ]
     },
     "execution_count": 2,
     "metadata": {},
     "output_type": "execute_result"
    }
   ],
   "source": [
    "df = pd.read_csv(\"Downloads\\QVI_data.csv\")\n",
    "df.head(3)"
   ]
  },
  {
   "cell_type": "code",
   "execution_count": 3,
   "id": "95c8f0c4",
   "metadata": {},
   "outputs": [
    {
     "data": {
      "text/plain": [
       "Index(['LYLTY_CARD_NBR', 'DATE', 'STORE_NBR', 'TXN_ID', 'PROD_NBR',\n",
       "       'PROD_NAME', 'PROD_QTY', 'TOT_SALES', 'PACK_SIZE', 'BRAND', 'LIFESTAGE',\n",
       "       'PREMIUM_CUSTOMER'],\n",
       "      dtype='object')"
      ]
     },
     "execution_count": 3,
     "metadata": {},
     "output_type": "execute_result"
    }
   ],
   "source": [
    "df.columns"
   ]
  },
  {
   "cell_type": "markdown",
   "id": "02fe60e3",
   "metadata": {},
   "source": [
    "## Data Exploration"
   ]
  },
  {
   "cell_type": "markdown",
   "id": "6d53f6f1",
   "metadata": {},
   "source": [
    "Stores 77, 86 and 88 as selected as the trial stores with a trial period of Feb 2019 to April 2019. Once the stores have been selected as the control stores, compare each trial and control pair during the trial period.            \n",
    "           \n",
    "Main objectives are :-\n",
    "\n",
    "- Select control stores – Explore data, define metrics, visualize graphs\n",
    "- Assessment of the trial – insights/trends by comparing trial stores with control stores\n",
    "- Collate findings – summarize and provide recommendations\n",
    "\n",
    "We would want to match trial stores to control stores that are similar to the trial store prior to the trial period of Feb 2019 in terms of:\n",
    "\n",
    "- Monthly overall sales revenue\n",
    "- Monthly number of customers\n",
    "- Monthly number of transactions per customer"
   ]
  },
  {
   "cell_type": "code",
   "execution_count": 4,
   "id": "20f47e01",
   "metadata": {},
   "outputs": [
    {
     "name": "stdout",
     "output_type": "stream",
     "text": [
      "<class 'pandas.core.frame.DataFrame'>\n",
      "RangeIndex: 264834 entries, 0 to 264833\n",
      "Data columns (total 12 columns):\n",
      " #   Column            Non-Null Count   Dtype  \n",
      "---  ------            --------------   -----  \n",
      " 0   LYLTY_CARD_NBR    264834 non-null  int64  \n",
      " 1   DATE              264834 non-null  object \n",
      " 2   STORE_NBR         264834 non-null  int64  \n",
      " 3   TXN_ID            264834 non-null  int64  \n",
      " 4   PROD_NBR          264834 non-null  int64  \n",
      " 5   PROD_NAME         264834 non-null  object \n",
      " 6   PROD_QTY          264834 non-null  int64  \n",
      " 7   TOT_SALES         264834 non-null  float64\n",
      " 8   PACK_SIZE         264834 non-null  int64  \n",
      " 9   BRAND             264834 non-null  object \n",
      " 10  LIFESTAGE         264834 non-null  object \n",
      " 11  PREMIUM_CUSTOMER  264834 non-null  object \n",
      "dtypes: float64(1), int64(6), object(5)\n",
      "memory usage: 19.2+ MB\n"
     ]
    }
   ],
   "source": [
    "df.info()"
   ]
  },
  {
   "cell_type": "markdown",
   "id": "34f8ba94",
   "metadata": {},
   "source": [
    "#### We have to change the dtype of the DATE column "
   ]
  },
  {
   "cell_type": "code",
   "execution_count": 5,
   "id": "c3df5852",
   "metadata": {},
   "outputs": [],
   "source": [
    "# Change DATE column to store dates as datetimes \n",
    "df['DATE'] = pd.to_datetime(df['DATE'])"
   ]
  },
  {
   "cell_type": "code",
   "execution_count": 6,
   "id": "ac1d39d6",
   "metadata": {},
   "outputs": [
    {
     "name": "stdout",
     "output_type": "stream",
     "text": [
      "<class 'pandas.core.frame.DataFrame'>\n",
      "RangeIndex: 264834 entries, 0 to 264833\n",
      "Data columns (total 12 columns):\n",
      " #   Column            Non-Null Count   Dtype         \n",
      "---  ------            --------------   -----         \n",
      " 0   LYLTY_CARD_NBR    264834 non-null  int64         \n",
      " 1   DATE              264834 non-null  datetime64[ns]\n",
      " 2   STORE_NBR         264834 non-null  int64         \n",
      " 3   TXN_ID            264834 non-null  int64         \n",
      " 4   PROD_NBR          264834 non-null  int64         \n",
      " 5   PROD_NAME         264834 non-null  object        \n",
      " 6   PROD_QTY          264834 non-null  int64         \n",
      " 7   TOT_SALES         264834 non-null  float64       \n",
      " 8   PACK_SIZE         264834 non-null  int64         \n",
      " 9   BRAND             264834 non-null  object        \n",
      " 10  LIFESTAGE         264834 non-null  object        \n",
      " 11  PREMIUM_CUSTOMER  264834 non-null  object        \n",
      "dtypes: datetime64[ns](1), float64(1), int64(6), object(4)\n",
      "memory usage: 20.2+ MB\n"
     ]
    }
   ],
   "source": [
    "df.info()"
   ]
  },
  {
   "cell_type": "markdown",
   "id": "7a2513af",
   "metadata": {},
   "source": [
    "#### Check for the null values in the dataset"
   ]
  },
  {
   "cell_type": "code",
   "execution_count": 7,
   "id": "27033bb7",
   "metadata": {},
   "outputs": [
    {
     "data": {
      "text/plain": [
       "LYLTY_CARD_NBR      0\n",
       "DATE                0\n",
       "STORE_NBR           0\n",
       "TXN_ID              0\n",
       "PROD_NBR            0\n",
       "PROD_NAME           0\n",
       "PROD_QTY            0\n",
       "TOT_SALES           0\n",
       "PACK_SIZE           0\n",
       "BRAND               0\n",
       "LIFESTAGE           0\n",
       "PREMIUM_CUSTOMER    0\n",
       "dtype: int64"
      ]
     },
     "execution_count": 7,
     "metadata": {},
     "output_type": "execute_result"
    }
   ],
   "source": [
    "df.isnull().sum()"
   ]
  },
  {
   "cell_type": "markdown",
   "id": "980411c3",
   "metadata": {},
   "source": [
    "---------------- No null (missing) values in the dataset"
   ]
  },
  {
   "cell_type": "markdown",
   "id": "0d868c70",
   "metadata": {},
   "source": [
    "#### We need to see through: \n",
    "\n",
    " - Overall sales revenue\n",
    " - No of customers\n",
    " - No of transactions per customer\n",
    " - Chips per customer\n",
    " - Average price per unit\n",
    " \n",
    "For each store and month"
   ]
  },
  {
   "cell_type": "markdown",
   "id": "ec4ae68e",
   "metadata": {},
   "source": [
    "#### To create a year and month column in the dataset"
   ]
  },
  {
   "cell_type": "code",
   "execution_count": 8,
   "id": "aa21464e",
   "metadata": {},
   "outputs": [
    {
     "data": {
      "text/plain": [
       "Index(['LYLTY_CARD_NBR', 'DATE', 'STORE_NBR', 'TXN_ID', 'PROD_NBR',\n",
       "       'PROD_NAME', 'PROD_QTY', 'TOT_SALES', 'PACK_SIZE', 'BRAND', 'LIFESTAGE',\n",
       "       'PREMIUM_CUSTOMER'],\n",
       "      dtype='object')"
      ]
     },
     "execution_count": 8,
     "metadata": {},
     "output_type": "execute_result"
    }
   ],
   "source": [
    "df.columns"
   ]
  },
  {
   "cell_type": "code",
   "execution_count": 9,
   "id": "b9dd2697",
   "metadata": {},
   "outputs": [
    {
     "data": {
      "text/html": [
       "<div>\n",
       "<style scoped>\n",
       "    .dataframe tbody tr th:only-of-type {\n",
       "        vertical-align: middle;\n",
       "    }\n",
       "\n",
       "    .dataframe tbody tr th {\n",
       "        vertical-align: top;\n",
       "    }\n",
       "\n",
       "    .dataframe thead th {\n",
       "        text-align: right;\n",
       "    }\n",
       "</style>\n",
       "<table border=\"1\" class=\"dataframe\">\n",
       "  <thead>\n",
       "    <tr style=\"text-align: right;\">\n",
       "      <th></th>\n",
       "      <th>LYLTY_CARD_NBR</th>\n",
       "      <th>DATE</th>\n",
       "      <th>STORE_NBR</th>\n",
       "      <th>TXN_ID</th>\n",
       "      <th>PROD_NBR</th>\n",
       "      <th>PROD_NAME</th>\n",
       "      <th>PROD_QTY</th>\n",
       "      <th>TOT_SALES</th>\n",
       "      <th>PACK_SIZE</th>\n",
       "      <th>BRAND</th>\n",
       "      <th>LIFESTAGE</th>\n",
       "      <th>PREMIUM_CUSTOMER</th>\n",
       "      <th>YEAR_MONTH</th>\n",
       "    </tr>\n",
       "  </thead>\n",
       "  <tbody>\n",
       "    <tr>\n",
       "      <th>0</th>\n",
       "      <td>1000</td>\n",
       "      <td>2018-10-17</td>\n",
       "      <td>1</td>\n",
       "      <td>1</td>\n",
       "      <td>5</td>\n",
       "      <td>Natural Chip        Compny SeaSalt175g</td>\n",
       "      <td>2</td>\n",
       "      <td>6.0</td>\n",
       "      <td>175</td>\n",
       "      <td>NATURAL</td>\n",
       "      <td>YOUNG SINGLES/COUPLES</td>\n",
       "      <td>Premium</td>\n",
       "      <td>201810</td>\n",
       "    </tr>\n",
       "    <tr>\n",
       "      <th>1</th>\n",
       "      <td>1002</td>\n",
       "      <td>2018-09-16</td>\n",
       "      <td>1</td>\n",
       "      <td>2</td>\n",
       "      <td>58</td>\n",
       "      <td>Red Rock Deli Chikn&amp;Garlic Aioli 150g</td>\n",
       "      <td>1</td>\n",
       "      <td>2.7</td>\n",
       "      <td>150</td>\n",
       "      <td>RRD</td>\n",
       "      <td>YOUNG SINGLES/COUPLES</td>\n",
       "      <td>Mainstream</td>\n",
       "      <td>201809</td>\n",
       "    </tr>\n",
       "    <tr>\n",
       "      <th>2</th>\n",
       "      <td>1003</td>\n",
       "      <td>2019-03-07</td>\n",
       "      <td>1</td>\n",
       "      <td>3</td>\n",
       "      <td>52</td>\n",
       "      <td>Grain Waves Sour    Cream&amp;Chives 210G</td>\n",
       "      <td>1</td>\n",
       "      <td>3.6</td>\n",
       "      <td>210</td>\n",
       "      <td>GRNWVES</td>\n",
       "      <td>YOUNG FAMILIES</td>\n",
       "      <td>Budget</td>\n",
       "      <td>201903</td>\n",
       "    </tr>\n",
       "    <tr>\n",
       "      <th>3</th>\n",
       "      <td>1003</td>\n",
       "      <td>2019-03-08</td>\n",
       "      <td>1</td>\n",
       "      <td>4</td>\n",
       "      <td>106</td>\n",
       "      <td>Natural ChipCo      Hony Soy Chckn175g</td>\n",
       "      <td>1</td>\n",
       "      <td>3.0</td>\n",
       "      <td>175</td>\n",
       "      <td>NATURAL</td>\n",
       "      <td>YOUNG FAMILIES</td>\n",
       "      <td>Budget</td>\n",
       "      <td>201903</td>\n",
       "    </tr>\n",
       "    <tr>\n",
       "      <th>4</th>\n",
       "      <td>1004</td>\n",
       "      <td>2018-11-02</td>\n",
       "      <td>1</td>\n",
       "      <td>5</td>\n",
       "      <td>96</td>\n",
       "      <td>WW Original Stacked Chips 160g</td>\n",
       "      <td>1</td>\n",
       "      <td>1.9</td>\n",
       "      <td>160</td>\n",
       "      <td>WOOLWORTHS</td>\n",
       "      <td>OLDER SINGLES/COUPLES</td>\n",
       "      <td>Mainstream</td>\n",
       "      <td>201811</td>\n",
       "    </tr>\n",
       "    <tr>\n",
       "      <th>...</th>\n",
       "      <td>...</td>\n",
       "      <td>...</td>\n",
       "      <td>...</td>\n",
       "      <td>...</td>\n",
       "      <td>...</td>\n",
       "      <td>...</td>\n",
       "      <td>...</td>\n",
       "      <td>...</td>\n",
       "      <td>...</td>\n",
       "      <td>...</td>\n",
       "      <td>...</td>\n",
       "      <td>...</td>\n",
       "      <td>...</td>\n",
       "    </tr>\n",
       "    <tr>\n",
       "      <th>264829</th>\n",
       "      <td>2370701</td>\n",
       "      <td>2018-12-08</td>\n",
       "      <td>88</td>\n",
       "      <td>240378</td>\n",
       "      <td>24</td>\n",
       "      <td>Grain Waves         Sweet Chilli 210g</td>\n",
       "      <td>2</td>\n",
       "      <td>7.2</td>\n",
       "      <td>210</td>\n",
       "      <td>GRNWVES</td>\n",
       "      <td>YOUNG FAMILIES</td>\n",
       "      <td>Mainstream</td>\n",
       "      <td>201812</td>\n",
       "    </tr>\n",
       "    <tr>\n",
       "      <th>264830</th>\n",
       "      <td>2370751</td>\n",
       "      <td>2018-10-01</td>\n",
       "      <td>88</td>\n",
       "      <td>240394</td>\n",
       "      <td>60</td>\n",
       "      <td>Kettle Tortilla ChpsFeta&amp;Garlic 150g</td>\n",
       "      <td>2</td>\n",
       "      <td>9.2</td>\n",
       "      <td>150</td>\n",
       "      <td>KETTLE</td>\n",
       "      <td>YOUNG FAMILIES</td>\n",
       "      <td>Premium</td>\n",
       "      <td>201810</td>\n",
       "    </tr>\n",
       "    <tr>\n",
       "      <th>264831</th>\n",
       "      <td>2370961</td>\n",
       "      <td>2018-10-24</td>\n",
       "      <td>88</td>\n",
       "      <td>240480</td>\n",
       "      <td>70</td>\n",
       "      <td>Tyrrells Crisps     Lightly Salted 165g</td>\n",
       "      <td>2</td>\n",
       "      <td>8.4</td>\n",
       "      <td>165</td>\n",
       "      <td>TYRRELLS</td>\n",
       "      <td>OLDER FAMILIES</td>\n",
       "      <td>Budget</td>\n",
       "      <td>201810</td>\n",
       "    </tr>\n",
       "    <tr>\n",
       "      <th>264832</th>\n",
       "      <td>2370961</td>\n",
       "      <td>2018-10-27</td>\n",
       "      <td>88</td>\n",
       "      <td>240481</td>\n",
       "      <td>65</td>\n",
       "      <td>Old El Paso Salsa   Dip Chnky Tom Ht300g</td>\n",
       "      <td>2</td>\n",
       "      <td>10.2</td>\n",
       "      <td>300</td>\n",
       "      <td>OLD</td>\n",
       "      <td>OLDER FAMILIES</td>\n",
       "      <td>Budget</td>\n",
       "      <td>201810</td>\n",
       "    </tr>\n",
       "    <tr>\n",
       "      <th>264833</th>\n",
       "      <td>2373711</td>\n",
       "      <td>2018-12-14</td>\n",
       "      <td>88</td>\n",
       "      <td>241815</td>\n",
       "      <td>16</td>\n",
       "      <td>Smiths Crinkle Chips Salt &amp; Vinegar 330g</td>\n",
       "      <td>2</td>\n",
       "      <td>11.4</td>\n",
       "      <td>330</td>\n",
       "      <td>SMITHS</td>\n",
       "      <td>YOUNG SINGLES/COUPLES</td>\n",
       "      <td>Mainstream</td>\n",
       "      <td>201812</td>\n",
       "    </tr>\n",
       "  </tbody>\n",
       "</table>\n",
       "<p>264834 rows × 13 columns</p>\n",
       "</div>"
      ],
      "text/plain": [
       "        LYLTY_CARD_NBR       DATE  STORE_NBR  TXN_ID  PROD_NBR  \\\n",
       "0                 1000 2018-10-17          1       1         5   \n",
       "1                 1002 2018-09-16          1       2        58   \n",
       "2                 1003 2019-03-07          1       3        52   \n",
       "3                 1003 2019-03-08          1       4       106   \n",
       "4                 1004 2018-11-02          1       5        96   \n",
       "...                ...        ...        ...     ...       ...   \n",
       "264829         2370701 2018-12-08         88  240378        24   \n",
       "264830         2370751 2018-10-01         88  240394        60   \n",
       "264831         2370961 2018-10-24         88  240480        70   \n",
       "264832         2370961 2018-10-27         88  240481        65   \n",
       "264833         2373711 2018-12-14         88  241815        16   \n",
       "\n",
       "                                       PROD_NAME  PROD_QTY  TOT_SALES  \\\n",
       "0         Natural Chip        Compny SeaSalt175g         2        6.0   \n",
       "1          Red Rock Deli Chikn&Garlic Aioli 150g         1        2.7   \n",
       "2          Grain Waves Sour    Cream&Chives 210G         1        3.6   \n",
       "3         Natural ChipCo      Hony Soy Chckn175g         1        3.0   \n",
       "4                 WW Original Stacked Chips 160g         1        1.9   \n",
       "...                                          ...       ...        ...   \n",
       "264829     Grain Waves         Sweet Chilli 210g         2        7.2   \n",
       "264830      Kettle Tortilla ChpsFeta&Garlic 150g         2        9.2   \n",
       "264831   Tyrrells Crisps     Lightly Salted 165g         2        8.4   \n",
       "264832  Old El Paso Salsa   Dip Chnky Tom Ht300g         2       10.2   \n",
       "264833  Smiths Crinkle Chips Salt & Vinegar 330g         2       11.4   \n",
       "\n",
       "        PACK_SIZE       BRAND              LIFESTAGE PREMIUM_CUSTOMER  \\\n",
       "0             175     NATURAL  YOUNG SINGLES/COUPLES          Premium   \n",
       "1             150         RRD  YOUNG SINGLES/COUPLES       Mainstream   \n",
       "2             210     GRNWVES         YOUNG FAMILIES           Budget   \n",
       "3             175     NATURAL         YOUNG FAMILIES           Budget   \n",
       "4             160  WOOLWORTHS  OLDER SINGLES/COUPLES       Mainstream   \n",
       "...           ...         ...                    ...              ...   \n",
       "264829        210     GRNWVES         YOUNG FAMILIES       Mainstream   \n",
       "264830        150      KETTLE         YOUNG FAMILIES          Premium   \n",
       "264831        165    TYRRELLS         OLDER FAMILIES           Budget   \n",
       "264832        300         OLD         OLDER FAMILIES           Budget   \n",
       "264833        330      SMITHS  YOUNG SINGLES/COUPLES       Mainstream   \n",
       "\n",
       "        YEAR_MONTH  \n",
       "0           201810  \n",
       "1           201809  \n",
       "2           201903  \n",
       "3           201903  \n",
       "4           201811  \n",
       "...            ...  \n",
       "264829      201812  \n",
       "264830      201810  \n",
       "264831      201810  \n",
       "264832      201810  \n",
       "264833      201812  \n",
       "\n",
       "[264834 rows x 13 columns]"
      ]
     },
     "execution_count": 9,
     "metadata": {},
     "output_type": "execute_result"
    }
   ],
   "source": [
    "df['YEAR_MONTH'] = df['DATE'].dt.strftime('%Y%m').astype('int64')\n",
    "df"
   ]
  },
  {
   "cell_type": "code",
   "execution_count": 10,
   "id": "e3775385",
   "metadata": {},
   "outputs": [
    {
     "data": {
      "text/plain": [
       "0    201810\n",
       "1    201809\n",
       "2    201903\n",
       "3    201903\n",
       "4    201811\n",
       "Name: YEAR_MONTH, dtype: int64"
      ]
     },
     "execution_count": 10,
     "metadata": {},
     "output_type": "execute_result"
    }
   ],
   "source": [
    "# Check\n",
    "df['YEAR_MONTH'][:5]"
   ]
  },
  {
   "cell_type": "markdown",
   "id": "cfd99722",
   "metadata": {},
   "source": [
    "#### Define columns for the metrics"
   ]
  },
  {
   "cell_type": "code",
   "execution_count": 11,
   "id": "f3772d31",
   "metadata": {},
   "outputs": [],
   "source": [
    "# Store and year_month column\n",
    "store_yr_month_group = df.groupby(['STORE_NBR','YEAR_MONTH'])\n",
    "\n",
    "# Overall sales revenue\n",
    "total_sales = store_yr_month_group['TOT_SALES'].sum()\n",
    "\n",
    "# No of customers\n",
    "n_cutomers = store_yr_month_group['LYLTY_CARD_NBR'].nunique()\n",
    "\n",
    "# No of transactions per customer\n",
    "# n_trans_per_customer = store_yr_month_group['TXN_ID'].nunique()/n_cutomers\n",
    "n_trans_per_customer = store_yr_month_group['TXN_ID'].size()/n_cutomers\n",
    "# Returns no of rows/transactions in for that store and month / n_cust\n",
    "\n",
    "# No of chips per transaction\n",
    "n_chips_per_trans = store_yr_month_group['PROD_QTY'].sum()/store_yr_month_group['TXN_ID'].nunique()\n",
    "\n",
    "# Average price per unit \n",
    "avg_price_per_unit = total_sales/store_yr_month_group['PROD_QTY'].sum()"
   ]
  },
  {
   "cell_type": "code",
   "execution_count": 12,
   "id": "08ab7471",
   "metadata": {},
   "outputs": [],
   "source": [
    "metrics_arrays =[total_sales,n_cutomers,n_trans_per_customer,n_chips_per_trans,avg_price_per_unit]\n",
    "metrics_df = pd.concat(metrics_arrays, axis=1)\n",
    "# Give the columns labels \n",
    "metrics_df.columns = ['Total_Sales','No_customers','No_Trans_per_Customer','No_Chips_per_Trans',\n",
    "                      'Avg_Price_per_Unit']\n",
    "metrics_df = metrics_df.reset_index()"
   ]
  },
  {
   "cell_type": "code",
   "execution_count": 13,
   "id": "d94ac7f5",
   "metadata": {},
   "outputs": [
    {
     "data": {
      "text/html": [
       "<div>\n",
       "<style scoped>\n",
       "    .dataframe tbody tr th:only-of-type {\n",
       "        vertical-align: middle;\n",
       "    }\n",
       "\n",
       "    .dataframe tbody tr th {\n",
       "        vertical-align: top;\n",
       "    }\n",
       "\n",
       "    .dataframe thead th {\n",
       "        text-align: right;\n",
       "    }\n",
       "</style>\n",
       "<table border=\"1\" class=\"dataframe\">\n",
       "  <thead>\n",
       "    <tr style=\"text-align: right;\">\n",
       "      <th></th>\n",
       "      <th>STORE_NBR</th>\n",
       "      <th>YEAR_MONTH</th>\n",
       "      <th>Total_Sales</th>\n",
       "      <th>No_customers</th>\n",
       "      <th>No_Trans_per_Customer</th>\n",
       "      <th>No_Chips_per_Trans</th>\n",
       "      <th>Avg_Price_per_Unit</th>\n",
       "    </tr>\n",
       "  </thead>\n",
       "  <tbody>\n",
       "    <tr>\n",
       "      <th>0</th>\n",
       "      <td>1</td>\n",
       "      <td>201807</td>\n",
       "      <td>206.9</td>\n",
       "      <td>49</td>\n",
       "      <td>1.061224</td>\n",
       "      <td>1.192308</td>\n",
       "      <td>3.337097</td>\n",
       "    </tr>\n",
       "    <tr>\n",
       "      <th>1</th>\n",
       "      <td>1</td>\n",
       "      <td>201808</td>\n",
       "      <td>176.1</td>\n",
       "      <td>42</td>\n",
       "      <td>1.023810</td>\n",
       "      <td>1.255814</td>\n",
       "      <td>3.261111</td>\n",
       "    </tr>\n",
       "    <tr>\n",
       "      <th>2</th>\n",
       "      <td>1</td>\n",
       "      <td>201809</td>\n",
       "      <td>278.8</td>\n",
       "      <td>59</td>\n",
       "      <td>1.050847</td>\n",
       "      <td>1.209677</td>\n",
       "      <td>3.717333</td>\n",
       "    </tr>\n",
       "  </tbody>\n",
       "</table>\n",
       "</div>"
      ],
      "text/plain": [
       "   STORE_NBR  YEAR_MONTH  Total_Sales  No_customers  No_Trans_per_Customer  \\\n",
       "0          1      201807        206.9            49               1.061224   \n",
       "1          1      201808        176.1            42               1.023810   \n",
       "2          1      201809        278.8            59               1.050847   \n",
       "\n",
       "   No_Chips_per_Trans  Avg_Price_per_Unit  \n",
       "0            1.192308            3.337097  \n",
       "1            1.255814            3.261111  \n",
       "2            1.209677            3.717333  "
      ]
     },
     "execution_count": 13,
     "metadata": {},
     "output_type": "execute_result"
    }
   ],
   "source": [
    "metrics_df.head(3)"
   ]
  },
  {
   "cell_type": "code",
   "execution_count": 14,
   "id": "20ca01ed",
   "metadata": {},
   "outputs": [
    {
     "name": "stdout",
     "output_type": "stream",
     "text": [
      "<class 'pandas.core.frame.DataFrame'>\n",
      "RangeIndex: 3169 entries, 0 to 3168\n",
      "Data columns (total 7 columns):\n",
      " #   Column                 Non-Null Count  Dtype  \n",
      "---  ------                 --------------  -----  \n",
      " 0   STORE_NBR              3169 non-null   int64  \n",
      " 1   YEAR_MONTH             3169 non-null   int64  \n",
      " 2   Total_Sales            3169 non-null   float64\n",
      " 3   No_customers           3169 non-null   int64  \n",
      " 4   No_Trans_per_Customer  3169 non-null   float64\n",
      " 5   No_Chips_per_Trans     3169 non-null   float64\n",
      " 6   Avg_Price_per_Unit     3169 non-null   float64\n",
      "dtypes: float64(4), int64(3)\n",
      "memory usage: 173.4 KB\n"
     ]
    }
   ],
   "source": [
    "metrics_df.info()"
   ]
  },
  {
   "cell_type": "markdown",
   "id": "31234f09",
   "metadata": {},
   "source": [
    "#### Filter to select the stores with full observation periods"
   ]
  },
  {
   "cell_type": "code",
   "execution_count": 15,
   "id": "b4e0755f",
   "metadata": {},
   "outputs": [],
   "source": [
    "# Count occurrences of each store \n",
    "obs_counts = metrics_df.groupby('STORE_NBR').YEAR_MONTH.nunique().reset_index()\n",
    "# When the count is 12, its full observation\n",
    "stores_full_obv = obs_counts[obs_counts.YEAR_MONTH==12].STORE_NBR\n",
    "# Contains a list of store numbers that have a complete observation period of 12 entries.\n",
    "full_observ_df = metrics_df[metrics_df[\"STORE_NBR\"].isin(stores_full_obv)]"
   ]
  },
  {
   "cell_type": "code",
   "execution_count": 16,
   "id": "e9a576c7",
   "metadata": {},
   "outputs": [
    {
     "data": {
      "text/html": [
       "<div>\n",
       "<style scoped>\n",
       "    .dataframe tbody tr th:only-of-type {\n",
       "        vertical-align: middle;\n",
       "    }\n",
       "\n",
       "    .dataframe tbody tr th {\n",
       "        vertical-align: top;\n",
       "    }\n",
       "\n",
       "    .dataframe thead th {\n",
       "        text-align: right;\n",
       "    }\n",
       "</style>\n",
       "<table border=\"1\" class=\"dataframe\">\n",
       "  <thead>\n",
       "    <tr style=\"text-align: right;\">\n",
       "      <th></th>\n",
       "      <th>STORE_NBR</th>\n",
       "      <th>YEAR_MONTH</th>\n",
       "      <th>Total_Sales</th>\n",
       "      <th>No_customers</th>\n",
       "      <th>No_Trans_per_Customer</th>\n",
       "      <th>No_Chips_per_Trans</th>\n",
       "      <th>Avg_Price_per_Unit</th>\n",
       "    </tr>\n",
       "  </thead>\n",
       "  <tbody>\n",
       "    <tr>\n",
       "      <th>0</th>\n",
       "      <td>1</td>\n",
       "      <td>201807</td>\n",
       "      <td>206.9</td>\n",
       "      <td>49</td>\n",
       "      <td>1.061224</td>\n",
       "      <td>1.192308</td>\n",
       "      <td>3.337097</td>\n",
       "    </tr>\n",
       "    <tr>\n",
       "      <th>1</th>\n",
       "      <td>1</td>\n",
       "      <td>201808</td>\n",
       "      <td>176.1</td>\n",
       "      <td>42</td>\n",
       "      <td>1.023810</td>\n",
       "      <td>1.255814</td>\n",
       "      <td>3.261111</td>\n",
       "    </tr>\n",
       "    <tr>\n",
       "      <th>2</th>\n",
       "      <td>1</td>\n",
       "      <td>201809</td>\n",
       "      <td>278.8</td>\n",
       "      <td>59</td>\n",
       "      <td>1.050847</td>\n",
       "      <td>1.209677</td>\n",
       "      <td>3.717333</td>\n",
       "    </tr>\n",
       "    <tr>\n",
       "      <th>3</th>\n",
       "      <td>1</td>\n",
       "      <td>201810</td>\n",
       "      <td>188.1</td>\n",
       "      <td>44</td>\n",
       "      <td>1.022727</td>\n",
       "      <td>1.288889</td>\n",
       "      <td>3.243103</td>\n",
       "    </tr>\n",
       "    <tr>\n",
       "      <th>4</th>\n",
       "      <td>1</td>\n",
       "      <td>201811</td>\n",
       "      <td>192.6</td>\n",
       "      <td>46</td>\n",
       "      <td>1.021739</td>\n",
       "      <td>1.212766</td>\n",
       "      <td>3.378947</td>\n",
       "    </tr>\n",
       "    <tr>\n",
       "      <th>...</th>\n",
       "      <td>...</td>\n",
       "      <td>...</td>\n",
       "      <td>...</td>\n",
       "      <td>...</td>\n",
       "      <td>...</td>\n",
       "      <td>...</td>\n",
       "      <td>...</td>\n",
       "    </tr>\n",
       "    <tr>\n",
       "      <th>3164</th>\n",
       "      <td>272</td>\n",
       "      <td>201902</td>\n",
       "      <td>395.5</td>\n",
       "      <td>45</td>\n",
       "      <td>1.066667</td>\n",
       "      <td>1.895833</td>\n",
       "      <td>4.346154</td>\n",
       "    </tr>\n",
       "    <tr>\n",
       "      <th>3165</th>\n",
       "      <td>272</td>\n",
       "      <td>201903</td>\n",
       "      <td>442.3</td>\n",
       "      <td>50</td>\n",
       "      <td>1.060000</td>\n",
       "      <td>1.905660</td>\n",
       "      <td>4.379208</td>\n",
       "    </tr>\n",
       "    <tr>\n",
       "      <th>3166</th>\n",
       "      <td>272</td>\n",
       "      <td>201904</td>\n",
       "      <td>445.1</td>\n",
       "      <td>54</td>\n",
       "      <td>1.037037</td>\n",
       "      <td>1.909091</td>\n",
       "      <td>4.239048</td>\n",
       "    </tr>\n",
       "    <tr>\n",
       "      <th>3167</th>\n",
       "      <td>272</td>\n",
       "      <td>201905</td>\n",
       "      <td>314.6</td>\n",
       "      <td>34</td>\n",
       "      <td>1.176471</td>\n",
       "      <td>1.775000</td>\n",
       "      <td>4.430986</td>\n",
       "    </tr>\n",
       "    <tr>\n",
       "      <th>3168</th>\n",
       "      <td>272</td>\n",
       "      <td>201906</td>\n",
       "      <td>312.1</td>\n",
       "      <td>34</td>\n",
       "      <td>1.088235</td>\n",
       "      <td>1.891892</td>\n",
       "      <td>4.458571</td>\n",
       "    </tr>\n",
       "  </tbody>\n",
       "</table>\n",
       "<p>3120 rows × 7 columns</p>\n",
       "</div>"
      ],
      "text/plain": [
       "      STORE_NBR  YEAR_MONTH  Total_Sales  No_customers  No_Trans_per_Customer  \\\n",
       "0             1      201807        206.9            49               1.061224   \n",
       "1             1      201808        176.1            42               1.023810   \n",
       "2             1      201809        278.8            59               1.050847   \n",
       "3             1      201810        188.1            44               1.022727   \n",
       "4             1      201811        192.6            46               1.021739   \n",
       "...         ...         ...          ...           ...                    ...   \n",
       "3164        272      201902        395.5            45               1.066667   \n",
       "3165        272      201903        442.3            50               1.060000   \n",
       "3166        272      201904        445.1            54               1.037037   \n",
       "3167        272      201905        314.6            34               1.176471   \n",
       "3168        272      201906        312.1            34               1.088235   \n",
       "\n",
       "      No_Chips_per_Trans  Avg_Price_per_Unit  \n",
       "0               1.192308            3.337097  \n",
       "1               1.255814            3.261111  \n",
       "2               1.209677            3.717333  \n",
       "3               1.288889            3.243103  \n",
       "4               1.212766            3.378947  \n",
       "...                  ...                 ...  \n",
       "3164            1.895833            4.346154  \n",
       "3165            1.905660            4.379208  \n",
       "3166            1.909091            4.239048  \n",
       "3167            1.775000            4.430986  \n",
       "3168            1.891892            4.458571  \n",
       "\n",
       "[3120 rows x 7 columns]"
      ]
     },
     "execution_count": 16,
     "metadata": {},
     "output_type": "execute_result"
    }
   ],
   "source": [
    "full_observ_df"
   ]
  },
  {
   "cell_type": "markdown",
   "id": "6fb43819",
   "metadata": {},
   "source": [
    "#### Pre-trial periods full observation"
   ]
  },
  {
   "cell_type": "code",
   "execution_count": 17,
   "id": "50ba911d",
   "metadata": {},
   "outputs": [],
   "source": [
    "pretrial_full_observ = full_observ_df.loc[full_observ_df['YEAR_MONTH']< 201902]\n"
   ]
  },
  {
   "cell_type": "code",
   "execution_count": 18,
   "id": "a494b86a",
   "metadata": {},
   "outputs": [
    {
     "data": {
      "text/html": [
       "<div>\n",
       "<style scoped>\n",
       "    .dataframe tbody tr th:only-of-type {\n",
       "        vertical-align: middle;\n",
       "    }\n",
       "\n",
       "    .dataframe tbody tr th {\n",
       "        vertical-align: top;\n",
       "    }\n",
       "\n",
       "    .dataframe thead th {\n",
       "        text-align: right;\n",
       "    }\n",
       "</style>\n",
       "<table border=\"1\" class=\"dataframe\">\n",
       "  <thead>\n",
       "    <tr style=\"text-align: right;\">\n",
       "      <th></th>\n",
       "      <th>STORE_NBR</th>\n",
       "      <th>YEAR_MONTH</th>\n",
       "      <th>Total_Sales</th>\n",
       "      <th>No_customers</th>\n",
       "      <th>No_Trans_per_Customer</th>\n",
       "      <th>No_Chips_per_Trans</th>\n",
       "      <th>Avg_Price_per_Unit</th>\n",
       "    </tr>\n",
       "  </thead>\n",
       "  <tbody>\n",
       "    <tr>\n",
       "      <th>0</th>\n",
       "      <td>1</td>\n",
       "      <td>201807</td>\n",
       "      <td>206.9</td>\n",
       "      <td>49</td>\n",
       "      <td>1.061224</td>\n",
       "      <td>1.192308</td>\n",
       "      <td>3.337097</td>\n",
       "    </tr>\n",
       "    <tr>\n",
       "      <th>1</th>\n",
       "      <td>1</td>\n",
       "      <td>201808</td>\n",
       "      <td>176.1</td>\n",
       "      <td>42</td>\n",
       "      <td>1.023810</td>\n",
       "      <td>1.255814</td>\n",
       "      <td>3.261111</td>\n",
       "    </tr>\n",
       "    <tr>\n",
       "      <th>2</th>\n",
       "      <td>1</td>\n",
       "      <td>201809</td>\n",
       "      <td>278.8</td>\n",
       "      <td>59</td>\n",
       "      <td>1.050847</td>\n",
       "      <td>1.209677</td>\n",
       "      <td>3.717333</td>\n",
       "    </tr>\n",
       "    <tr>\n",
       "      <th>3</th>\n",
       "      <td>1</td>\n",
       "      <td>201810</td>\n",
       "      <td>188.1</td>\n",
       "      <td>44</td>\n",
       "      <td>1.022727</td>\n",
       "      <td>1.288889</td>\n",
       "      <td>3.243103</td>\n",
       "    </tr>\n",
       "    <tr>\n",
       "      <th>4</th>\n",
       "      <td>1</td>\n",
       "      <td>201811</td>\n",
       "      <td>192.6</td>\n",
       "      <td>46</td>\n",
       "      <td>1.021739</td>\n",
       "      <td>1.212766</td>\n",
       "      <td>3.378947</td>\n",
       "    </tr>\n",
       "    <tr>\n",
       "      <th>...</th>\n",
       "      <td>...</td>\n",
       "      <td>...</td>\n",
       "      <td>...</td>\n",
       "      <td>...</td>\n",
       "      <td>...</td>\n",
       "      <td>...</td>\n",
       "      <td>...</td>\n",
       "    </tr>\n",
       "    <tr>\n",
       "      <th>3159</th>\n",
       "      <td>272</td>\n",
       "      <td>201809</td>\n",
       "      <td>304.7</td>\n",
       "      <td>32</td>\n",
       "      <td>1.125000</td>\n",
       "      <td>1.972222</td>\n",
       "      <td>4.291549</td>\n",
       "    </tr>\n",
       "    <tr>\n",
       "      <th>3160</th>\n",
       "      <td>272</td>\n",
       "      <td>201810</td>\n",
       "      <td>430.6</td>\n",
       "      <td>44</td>\n",
       "      <td>1.159091</td>\n",
       "      <td>1.980000</td>\n",
       "      <td>4.349495</td>\n",
       "    </tr>\n",
       "    <tr>\n",
       "      <th>3161</th>\n",
       "      <td>272</td>\n",
       "      <td>201811</td>\n",
       "      <td>376.2</td>\n",
       "      <td>41</td>\n",
       "      <td>1.097561</td>\n",
       "      <td>1.933333</td>\n",
       "      <td>4.324138</td>\n",
       "    </tr>\n",
       "    <tr>\n",
       "      <th>3162</th>\n",
       "      <td>272</td>\n",
       "      <td>201812</td>\n",
       "      <td>403.9</td>\n",
       "      <td>47</td>\n",
       "      <td>1.000000</td>\n",
       "      <td>1.893617</td>\n",
       "      <td>4.538202</td>\n",
       "    </tr>\n",
       "    <tr>\n",
       "      <th>3163</th>\n",
       "      <td>272</td>\n",
       "      <td>201901</td>\n",
       "      <td>423.0</td>\n",
       "      <td>46</td>\n",
       "      <td>1.086957</td>\n",
       "      <td>1.920000</td>\n",
       "      <td>4.406250</td>\n",
       "    </tr>\n",
       "  </tbody>\n",
       "</table>\n",
       "<p>1820 rows × 7 columns</p>\n",
       "</div>"
      ],
      "text/plain": [
       "      STORE_NBR  YEAR_MONTH  Total_Sales  No_customers  No_Trans_per_Customer  \\\n",
       "0             1      201807        206.9            49               1.061224   \n",
       "1             1      201808        176.1            42               1.023810   \n",
       "2             1      201809        278.8            59               1.050847   \n",
       "3             1      201810        188.1            44               1.022727   \n",
       "4             1      201811        192.6            46               1.021739   \n",
       "...         ...         ...          ...           ...                    ...   \n",
       "3159        272      201809        304.7            32               1.125000   \n",
       "3160        272      201810        430.6            44               1.159091   \n",
       "3161        272      201811        376.2            41               1.097561   \n",
       "3162        272      201812        403.9            47               1.000000   \n",
       "3163        272      201901        423.0            46               1.086957   \n",
       "\n",
       "      No_Chips_per_Trans  Avg_Price_per_Unit  \n",
       "0               1.192308            3.337097  \n",
       "1               1.255814            3.261111  \n",
       "2               1.209677            3.717333  \n",
       "3               1.288889            3.243103  \n",
       "4               1.212766            3.378947  \n",
       "...                  ...                 ...  \n",
       "3159            1.972222            4.291549  \n",
       "3160            1.980000            4.349495  \n",
       "3161            1.933333            4.324138  \n",
       "3162            1.893617            4.538202  \n",
       "3163            1.920000            4.406250  \n",
       "\n",
       "[1820 rows x 7 columns]"
      ]
     },
     "execution_count": 18,
     "metadata": {},
     "output_type": "execute_result"
    }
   ],
   "source": [
    "pretrial_full_observ"
   ]
  },
  {
   "cell_type": "code",
   "execution_count": 19,
   "id": "5466d14a",
   "metadata": {},
   "outputs": [
    {
     "data": {
      "text/plain": [
       "Index(['STORE_NBR', 'YEAR_MONTH', 'Total_Sales', 'No_customers',\n",
       "       'No_Trans_per_Customer', 'No_Chips_per_Trans', 'Avg_Price_per_Unit'],\n",
       "      dtype='object')"
      ]
     },
     "execution_count": 19,
     "metadata": {},
     "output_type": "execute_result"
    }
   ],
   "source": [
    "pretrial_full_observ.columns"
   ]
  },
  {
   "cell_type": "markdown",
   "id": "3b6bf95b",
   "metadata": {},
   "source": [
    "\n",
    "#### Now to calculate correlated performance of each store is to the trial store. We create a function to calculate correlation for a measure, looping through each control store\n"
   ]
  },
  {
   "cell_type": "code",
   "execution_count": 20,
   "id": "69dd918a",
   "metadata": {},
   "outputs": [],
   "source": [
    "def calc_corr(trial, metricCol, inputTable=pretrial_full_observ):\n",
    "    trial_stores = [77, 86, 88]\n",
    "    # Control stores are all stores but not the trial stores from full obs\n",
    "    control_stores = stores_full_obv[~stores_full_obv.isin(trial_stores)]\n",
    "    \n",
    "    # To get the trial store values\n",
    "    trial_values = inputTable[inputTable['STORE_NBR'] == trial][metricCol].reset_index()\n",
    "    corr_table = pd.DataFrame(columns=['YEAR_MONTH', 'trial_store', 'control_store', 'correlation'])\n",
    "    \n",
    "    # To get the control store values\n",
    "    for control in control_stores:\n",
    "        control_val = inputTable[inputTable['STORE_NBR'] == control][metricCol].reset_index()\n",
    "        corr_control_table = pd.DataFrame(columns=['YEAR_MONTH', 'trial_store', 'control_store', 'correlation'])\n",
    "        corr_control_table['YEAR_MONTH'] = list(inputTable.loc[inputTable.STORE_NBR == control][\"YEAR_MONTH\"])\n",
    "        corr_control_table['trial_store'] = trial  # Corrected here\n",
    "        corr_control_table['control_store'] = control\n",
    "        corr_control_table['correlation'] = control_val.corrwith(trial_values, axis=1)\n",
    "        corr_table = pd.concat([corr_table, corr_control_table])\n",
    "    return corr_table\n"
   ]
  },
  {
   "cell_type": "code",
   "execution_count": 21,
   "id": "ac00730c",
   "metadata": {},
   "outputs": [
    {
     "data": {
      "text/html": [
       "<div>\n",
       "<style scoped>\n",
       "    .dataframe tbody tr th:only-of-type {\n",
       "        vertical-align: middle;\n",
       "    }\n",
       "\n",
       "    .dataframe tbody tr th {\n",
       "        vertical-align: top;\n",
       "    }\n",
       "\n",
       "    .dataframe thead th {\n",
       "        text-align: right;\n",
       "    }\n",
       "</style>\n",
       "<table border=\"1\" class=\"dataframe\">\n",
       "  <thead>\n",
       "    <tr style=\"text-align: right;\">\n",
       "      <th></th>\n",
       "      <th>YEAR_MONTH</th>\n",
       "      <th>trial_store</th>\n",
       "      <th>control_store</th>\n",
       "      <th>correlation</th>\n",
       "    </tr>\n",
       "  </thead>\n",
       "  <tbody>\n",
       "    <tr>\n",
       "      <th>0</th>\n",
       "      <td>201807</td>\n",
       "      <td>77</td>\n",
       "      <td>1</td>\n",
       "      <td>0.070544</td>\n",
       "    </tr>\n",
       "    <tr>\n",
       "      <th>1</th>\n",
       "      <td>201808</td>\n",
       "      <td>77</td>\n",
       "      <td>1</td>\n",
       "      <td>0.027332</td>\n",
       "    </tr>\n",
       "    <tr>\n",
       "      <th>2</th>\n",
       "      <td>201809</td>\n",
       "      <td>77</td>\n",
       "      <td>1</td>\n",
       "      <td>0.002472</td>\n",
       "    </tr>\n",
       "    <tr>\n",
       "      <th>3</th>\n",
       "      <td>201810</td>\n",
       "      <td>77</td>\n",
       "      <td>1</td>\n",
       "      <td>-0.019991</td>\n",
       "    </tr>\n",
       "    <tr>\n",
       "      <th>4</th>\n",
       "      <td>201811</td>\n",
       "      <td>77</td>\n",
       "      <td>1</td>\n",
       "      <td>0.030094</td>\n",
       "    </tr>\n",
       "    <tr>\n",
       "      <th>...</th>\n",
       "      <td>...</td>\n",
       "      <td>...</td>\n",
       "      <td>...</td>\n",
       "      <td>...</td>\n",
       "    </tr>\n",
       "    <tr>\n",
       "      <th>2</th>\n",
       "      <td>201809</td>\n",
       "      <td>88</td>\n",
       "      <td>272</td>\n",
       "      <td>0.533159</td>\n",
       "    </tr>\n",
       "    <tr>\n",
       "      <th>3</th>\n",
       "      <td>201810</td>\n",
       "      <td>88</td>\n",
       "      <td>272</td>\n",
       "      <td>0.591052</td>\n",
       "    </tr>\n",
       "    <tr>\n",
       "      <th>4</th>\n",
       "      <td>201811</td>\n",
       "      <td>88</td>\n",
       "      <td>272</td>\n",
       "      <td>0.566378</td>\n",
       "    </tr>\n",
       "    <tr>\n",
       "      <th>5</th>\n",
       "      <td>201812</td>\n",
       "      <td>88</td>\n",
       "      <td>272</td>\n",
       "      <td>0.594441</td>\n",
       "    </tr>\n",
       "    <tr>\n",
       "      <th>6</th>\n",
       "      <td>201901</td>\n",
       "      <td>88</td>\n",
       "      <td>272</td>\n",
       "      <td>0.621775</td>\n",
       "    </tr>\n",
       "  </tbody>\n",
       "</table>\n",
       "<p>5397 rows × 4 columns</p>\n",
       "</div>"
      ],
      "text/plain": [
       "   YEAR_MONTH trial_store control_store  correlation\n",
       "0      201807          77             1     0.070544\n",
       "1      201808          77             1     0.027332\n",
       "2      201809          77             1     0.002472\n",
       "3      201810          77             1    -0.019991\n",
       "4      201811          77             1     0.030094\n",
       "..        ...         ...           ...          ...\n",
       "2      201809          88           272     0.533159\n",
       "3      201810          88           272     0.591052\n",
       "4      201811          88           272     0.566378\n",
       "5      201812          88           272     0.594441\n",
       "6      201901          88           272     0.621775\n",
       "\n",
       "[5397 rows x 4 columns]"
      ]
     },
     "execution_count": 21,
     "metadata": {},
     "output_type": "execute_result"
    }
   ],
   "source": [
    "# Iterate over trial stores and compute correlations\n",
    "trial_stores = [77, 86, 88]\n",
    "corr_table = pd.DataFrame(columns=['YEAR_MONTH', 'trial_store', 'control_store', 'correlation'])\n",
    "\n",
    "for trial in trial_stores:\n",
    "    corr_fn = calc_corr(\n",
    "        trial, \n",
    "        ['Total_Sales', 'No_customers', 'No_Trans_per_Customer', 'No_Chips_per_Trans', 'Avg_Price_per_Unit']\n",
    "    )\n",
    "    corr_table = pd.concat([corr_table, corr_fn])\n",
    "corr_table"
   ]
  },
  {
   "cell_type": "markdown",
   "id": "c07d3d33",
   "metadata": {},
   "source": [
    "#### Apart from correlation, we can also calculate a standardised metric based on the absolute difference between the trial store’s performance and each control store’s performance. "
   ]
  },
  {
   "cell_type": "code",
   "execution_count": 22,
   "id": "db72311d",
   "metadata": {},
   "outputs": [],
   "source": [
    "def calc_distance(trial, metricCol, inputTable=pretrial_full_observ):\n",
    "    trial_store = [77, 86, 88]\n",
    "    control_stores = stores_full_obv[~stores_full_obv.isin(trial_store)]\n",
    "    \n",
    "    # Trial store data \n",
    "    trial_data = inputTable[inputTable['STORE_NBR'] == trial][['YEAR_MONTH'] + metricCol].reset_index()\n",
    "    dist_table = []\n",
    "    \n",
    "    # To get the control values\n",
    "    for control in control_stores:\n",
    "        control_data = inputTable[inputTable['STORE_NBR'] == control][metricCol].reset_index()\n",
    "        # Compute the absolute distances\n",
    "        distance = abs(trial_data[metricCol] - control_data)\n",
    "        distance['YEAR_MONTH'] = trial_data['YEAR_MONTH']\n",
    "        distance['trial_store'] = trial  # Corrected here\n",
    "        distance['control_store'] = control\n",
    "        # Append\n",
    "        dist_table.append(distance)\n",
    "    # Combine all\n",
    "    dist_table = pd.concat(dist_table, ignore_index=True)\n",
    "    \n",
    "    # Normalize the distance \n",
    "    for col in metricCol:\n",
    "        maxdist = dist_table[col].max()\n",
    "        mindist = dist_table[col].min()\n",
    "        dist_table[col] = 1 - (dist_table[col] - mindist) / (maxdist - mindist)\n",
    "    # Compute average magnitude measure\n",
    "    dist_table[\"mag_measure\"] = dist_table[metricCol].mean(axis=1)\n",
    "    return dist_table\n"
   ]
  },
  {
   "cell_type": "code",
   "execution_count": 23,
   "id": "dbd8d139",
   "metadata": {},
   "outputs": [
    {
     "data": {
      "text/html": [
       "<div>\n",
       "<style scoped>\n",
       "    .dataframe tbody tr th:only-of-type {\n",
       "        vertical-align: middle;\n",
       "    }\n",
       "\n",
       "    .dataframe tbody tr th {\n",
       "        vertical-align: top;\n",
       "    }\n",
       "\n",
       "    .dataframe thead th {\n",
       "        text-align: right;\n",
       "    }\n",
       "</style>\n",
       "<table border=\"1\" class=\"dataframe\">\n",
       "  <thead>\n",
       "    <tr style=\"text-align: right;\">\n",
       "      <th></th>\n",
       "      <th>Avg_Price_per_Unit</th>\n",
       "      <th>No_Chips_per_Trans</th>\n",
       "      <th>No_Trans_per_Customer</th>\n",
       "      <th>No_customers</th>\n",
       "      <th>Total_Sales</th>\n",
       "      <th>index</th>\n",
       "      <th>YEAR_MONTH</th>\n",
       "      <th>trial_store</th>\n",
       "      <th>control_store</th>\n",
       "      <th>mag_measure</th>\n",
       "    </tr>\n",
       "  </thead>\n",
       "  <tbody>\n",
       "    <tr>\n",
       "      <th>0</th>\n",
       "      <td>0.607380</td>\n",
       "      <td>0.222408</td>\n",
       "      <td>0.573684</td>\n",
       "      <td>0.379845</td>\n",
       "      <td>0.218325</td>\n",
       "      <td>NaN</td>\n",
       "      <td>201807</td>\n",
       "      <td>88</td>\n",
       "      <td>1</td>\n",
       "      <td>0.400328</td>\n",
       "    </tr>\n",
       "    <tr>\n",
       "      <th>1</th>\n",
       "      <td>0.539175</td>\n",
       "      <td>0.362760</td>\n",
       "      <td>0.325115</td>\n",
       "      <td>0.310078</td>\n",
       "      <td>0.186721</td>\n",
       "      <td>NaN</td>\n",
       "      <td>201808</td>\n",
       "      <td>88</td>\n",
       "      <td>1</td>\n",
       "      <td>0.344769</td>\n",
       "    </tr>\n",
       "    <tr>\n",
       "      <th>2</th>\n",
       "      <td>0.684957</td>\n",
       "      <td>0.214602</td>\n",
       "      <td>0.209459</td>\n",
       "      <td>0.496124</td>\n",
       "      <td>0.189201</td>\n",
       "      <td>NaN</td>\n",
       "      <td>201809</td>\n",
       "      <td>88</td>\n",
       "      <td>1</td>\n",
       "      <td>0.358869</td>\n",
       "    </tr>\n",
       "    <tr>\n",
       "      <th>3</th>\n",
       "      <td>0.568810</td>\n",
       "      <td>0.278123</td>\n",
       "      <td>0.105528</td>\n",
       "      <td>0.387597</td>\n",
       "      <td>0.174957</td>\n",
       "      <td>NaN</td>\n",
       "      <td>201810</td>\n",
       "      <td>88</td>\n",
       "      <td>1</td>\n",
       "      <td>0.303003</td>\n",
       "    </tr>\n",
       "    <tr>\n",
       "      <th>4</th>\n",
       "      <td>0.573707</td>\n",
       "      <td>0.229761</td>\n",
       "      <td>0.364792</td>\n",
       "      <td>0.348837</td>\n",
       "      <td>0.156604</td>\n",
       "      <td>NaN</td>\n",
       "      <td>201811</td>\n",
       "      <td>88</td>\n",
       "      <td>1</td>\n",
       "      <td>0.334740</td>\n",
       "    </tr>\n",
       "    <tr>\n",
       "      <th>...</th>\n",
       "      <td>...</td>\n",
       "      <td>...</td>\n",
       "      <td>...</td>\n",
       "      <td>...</td>\n",
       "      <td>...</td>\n",
       "      <td>...</td>\n",
       "      <td>...</td>\n",
       "      <td>...</td>\n",
       "      <td>...</td>\n",
       "      <td>...</td>\n",
       "    </tr>\n",
       "    <tr>\n",
       "      <th>1794</th>\n",
       "      <td>0.923887</td>\n",
       "      <td>0.948729</td>\n",
       "      <td>0.462846</td>\n",
       "      <td>0.286822</td>\n",
       "      <td>0.207554</td>\n",
       "      <td>NaN</td>\n",
       "      <td>201809</td>\n",
       "      <td>88</td>\n",
       "      <td>272</td>\n",
       "      <td>0.565968</td>\n",
       "    </tr>\n",
       "    <tr>\n",
       "      <th>1795</th>\n",
       "      <td>0.971133</td>\n",
       "      <td>0.943478</td>\n",
       "      <td>0.571497</td>\n",
       "      <td>0.387597</td>\n",
       "      <td>0.346797</td>\n",
       "      <td>NaN</td>\n",
       "      <td>201810</td>\n",
       "      <td>88</td>\n",
       "      <td>272</td>\n",
       "      <td>0.644101</td>\n",
       "    </tr>\n",
       "    <tr>\n",
       "      <th>1796</th>\n",
       "      <td>0.966999</td>\n",
       "      <td>0.923475</td>\n",
       "      <td>0.623883</td>\n",
       "      <td>0.310078</td>\n",
       "      <td>0.286706</td>\n",
       "      <td>NaN</td>\n",
       "      <td>201811</td>\n",
       "      <td>88</td>\n",
       "      <td>272</td>\n",
       "      <td>0.622228</td>\n",
       "    </tr>\n",
       "    <tr>\n",
       "      <th>1797</th>\n",
       "      <td>0.962198</td>\n",
       "      <td>0.884572</td>\n",
       "      <td>0.376456</td>\n",
       "      <td>0.387597</td>\n",
       "      <td>0.347151</td>\n",
       "      <td>NaN</td>\n",
       "      <td>201812</td>\n",
       "      <td>88</td>\n",
       "      <td>272</td>\n",
       "      <td>0.591595</td>\n",
       "    </tr>\n",
       "    <tr>\n",
       "      <th>1798</th>\n",
       "      <td>0.971335</td>\n",
       "      <td>0.896239</td>\n",
       "      <td>0.450378</td>\n",
       "      <td>0.449612</td>\n",
       "      <td>0.402353</td>\n",
       "      <td>NaN</td>\n",
       "      <td>201901</td>\n",
       "      <td>88</td>\n",
       "      <td>272</td>\n",
       "      <td>0.633983</td>\n",
       "    </tr>\n",
       "  </tbody>\n",
       "</table>\n",
       "<p>1799 rows × 10 columns</p>\n",
       "</div>"
      ],
      "text/plain": [
       "      Avg_Price_per_Unit  No_Chips_per_Trans  No_Trans_per_Customer  \\\n",
       "0               0.607380            0.222408               0.573684   \n",
       "1               0.539175            0.362760               0.325115   \n",
       "2               0.684957            0.214602               0.209459   \n",
       "3               0.568810            0.278123               0.105528   \n",
       "4               0.573707            0.229761               0.364792   \n",
       "...                  ...                 ...                    ...   \n",
       "1794            0.923887            0.948729               0.462846   \n",
       "1795            0.971133            0.943478               0.571497   \n",
       "1796            0.966999            0.923475               0.623883   \n",
       "1797            0.962198            0.884572               0.376456   \n",
       "1798            0.971335            0.896239               0.450378   \n",
       "\n",
       "      No_customers  Total_Sales  index  YEAR_MONTH  trial_store  \\\n",
       "0         0.379845     0.218325    NaN      201807           88   \n",
       "1         0.310078     0.186721    NaN      201808           88   \n",
       "2         0.496124     0.189201    NaN      201809           88   \n",
       "3         0.387597     0.174957    NaN      201810           88   \n",
       "4         0.348837     0.156604    NaN      201811           88   \n",
       "...            ...          ...    ...         ...          ...   \n",
       "1794      0.286822     0.207554    NaN      201809           88   \n",
       "1795      0.387597     0.346797    NaN      201810           88   \n",
       "1796      0.310078     0.286706    NaN      201811           88   \n",
       "1797      0.387597     0.347151    NaN      201812           88   \n",
       "1798      0.449612     0.402353    NaN      201901           88   \n",
       "\n",
       "      control_store  mag_measure  \n",
       "0                 1     0.400328  \n",
       "1                 1     0.344769  \n",
       "2                 1     0.358869  \n",
       "3                 1     0.303003  \n",
       "4                 1     0.334740  \n",
       "...             ...          ...  \n",
       "1794            272     0.565968  \n",
       "1795            272     0.644101  \n",
       "1796            272     0.622228  \n",
       "1797            272     0.591595  \n",
       "1798            272     0.633983  \n",
       "\n",
       "[1799 rows x 10 columns]"
      ]
     },
     "execution_count": 23,
     "metadata": {},
     "output_type": "execute_result"
    }
   ],
   "source": [
    "# Iterate over trial stores and compute correlations\n",
    "trial_stores = [77, 86, 88]\n",
    "\n",
    "for trial in trial_stores:\n",
    "    dist_table = calc_distance(trial,['Total_Sales', 'No_customers', 'No_Trans_per_Customer', 'No_Chips_per_Trans', 'Avg_Price_per_Unit'])\n",
    "dist_table"
   ]
  },
  {
   "cell_type": "code",
   "execution_count": 24,
   "id": "4f7807ca",
   "metadata": {},
   "outputs": [],
   "source": [
    "dist_table = dist_table.drop(['index'],axis=1)"
   ]
  },
  {
   "cell_type": "code",
   "execution_count": 25,
   "id": "50f2b625",
   "metadata": {},
   "outputs": [
    {
     "data": {
      "text/html": [
       "<div>\n",
       "<style scoped>\n",
       "    .dataframe tbody tr th:only-of-type {\n",
       "        vertical-align: middle;\n",
       "    }\n",
       "\n",
       "    .dataframe tbody tr th {\n",
       "        vertical-align: top;\n",
       "    }\n",
       "\n",
       "    .dataframe thead th {\n",
       "        text-align: right;\n",
       "    }\n",
       "</style>\n",
       "<table border=\"1\" class=\"dataframe\">\n",
       "  <thead>\n",
       "    <tr style=\"text-align: right;\">\n",
       "      <th></th>\n",
       "      <th>Avg_Price_per_Unit</th>\n",
       "      <th>No_Chips_per_Trans</th>\n",
       "      <th>No_Trans_per_Customer</th>\n",
       "      <th>No_customers</th>\n",
       "      <th>Total_Sales</th>\n",
       "      <th>YEAR_MONTH</th>\n",
       "      <th>trial_store</th>\n",
       "      <th>control_store</th>\n",
       "      <th>mag_measure</th>\n",
       "    </tr>\n",
       "  </thead>\n",
       "  <tbody>\n",
       "    <tr>\n",
       "      <th>0</th>\n",
       "      <td>0.607380</td>\n",
       "      <td>0.222408</td>\n",
       "      <td>0.573684</td>\n",
       "      <td>0.379845</td>\n",
       "      <td>0.218325</td>\n",
       "      <td>201807</td>\n",
       "      <td>88</td>\n",
       "      <td>1</td>\n",
       "      <td>0.400328</td>\n",
       "    </tr>\n",
       "    <tr>\n",
       "      <th>1</th>\n",
       "      <td>0.539175</td>\n",
       "      <td>0.362760</td>\n",
       "      <td>0.325115</td>\n",
       "      <td>0.310078</td>\n",
       "      <td>0.186721</td>\n",
       "      <td>201808</td>\n",
       "      <td>88</td>\n",
       "      <td>1</td>\n",
       "      <td>0.344769</td>\n",
       "    </tr>\n",
       "    <tr>\n",
       "      <th>2</th>\n",
       "      <td>0.684957</td>\n",
       "      <td>0.214602</td>\n",
       "      <td>0.209459</td>\n",
       "      <td>0.496124</td>\n",
       "      <td>0.189201</td>\n",
       "      <td>201809</td>\n",
       "      <td>88</td>\n",
       "      <td>1</td>\n",
       "      <td>0.358869</td>\n",
       "    </tr>\n",
       "    <tr>\n",
       "      <th>3</th>\n",
       "      <td>0.568810</td>\n",
       "      <td>0.278123</td>\n",
       "      <td>0.105528</td>\n",
       "      <td>0.387597</td>\n",
       "      <td>0.174957</td>\n",
       "      <td>201810</td>\n",
       "      <td>88</td>\n",
       "      <td>1</td>\n",
       "      <td>0.303003</td>\n",
       "    </tr>\n",
       "    <tr>\n",
       "      <th>4</th>\n",
       "      <td>0.573707</td>\n",
       "      <td>0.229761</td>\n",
       "      <td>0.364792</td>\n",
       "      <td>0.348837</td>\n",
       "      <td>0.156604</td>\n",
       "      <td>201811</td>\n",
       "      <td>88</td>\n",
       "      <td>1</td>\n",
       "      <td>0.334740</td>\n",
       "    </tr>\n",
       "    <tr>\n",
       "      <th>...</th>\n",
       "      <td>...</td>\n",
       "      <td>...</td>\n",
       "      <td>...</td>\n",
       "      <td>...</td>\n",
       "      <td>...</td>\n",
       "      <td>...</td>\n",
       "      <td>...</td>\n",
       "      <td>...</td>\n",
       "      <td>...</td>\n",
       "    </tr>\n",
       "    <tr>\n",
       "      <th>1794</th>\n",
       "      <td>0.923887</td>\n",
       "      <td>0.948729</td>\n",
       "      <td>0.462846</td>\n",
       "      <td>0.286822</td>\n",
       "      <td>0.207554</td>\n",
       "      <td>201809</td>\n",
       "      <td>88</td>\n",
       "      <td>272</td>\n",
       "      <td>0.565968</td>\n",
       "    </tr>\n",
       "    <tr>\n",
       "      <th>1795</th>\n",
       "      <td>0.971133</td>\n",
       "      <td>0.943478</td>\n",
       "      <td>0.571497</td>\n",
       "      <td>0.387597</td>\n",
       "      <td>0.346797</td>\n",
       "      <td>201810</td>\n",
       "      <td>88</td>\n",
       "      <td>272</td>\n",
       "      <td>0.644101</td>\n",
       "    </tr>\n",
       "    <tr>\n",
       "      <th>1796</th>\n",
       "      <td>0.966999</td>\n",
       "      <td>0.923475</td>\n",
       "      <td>0.623883</td>\n",
       "      <td>0.310078</td>\n",
       "      <td>0.286706</td>\n",
       "      <td>201811</td>\n",
       "      <td>88</td>\n",
       "      <td>272</td>\n",
       "      <td>0.622228</td>\n",
       "    </tr>\n",
       "    <tr>\n",
       "      <th>1797</th>\n",
       "      <td>0.962198</td>\n",
       "      <td>0.884572</td>\n",
       "      <td>0.376456</td>\n",
       "      <td>0.387597</td>\n",
       "      <td>0.347151</td>\n",
       "      <td>201812</td>\n",
       "      <td>88</td>\n",
       "      <td>272</td>\n",
       "      <td>0.591595</td>\n",
       "    </tr>\n",
       "    <tr>\n",
       "      <th>1798</th>\n",
       "      <td>0.971335</td>\n",
       "      <td>0.896239</td>\n",
       "      <td>0.450378</td>\n",
       "      <td>0.449612</td>\n",
       "      <td>0.402353</td>\n",
       "      <td>201901</td>\n",
       "      <td>88</td>\n",
       "      <td>272</td>\n",
       "      <td>0.633983</td>\n",
       "    </tr>\n",
       "  </tbody>\n",
       "</table>\n",
       "<p>1799 rows × 9 columns</p>\n",
       "</div>"
      ],
      "text/plain": [
       "      Avg_Price_per_Unit  No_Chips_per_Trans  No_Trans_per_Customer  \\\n",
       "0               0.607380            0.222408               0.573684   \n",
       "1               0.539175            0.362760               0.325115   \n",
       "2               0.684957            0.214602               0.209459   \n",
       "3               0.568810            0.278123               0.105528   \n",
       "4               0.573707            0.229761               0.364792   \n",
       "...                  ...                 ...                    ...   \n",
       "1794            0.923887            0.948729               0.462846   \n",
       "1795            0.971133            0.943478               0.571497   \n",
       "1796            0.966999            0.923475               0.623883   \n",
       "1797            0.962198            0.884572               0.376456   \n",
       "1798            0.971335            0.896239               0.450378   \n",
       "\n",
       "      No_customers  Total_Sales  YEAR_MONTH  trial_store  control_store  \\\n",
       "0         0.379845     0.218325      201807           88              1   \n",
       "1         0.310078     0.186721      201808           88              1   \n",
       "2         0.496124     0.189201      201809           88              1   \n",
       "3         0.387597     0.174957      201810           88              1   \n",
       "4         0.348837     0.156604      201811           88              1   \n",
       "...            ...          ...         ...          ...            ...   \n",
       "1794      0.286822     0.207554      201809           88            272   \n",
       "1795      0.387597     0.346797      201810           88            272   \n",
       "1796      0.310078     0.286706      201811           88            272   \n",
       "1797      0.387597     0.347151      201812           88            272   \n",
       "1798      0.449612     0.402353      201901           88            272   \n",
       "\n",
       "      mag_measure  \n",
       "0        0.400328  \n",
       "1        0.344769  \n",
       "2        0.358869  \n",
       "3        0.303003  \n",
       "4        0.334740  \n",
       "...           ...  \n",
       "1794     0.565968  \n",
       "1795     0.644101  \n",
       "1796     0.622228  \n",
       "1797     0.591595  \n",
       "1798     0.633983  \n",
       "\n",
       "[1799 rows x 9 columns]"
      ]
     },
     "execution_count": 25,
     "metadata": {},
     "output_type": "execute_result"
    }
   ],
   "source": [
    "dist_table"
   ]
  },
  {
   "cell_type": "code",
   "execution_count": 26,
   "id": "a86ef38b",
   "metadata": {},
   "outputs": [
    {
     "name": "stdout",
     "output_type": "stream",
     "text": [
      "<class 'pandas.core.frame.DataFrame'>\n",
      "RangeIndex: 1799 entries, 0 to 1798\n",
      "Data columns (total 9 columns):\n",
      " #   Column                 Non-Null Count  Dtype  \n",
      "---  ------                 --------------  -----  \n",
      " 0   Avg_Price_per_Unit     1799 non-null   float64\n",
      " 1   No_Chips_per_Trans     1799 non-null   float64\n",
      " 2   No_Trans_per_Customer  1799 non-null   float64\n",
      " 3   No_customers           1799 non-null   float64\n",
      " 4   Total_Sales            1799 non-null   float64\n",
      " 5   YEAR_MONTH             1799 non-null   int64  \n",
      " 6   trial_store            1799 non-null   int64  \n",
      " 7   control_store          1799 non-null   int64  \n",
      " 8   mag_measure            1799 non-null   float64\n",
      "dtypes: float64(6), int64(3)\n",
      "memory usage: 126.6 KB\n"
     ]
    }
   ],
   "source": [
    "dist_table.info()"
   ]
  },
  {
   "cell_type": "code",
   "execution_count": 27,
   "id": "eb939f05",
   "metadata": {},
   "outputs": [
    {
     "data": {
      "text/plain": [
       "Index(['Avg_Price_per_Unit', 'No_Chips_per_Trans', 'No_Trans_per_Customer',\n",
       "       'No_customers', 'Total_Sales', 'YEAR_MONTH', 'trial_store',\n",
       "       'control_store', 'mag_measure'],\n",
       "      dtype='object')"
      ]
     },
     "execution_count": 27,
     "metadata": {},
     "output_type": "execute_result"
    }
   ],
   "source": [
    "dist_table.columns"
   ]
  },
  {
   "cell_type": "code",
   "execution_count": 28,
   "id": "a2a8eb50",
   "metadata": {},
   "outputs": [
    {
     "data": {
      "text/plain": [
       "Index(['YEAR_MONTH', 'trial_store', 'control_store', 'correlation'], dtype='object')"
      ]
     },
     "execution_count": 28,
     "metadata": {},
     "output_type": "execute_result"
    }
   ],
   "source": [
    "corr_table.columns"
   ]
  },
  {
   "cell_type": "markdown",
   "id": "6be2d4ec",
   "metadata": {},
   "source": [
    "#### To select control stores based on how similar monthly total sales in and monthly number of customers are to the trial stores,"
   ]
  },
  {
   "cell_type": "markdown",
   "id": "673db55e",
   "metadata": {},
   "source": [
    "####  - Use the functions for calculating correlations\n",
    "#### - Use the functions for calculating magnitude\n",
    "#### - Create a combined score composed of correlation and magnitude"
   ]
  },
  {
   "cell_type": "code",
   "execution_count": 29,
   "id": "4c62a801",
   "metadata": {},
   "outputs": [],
   "source": [
    "def calc_corr_distance_score(trial, metricCol, inputTable=pretrial_full_observ):\n",
    "    # correlation: Measures how closely the trends in the control store's data align with the trial store.\n",
    "    corr_values = calc_corr(trial, metricCol, inputTable=pretrial_full_observ)\n",
    "    \n",
    "    # Distance magnitude: Represents the normalized difference between the trial and control store's metric values.\n",
    "    distance_values = calc_distance(trial, metricCol, inputTable=pretrial_full_observ)\n",
    "    distance_values = distance_values.drop(metricCol, axis=1)\n",
    "    \n",
    "    # Combine correlation and distance values into one DataFrame\n",
    "    merged_values_df = pd.merge(corr_values, distance_values, on=['YEAR_MONTH', 'trial_store', 'control_store'])\n",
    "    \n",
    "    # Using this combined DataFrame, calculate the avg correlation and distance values for the pre-trial period\n",
    "    avg_merged_values = merged_values_df.groupby(['trial_store', 'control_store']).mean().reset_index()\n",
    "    \n",
    "    # To find weighted average of two metrics,\n",
    "    # A weighting factor to decide how much importance to give to the correlation relative to the magnitude measure.\n",
    "    weight = 0.5  # both metrics (correlation and magnitude) are equally important.\n",
    "    avg_merged_values['combined_score'] = weight * avg_merged_values['correlation'] + (1 - weight) * avg_merged_values['mag_measure']\n",
    "    \n",
    "    # avg_merged_values: a table with the correlations, distance, and scores averaged over the pretrial months for each store\n",
    "    return avg_merged_values\n"
   ]
  },
  {
   "cell_type": "markdown",
   "id": "b662ec09",
   "metadata": {},
   "source": [
    "#### Function to output the 5 stores with the highest averaged scores combining the total sales and n customers for a given trial store over the pre-trial period \n"
   ]
  },
  {
   "cell_type": "code",
   "execution_count": 30,
   "id": "36083eeb",
   "metadata": {},
   "outputs": [],
   "source": [
    "def find_highestscore(trial):\n",
    "    # Obtain the scores for total_sales and n_cutsomers \n",
    "    scores_totalsales = calc_corr_distance_score(trial,['Total_Sales'])\n",
    "    scores_ncutomers = calc_corr_distance_score(trial,['No_customers'])\n",
    "    # A table to stroe values\n",
    "    scores_df = pd.DataFrame()\n",
    "    scores_df['control_store'] = scores_totalsales.control_store\n",
    "    # Calculate the composite scores \n",
    "    scores_df['correlation'] = 0.5*scores_totalsales.correlation + 0.5*scores_ncutomers.correlation\n",
    "    scores_df['mag_measure'] = 0.5*scores_totalsales.mag_measure + 0.5*scores_ncutomers.mag_measure\n",
    "    scores_df['scores'] = 0.5*scores_totalsales.combined_score + 0.5*scores_ncutomers.combined_score\n",
    "    \n",
    "    return(scores_df.sort_values(by = 'scores', ascending = False).reset_index(drop = True).head(5))\n",
    "    \n",
    "    "
   ]
  },
  {
   "cell_type": "markdown",
   "id": "5d4a5010",
   "metadata": {},
   "source": [
    "#### To find the control stores with the highest scores for each of the trial stores"
   ]
  },
  {
   "cell_type": "code",
   "execution_count": 31,
   "id": "95f2bd9e",
   "metadata": {},
   "outputs": [
    {
     "name": "stdout",
     "output_type": "stream",
     "text": [
      "Trial store:  77\n",
      "   control_store  correlation  mag_measure    scores\n",
      "0            233          1.0     0.989804  0.994902\n",
      "1             41          1.0     0.972041  0.986020\n",
      "2             46          1.0     0.969523  0.984762\n",
      "3             53          1.0     0.968421  0.984211\n",
      "4            111          1.0     0.967981  0.983991\n",
      "\n",
      "Trial store:  86\n",
      "   control_store  correlation  mag_measure    scores\n",
      "0            155          1.0     0.976324  0.988162\n",
      "1            109          1.0     0.968180  0.984090\n",
      "2            225          1.0     0.965044  0.982522\n",
      "3            229          1.0     0.957995  0.978997\n",
      "4            101          1.0     0.945394  0.972697\n",
      "\n",
      "Trial store:  88\n",
      "   control_store  correlation  mag_measure    scores\n",
      "0             40          1.0     0.941789  0.970895\n",
      "1             26          1.0     0.917859  0.958929\n",
      "2             72          1.0     0.908157  0.954079\n",
      "3             58          1.0     0.900435  0.950217\n",
      "4             81          1.0     0.887572  0.943786\n",
      "\n"
     ]
    }
   ],
   "source": [
    "trial_stores = [77, 86, 88]\n",
    "for trial in trial_stores:\n",
    "    print('Trial store: ', trial)\n",
    "    print(find_highestscore(trial))\n",
    "    print()"
   ]
  },
  {
   "cell_type": "markdown",
   "id": "044c3c7c",
   "metadata": {},
   "source": [
    "From the above output, the control stores with the highest scores for each of the trial stores are:\n",
    "\n",
    "- Store 233 for trial store 77\n",
    "- Store 155 for trial store 86\n",
    "- Store 40 for trial stre 88"
   ]
  },
  {
   "cell_type": "markdown",
   "id": "9aa1a867",
   "metadata": {},
   "source": [
    "#### To get the metrics before trial"
   ]
  },
  {
   "cell_type": "code",
   "execution_count": 32,
   "id": "826ccace",
   "metadata": {},
   "outputs": [
    {
     "data": {
      "text/html": [
       "<div>\n",
       "<style scoped>\n",
       "    .dataframe tbody tr th:only-of-type {\n",
       "        vertical-align: middle;\n",
       "    }\n",
       "\n",
       "    .dataframe tbody tr th {\n",
       "        vertical-align: top;\n",
       "    }\n",
       "\n",
       "    .dataframe thead th {\n",
       "        text-align: right;\n",
       "    }\n",
       "</style>\n",
       "<table border=\"1\" class=\"dataframe\">\n",
       "  <thead>\n",
       "    <tr style=\"text-align: right;\">\n",
       "      <th></th>\n",
       "      <th>STORE_NBR</th>\n",
       "      <th>YEAR_MONTH</th>\n",
       "      <th>Total_Sales</th>\n",
       "      <th>No_customers</th>\n",
       "      <th>No_Trans_per_Customer</th>\n",
       "      <th>No_Chips_per_Trans</th>\n",
       "      <th>Avg_Price_per_Unit</th>\n",
       "    </tr>\n",
       "  </thead>\n",
       "  <tbody>\n",
       "    <tr>\n",
       "      <th>0</th>\n",
       "      <td>1</td>\n",
       "      <td>201807</td>\n",
       "      <td>206.9</td>\n",
       "      <td>49</td>\n",
       "      <td>1.061224</td>\n",
       "      <td>1.192308</td>\n",
       "      <td>3.337097</td>\n",
       "    </tr>\n",
       "    <tr>\n",
       "      <th>1</th>\n",
       "      <td>1</td>\n",
       "      <td>201808</td>\n",
       "      <td>176.1</td>\n",
       "      <td>42</td>\n",
       "      <td>1.023810</td>\n",
       "      <td>1.255814</td>\n",
       "      <td>3.261111</td>\n",
       "    </tr>\n",
       "    <tr>\n",
       "      <th>2</th>\n",
       "      <td>1</td>\n",
       "      <td>201809</td>\n",
       "      <td>278.8</td>\n",
       "      <td>59</td>\n",
       "      <td>1.050847</td>\n",
       "      <td>1.209677</td>\n",
       "      <td>3.717333</td>\n",
       "    </tr>\n",
       "  </tbody>\n",
       "</table>\n",
       "</div>"
      ],
      "text/plain": [
       "   STORE_NBR  YEAR_MONTH  Total_Sales  No_customers  No_Trans_per_Customer  \\\n",
       "0          1      201807        206.9            49               1.061224   \n",
       "1          1      201808        176.1            42               1.023810   \n",
       "2          1      201809        278.8            59               1.050847   \n",
       "\n",
       "   No_Chips_per_Trans  Avg_Price_per_Unit  \n",
       "0            1.192308            3.337097  \n",
       "1            1.255814            3.261111  \n",
       "2            1.209677            3.717333  "
      ]
     },
     "execution_count": 32,
     "metadata": {},
     "output_type": "execute_result"
    }
   ],
   "source": [
    "pretrial_full_observ.head(3)"
   ]
  },
  {
   "cell_type": "code",
   "execution_count": 33,
   "id": "434400b7",
   "metadata": {},
   "outputs": [
    {
     "data": {
      "image/png": "[encoded data removed]",
      "text/plain": [
       "<Figure size 432x288 with 1 Axes>"
      ]
     },
     "metadata": {
      "needs_background": "light"
     },
     "output_type": "display_data"
    },
    {
     "data": {
      "image/png": "[encoded data removed]",
      "text/plain": [
       "<Figure size 432x288 with 1 Axes>"
      ]
     },
     "metadata": {
      "needs_background": "light"
     },
     "output_type": "display_data"
    },
    {
     "name": "stdout",
     "output_type": "stream",
     "text": [
      "\n",
      "\n"
     ]
    },
    {
     "data": {
      "image/png": "[encoded data removed]",
      "text/plain": [
       "<Figure size 432x288 with 1 Axes>"
      ]
     },
     "metadata": {
      "needs_background": "light"
     },
     "output_type": "display_data"
    },
    {
     "data": {
      "image/png": "[encoded data removed]",
      "text/plain": [
       "<Figure size 432x288 with 1 Axes>"
      ]
     },
     "metadata": {
      "needs_background": "light"
     },
     "output_type": "display_data"
    },
    {
     "name": "stdout",
     "output_type": "stream",
     "text": [
      "\n",
      "\n"
     ]
    },
    {
     "data": {
      "image/png": "[encoded data removed]",
      "text/plain": [
       "<Figure size 432x288 with 1 Axes>"
      ]
     },
     "metadata": {
      "needs_background": "light"
     },
     "output_type": "display_data"
    },
    {
     "data": {
      "image/png": "[encoded data removed]",
      "text/plain": [
       "<Figure size 432x288 with 1 Axes>"
      ]
     },
     "metadata": {
      "needs_background": "light"
     },
     "output_type": "display_data"
    },
    {
     "name": "stdout",
     "output_type": "stream",
     "text": [
      "\n",
      "\n"
     ]
    }
   ],
   "source": [
    "# To plot the graphs comparing the total sales and no of customers between the trail and control stores\n",
    "combo_dict = {77:233,85:155,88:40}\n",
    "\n",
    "for key,value in combo_dict.items():\n",
    "    # For total sales\n",
    "    pretrial_full_observ[pretrial_full_observ['STORE_NBR'].isin([77,233])].groupby(['YEAR_MONTH','STORE_NBR']).sum()['Total_Sales'].unstack().plot.bar(color=['darkblue', 'lightblue'])\n",
    "    # This keeps only the rows where STORE_NBR is equal to either key (trial store) and val (control store).\n",
    "    plt.legend(loc='center left', bbox_to_anchor=(1.0, 0.5))\n",
    "    plt.title('Trial store'+ ' ' + str(key) +' '+ 'and control store' + ' ' + str(value)+' '+ '- Total sales')\n",
    "    plt.show()\n",
    "    \n",
    "    # For n customers\n",
    "    pretrial_full_observ[pretrial_full_observ['STORE_NBR'].isin([77,233])].groupby(['YEAR_MONTH','STORE_NBR']).sum()['No_customers'].unstack().plot.bar(color=['black', 'grey'])\n",
    "    plt.legend(loc='center left', bbox_to_anchor=(1.0, 0.5))\n",
    "    plt.title('Trial store'+ ' ' + str(key) +' '+ 'and control store' + ' ' + str(value)+' '+ '- No of customers')\n",
    "    plt.show()\n",
    "    print('\\n')"
   ]
  },
  {
   "cell_type": "markdown",
   "id": "6cd373eb",
   "metadata": {},
   "source": [
    "#### Now, to compare the performance of Trial stores to Control stores during the trial period."
   ]
  },
  {
   "cell_type": "markdown",
   "id": "369eb4fe",
   "metadata": {},
   "source": [
    "#### Control stores may have different sales volumes than trial stores. To make them comparable, a scaling factor is applied based on pre-trial data, to scale the sales of control stores using the calculated scaling factors. "
   ]
  },
  {
   "cell_type": "markdown",
   "id": "ac7a26fd",
   "metadata": {},
   "source": [
    "\n",
    "\n",
    "For total sales\n",
    "\n",
    "- Calculate scaling factors for each trial-control store pair based on their total pre-trial sales.\n",
    "- Control store sales are scaled using a ratio of total pre-trial sales between the trial and control stores.\n",
    "- Scaled Sales (Control) = Sales (Control)× (Total Sales (Control)/Total Sales (Trial))"
   ]
  },
  {
   "cell_type": "code",
   "execution_count": 34,
   "id": "c2af1d98",
   "metadata": {},
   "outputs": [],
   "source": [
    "# Scaling factor = (Total sales of trial store) ÷ (Total sales of control store)\n",
    "\n",
    "# Ratio of Store 77 and its Control store 233.\n",
    "tsales_ratio77 = pretrial_full_observ[pretrial_full_observ['STORE_NBR']== 77]['Total_Sales'].sum()/pretrial_full_observ[pretrial_full_observ['STORE_NBR']==233]['Total_Sales'].sum()\n",
    "# Ratio of Store 86 and its Control store 155.\n",
    "tsales_ratio86 = pretrial_full_observ[pretrial_full_observ['STORE_NBR']== 86]['Total_Sales'].sum()/pretrial_full_observ[pretrial_full_observ['STORE_NBR']==155]['Total_Sales'].sum()\n",
    "# Ratio of Store 88 and its Control store 40.\n",
    "tsales_ratio88 = pretrial_full_observ[pretrial_full_observ['STORE_NBR']==88]['Total_Sales'].sum()/pretrial_full_observ[pretrial_full_observ['STORE_NBR']==40]['Total_Sales'].sum()\n"
   ]
  },
  {
   "cell_type": "markdown",
   "id": "e300c0e4",
   "metadata": {},
   "source": [
    "#### We want sales performance between trial stores and their respective control stores during the trial period"
   ]
  },
  {
   "cell_type": "code",
   "execution_count": 66,
   "id": "1fec69df",
   "metadata": {},
   "outputs": [
    {
     "name": "stdout",
     "output_type": "stream",
     "text": [
      "Trial Store: 77\n",
      "     STORE_NBR  YEAR_MONTH  Total_Sales\n",
      "887         77      201902        235.0\n",
      "888         77      201903        278.5\n",
      "889         77      201904        263.5\n",
      "Control Store: 233\n",
      "      STORE_NBR  YEAR_MONTH  Total_Sales  scaled_values\n",
      "2706        233      201902        244.0     249.762622\n",
      "2707        233      201903        199.1     203.802205\n",
      "2708        233      201904        158.6     162.345704\n"
     ]
    },
    {
     "data": {
      "image/png": "[encoded data removed]",
      "text/plain": [
       "<Figure size 576x432 with 1 Axes>"
      ]
     },
     "metadata": {
      "needs_background": "light"
     },
     "output_type": "display_data"
    },
    {
     "name": "stdout",
     "output_type": "stream",
     "text": [
      "Trial Store: 86\n",
      "     STORE_NBR  YEAR_MONTH  Total_Sales\n",
      "984         86      201902        913.2\n",
      "985         86      201903       1026.8\n",
      "986         86      201904        848.2\n",
      "Control Store: 155\n",
      "      STORE_NBR  YEAR_MONTH  Total_Sales  scaled_values\n",
      "1800        155      201902        891.2     864.522060\n",
      "1801        155      201903        804.4     780.320405\n",
      "1802        155      201904        844.6     819.317024\n"
     ]
    },
    {
     "data": {
      "image/png": "[encoded data removed]",
      "text/plain": [
       "<Figure size 576x432 with 1 Axes>"
      ]
     },
     "metadata": {
      "needs_background": "light"
     },
     "output_type": "display_data"
    },
    {
     "name": "stdout",
     "output_type": "stream",
     "text": [
      "Trial Store: 88\n",
      "      STORE_NBR  YEAR_MONTH  Total_Sales\n",
      "1008         88      201902       1370.2\n",
      "1009         88      201903       1477.2\n",
      "1010         88      201904       1439.4\n",
      "Control Store: 40\n",
      "     STORE_NBR  YEAR_MONTH  Total_Sales  scaled_values\n",
      "455         40      201902       1355.4    1434.399269\n",
      "456         40      201903       1277.6    1352.064709\n",
      "457         40      201904       1249.0    1321.797762\n"
     ]
    },
    {
     "data": {
      "image/png": "[encoded data removed]",
      "text/plain": [
       "<Figure size 576x432 with 1 Axes>"
      ]
     },
     "metadata": {
      "needs_background": "light"
     },
     "output_type": "display_data"
    }
   ],
   "source": [
    "# Extract the control store data from the df and scale according to the trial store\n",
    "\n",
    "trial_full_observ = full_observ_df[(full_observ_df['YEAR_MONTH']>= 201902) & (full_observ_df['YEAR_MONTH']<= 201904)]\n",
    "scaled_sales_control = full_observ_df[full_observ_df['STORE_NBR'].isin([233,155,40])][['STORE_NBR','YEAR_MONTH','Total_Sales']]\n",
    "\n",
    "def scale(store):\n",
    "    if store['STORE_NBR'] == 233:\n",
    "        return store['Total_Sales']*tsales_ratio77\n",
    "    elif store['STORE_NBR'] == 155:\n",
    "        return store['Total_Sales']*tsales_ratio86\n",
    "    elif store['STORE_NBR'] == 40:\n",
    "        return store['Total_Sales']*tsales_ratio88\n",
    "    return\n",
    "\n",
    "scaled_sales_control['scaled_values'] = scaled_sales_control.apply(lambda store: scale(store), axis =1)\n",
    "# During trial period\n",
    "trial_scaled_sales_control = scaled_sales_control[(scaled_sales_control['YEAR_MONTH']>=201902) & (scaled_sales_control['YEAR_MONTH']<=201904)]\n",
    "# During pre trial\n",
    "pretrial_scaled_sales_control = scaled_sales_control[(scaled_sales_control['YEAR_MONTH']<201902)]\n",
    "\n",
    "# To store the percentage difference in sales between the trial and scaled control stores for each trial store,\n",
    "percentage_dict = {}\n",
    "\n",
    "combo_dict = {77:233,86:155,88:40}\n",
    "\n",
    "for trial,control in combo_dict.items():\n",
    "    # To get scaled sales for the control store corresponding to the current trial store during the trial period.\n",
    "    control_data = trial_scaled_sales_control[trial_scaled_sales_control['STORE_NBR'] == control]\n",
    "    # To get sales for the current trial store during the trial period.\n",
    "    trial_data = trial_full_observ[trial_full_observ['STORE_NBR'] == trial][[\"STORE_NBR\", \"YEAR_MONTH\", \"Total_Sales\"]]\n",
    "    # percentage diff = total sales of trial store / total scaled sales of control store\n",
    "    percentage_dict[trial] = trial_data['Total_Sales'].sum() / control_data['scaled_values'].sum()\n",
    "    \n",
    "    print(f\"Trial Store: {trial}\")\n",
    "    print(trial_data)\n",
    "    print(f\"Control Store: {control}\")\n",
    "    print(control_data)\n",
    "    \n",
    "    # merge the datas\n",
    "    trial_data[[\"YEAR_MONTH\", \"Total_Sales\"]].merge(control_data[[\"YEAR_MONTH\", \"scaled_values\"]],on=\"YEAR_MONTH\").set_index(\"YEAR_MONTH\").rename(columns={\"scaled_values\":\"scaled_control_values\", \"Total_Sales\":\"Trial_Sales\"}).plot(kind='bar', figsize=(8, 6), color=[\"darkblue\", \"blue\"])\n",
    "    plt.legend(loc='center left', bbox_to_anchor=(1.0, 0.5))\n",
    "    plt.title(\"Trial Store \"+str(trial)+\" and Control Store \"+str(control))\n",
    "    plt.show()\n",
    "\n",
    "\n"
   ]
  },
  {
   "cell_type": "code",
   "execution_count": 36,
   "id": "fd6ba2d3",
   "metadata": {},
   "outputs": [
    {
     "data": {
      "text/plain": [
       "{77: 1.2615468650086281, 86: 1.1315014357363697, 88: 1.043458345854219}"
      ]
     },
     "execution_count": 36,
     "metadata": {},
     "output_type": "execute_result"
    }
   ],
   "source": [
    "percentage_dict"
   ]
  },
  {
   "cell_type": "markdown",
   "id": "7028029d",
   "metadata": {},
   "source": [
    "#### The null hypothesis is that there is no difference in sales between pre-trial and trial periods for control stores. That is, trial stores and their control stores have no significant difference during the pre-trial period."
   ]
  },
  {
   "cell_type": "markdown",
   "id": "e386cbaf",
   "metadata": {},
   "source": [
    "For this, \n",
    "- Pre-Trial vs. Trial Period for Control Stores: We need control store sales difference in trial and pre trial periods, T-test is applied to compare scaled sales of the control stores for these periods. \n",
    "- Pre-Trial Similarity Between Trial and Control Stores: T-test compares the actual sales of trial stores with the scaled sales of control stores.\n",
    "- Trial vs. Pre-Trial Percentage Difference: \n"
   ]
  },
  {
   "cell_type": "markdown",
   "id": "2fe67d06",
   "metadata": {},
   "source": [
    "#### To check null hypothesis of 0 difference between control store's Pre-Trial and Trial period performance. "
   ]
  },
  {
   "cell_type": "code",
   "execution_count": 37,
   "id": "28f6a8ea",
   "metadata": {},
   "outputs": [],
   "source": [
    "from scipy.stats import ttest_ind, t"
   ]
  },
  {
   "cell_type": "code",
   "execution_count": 38,
   "id": "2ae7940e",
   "metadata": {},
   "outputs": [
    {
     "data": {
      "text/plain": [
       "Index(['STORE_NBR', 'YEAR_MONTH', 'Total_Sales', 'scaled_values'], dtype='object')"
      ]
     },
     "execution_count": 38,
     "metadata": {},
     "output_type": "execute_result"
    }
   ],
   "source": [
    "trial_scaled_sales_control.columns"
   ]
  },
  {
   "cell_type": "code",
   "execution_count": 39,
   "id": "247f03f4",
   "metadata": {},
   "outputs": [
    {
     "name": "stdout",
     "output_type": "stream",
     "text": [
      "Store 40:\n",
      "t-statistic = -0.5958, p-value = 0.5723\n",
      "Result: No significant difference (p >= 0.05)\n",
      "\n",
      "Store 155:\n",
      "t-statistic = 1.4292, p-value = 0.1973\n",
      "Result: No significant difference (p >= 0.05)\n",
      "\n",
      "Store 233:\n",
      "t-statistic = 1.1911, p-value = 0.2945\n",
      "Result: No significant difference (p >= 0.05)\n",
      "\n"
     ]
    }
   ],
   "source": [
    "# Step 1\n",
    "\n",
    "alpha = 0.05\n",
    "store_ids = [40, 155, 233]\n",
    "\n",
    "for num in store_ids:\n",
    "    pre_data = pretrial_scaled_sales_control[pretrial_scaled_sales_control[\"STORE_NBR\"] == num][\"scaled_values\"]\n",
    "    trial_data = trial_scaled_sales_control[trial_scaled_sales_control[\"STORE_NBR\"] == num][\"scaled_values\"]\n",
    "    \n",
    "    # Perform t-test\n",
    "    t_stat, p_value = ttest_ind(pre_data, trial_data, equal_var=False)\n",
    "    \n",
    "    print(f\"Store {num}:\")\n",
    "    print(f\"t-statistic = {t_stat:.4f}, p-value = {p_value:.4f}\")\n",
    "    \n",
    "    # Check significance\n",
    "    if p_value < alpha:\n",
    "        print(f\"Result: Significant difference (p < {alpha})\\n\")\n",
    "    else:\n",
    "        print(f\"Result: No significant difference (p >= {alpha})\\n\" )\n"
   ]
  },
  {
   "cell_type": "markdown",
   "id": "31e7d24c",
   "metadata": {},
   "source": [
    "#### Null hypothesis is true. There isn't any statistically significant difference between control store's scaled Pre-Trial and Trial period sales."
   ]
  },
  {
   "cell_type": "markdown",
   "id": "60c0ca4e",
   "metadata": {},
   "source": [
    "#### Proof control and trial stores are similar statistically during the pre-trial period.\n"
   ]
  },
  {
   "cell_type": "code",
   "execution_count": 85,
   "id": "35de711f",
   "metadata": {},
   "outputs": [
    {
     "name": "stdout",
     "output_type": "stream",
     "text": [
      "Trial store: 77 , Control store: 233\n",
      "Ttest_indResult(statistic=-1.2533353315065932e-15, pvalue=0.999999999999999) \n",
      "\n",
      "Result: Statistically similar (p >= alpha)\n",
      "\n",
      "Trial store: 86 , Control store: 155\n",
      "Ttest_indResult(statistic=3.1048311203382156e-15, pvalue=0.9999999999999976) \n",
      "\n",
      "Result: Statistically similar (p >= alpha)\n",
      "\n",
      "Trial store: 88 , Control store: 40\n",
      "Ttest_indResult(statistic=-5.69358613974361e-15, pvalue=0.9999999999999956) \n",
      "\n",
      "Result: Statistically similar (p >= alpha)\n",
      "\n",
      "Critical t-value for 95% confidence interval:\n",
      "[-2.44691185  2.44691185]\n"
     ]
    }
   ],
   "source": [
    "# Step 2\n",
    "for trial, cont in combo_dict.items():\n",
    "    print(\"Trial store:\", trial, \", Control store:\", cont)\n",
    "    # Extract pre-trial data and Perform t-test\n",
    "    print(ttest_ind(pretrial_full_observ[pretrial_full_observ[\"STORE_NBR\"] == trial][\"Total_Sales\"],\n",
    "                   pretrial_scaled_sales_control[pretrial_scaled_sales_control[\"STORE_NBR\"] == cont][\"scaled_values\"],\n",
    "                   equal_var=True), '\\n')\n",
    "    \n",
    "    t_stat, p_value = ttest_ind(trial_sales, control_sales, equal_var=True)\n",
    "    # Check similarity\n",
    "    if p_value >= alpha:\n",
    "        print(\"Result: Statistically similar (p >= alpha)\\n\")\n",
    "    else:\n",
    "        print(\"Result: Statistically different (p < alpha)\\n\")\n",
    "    \n",
    "alpha = 0.05\n",
    "print(\"Critical t-value for 95% confidence interval:\")\n",
    "print(t.ppf((alpha/2, 1-alpha/2), df=len(pretrial_full_observ[pretrial_full_observ[\"STORE_NBR\"] == trial])-1))"
   ]
  },
  {
   "cell_type": "markdown",
   "id": "7dd04cf4",
   "metadata": {},
   "source": [
    "#### Null hypothesis is true. There isn't any statistically significant difference between Trial store's sales and Control store's scaled-sales performance during pre-trial"
   ]
  },
  {
   "cell_type": "markdown",
   "id": "c47a3f24",
   "metadata": {},
   "source": [
    "#### To determine if the sales percentage difference between the trial store and its control store during the trial period is significantly different from the pre-trial average."
   ]
  },
  {
   "cell_type": "markdown",
   "id": "7169b6a5",
   "metadata": {},
   "source": [
    "Pre-trial Analysis:\n",
    "- Calculate the mean and standard deviation of the Sales_Percentage_Diff during the pre-trial period.\n",
    "\n",
    "Trial Period Analysis:\n",
    "- For each month in the trial period, Calculate the T-statistic for the percentage difference.\n",
    "\n",
    "Output:\n",
    "\n",
    "For each trial-control store pair,\n",
    "- The T-statistic for each trial month. \n",
    "- The critical T-value for 95% confidence.\n",
    "\n"
   ]
  },
  {
   "cell_type": "code",
   "execution_count": 92,
   "id": "ea5e4c27",
   "metadata": {},
   "outputs": [
    {
     "name": "stdout",
     "output_type": "stream",
     "text": [
      "Trial store: 77 , Control store: 233\n",
      "201902 : -0.7171038288055838\n",
      "201903 : 3.035317928855674\n",
      "201904 : 4.708944418758219\n",
      "\n",
      "\n",
      "Trial store: 86 , Control store: 155\n",
      "201902 : 1.4133618775921597\n",
      "201903 : 7.123063846042147\n",
      "201904 : 0.8863824572944234\n",
      "\n",
      "\n",
      "Trial store: 88 , Control store: 40\n",
      "201902 : -0.5481633746817577\n",
      "201903 : 1.0089992743637823\n",
      "201904 : 0.9710006270463672\n",
      "\n",
      "\n",
      "Critical t-value for 95% confidence interval:\n",
      "1.9431802803927816\n"
     ]
    }
   ],
   "source": [
    "# Step 3 \n",
    "# To merge the details of trial and control stores during pre,trial and post periods\n",
    "\n",
    "data1 = scaled_sales_control.sort_values(by=[\"STORE_NBR\", \"YEAR_MONTH\"], ascending=[False, True]).reset_index().drop([\"Total_Sales\", \"index\"], axis=1)\n",
    "data2 = full_observ_df[full_observ_df[\"STORE_NBR\"].isin([77,86,88])][[\"STORE_NBR\", \"YEAR_MONTH\", \"Total_Sales\"]].reset_index().drop([\"index\", \"YEAR_MONTH\"], axis=1)\n",
    "full_data = pd.concat([data1,data2], axis=1)\n",
    "def mark(x):\n",
    "    if x < 201902:\n",
    "        return \"pre trial\"\n",
    "    elif x > 201904:\n",
    "        return \"post trial\"\n",
    "    else:\n",
    "        return \"trial\"\n",
    "full_data.columns = ['control_stores','YEAR_MONTH','control_scaled_values','trial_stores','t_total_sales']\n",
    "full_data['period']   = full_data['YEAR_MONTH'].apply(lambda x: mark(x))  \n",
    "full_data[\"Sales_Percentage_Diff\"] = (full_data[\"t_total_sales\"] - full_data[\"control_scaled_values\"]) / (((full_data[\"t_total_sales\"] + full_data[\"control_scaled_values\"])/2))\n",
    "\n",
    "for trial, control in combo_dict.items():\n",
    "    print(\"Trial store:\", trial, \", Control store:\", control)\n",
    "    count_pre = full_data[(full_data[\"control_stores\"] == control) & (full_data[\"period\"]==\"pre trial\")]\n",
    "    std = count_pre[\"Sales_Percentage_Diff\"].std()\n",
    "    mean = count_pre[\"Sales_Percentage_Diff\"].mean()\n",
    "    #print(std, mean)\n",
    "    for trial_month in full_data[full_data[\"period\"] == \"trial\"][\"YEAR_MONTH\"].unique():\n",
    "        pdif = full_data[(full_data[\"YEAR_MONTH\"] == trial_month) & (full_data[\"trial_stores\"] == trial)][\"Sales_Percentage_Diff\"]\n",
    "        print(trial_month,\":\",(float(pdif)-mean)/std)\n",
    "    print('\\n')\n",
    "    \n",
    "print(\"Critical t-value for 95% confidence interval:\")\n",
    "conf_intv_95 = t.ppf(0.95, df=len(count_pre)-1)\n",
    "print(conf_intv_95)"
   ]
  },
  {
   "cell_type": "markdown",
   "id": "d45a3ffe",
   "metadata": {},
   "source": [
    "\n",
    "#### The critical t-value for the 95% confidence interval is 1.943. A result exceeding this threshold indicates a statistically significant deviation in performance compared to the baseline.\n",
    "\n",
    "#### We can observe that the t-value for the trial store 77 is much larger than the 95th percentile value of the t-distribution for March and April - i.e. the increase in sales in the trial store 77 in March and April is statistically greater than in the control store. This can also be seen for March of trial store 86.\n"
   ]
  },
  {
   "cell_type": "code",
   "execution_count": 45,
   "id": "1d11b2f9",
   "metadata": {},
   "outputs": [],
   "source": [
    "\n",
    "# pip install --upgrade matplotlib"
   ]
  },
  {
   "cell_type": "code",
   "execution_count": 54,
   "id": "bd75fcb8",
   "metadata": {},
   "outputs": [
    {
     "data": {
      "image/png": "[encoded data removed]",
      "text/plain": [
       "<Figure size 576x432 with 1 Axes>"
      ]
     },
     "metadata": {
      "needs_background": "light"
     },
     "output_type": "display_data"
    },
    {
     "data": {
      "image/png": "[encoded data removed]",
      "text/plain": [
       "<Figure size 576x432 with 1 Axes>"
      ]
     },
     "metadata": {
      "needs_background": "light"
     },
     "output_type": "display_data"
    },
    {
     "data": {
      "image/png": "[encoded data removed]",
      "text/plain": [
       "<Figure size 576x432 with 1 Axes>"
      ]
     },
     "metadata": {
      "needs_background": "light"
     },
     "output_type": "display_data"
    }
   ],
   "source": [
    "storepair = [[77, 233], [86, 155], [88, 40]]  # Stores are [trial, control]\n",
    "\n",
    "for stores in storepair: \n",
    "    trial, control = stores[0], stores[1]\n",
    "\n",
    "    # Filter and prepare data for trial and control stores\n",
    "    plot_control = full_data[\n",
    "        (full_data['control_stores'] == control) & \n",
    "        (full_data.YEAR_MONTH >= 201902) & \n",
    "        (full_data.YEAR_MONTH <= 201904)\n",
    "    ][['YEAR_MONTH', 'control_scaled_values']].rename(columns={\"control_scaled_values\": \"Control_Sales\"})\n",
    "\n",
    "    plot_trial = full_data[\n",
    "        (full_data['trial_stores'] == trial) & \n",
    "        (full_data.YEAR_MONTH >= 201902) & \n",
    "        (full_data.YEAR_MONTH <= 201904)\n",
    "    ][['YEAR_MONTH', 't_total_sales']].rename(columns={\"t_total_sales\": \"Trial_Sales\"})\n",
    "\n",
    "    # Merge data for plotting\n",
    "    toplot = plot_control.merge(plot_trial, on=\"YEAR_MONTH\").set_index(\"YEAR_MONTH\")\n",
    "\n",
    "    # Plot the bar chart\n",
    "    ax = toplot.plot(kind='bar', figsize=(8, 6), color=[\"darkblue\", \"blue\"])\n",
    "    \n",
    "    # Calculate thresholds\n",
    "    std = full_data[\n",
    "        (full_data['control_stores'] == control) & \n",
    "        (full_data.YEAR_MONTH < 201902)\n",
    "    ]['Sales_Percentage_Diff'].std()\n",
    "\n",
    "    mean_control_sales = plot_control['Control_Sales'].mean()\n",
    "    thresh95 = mean_control_sales * (1 + std * 2)\n",
    "    thresh5 = mean_control_sales * (1 - std * 2)\n",
    "\n",
    "    # Add threshold lines\n",
    "    ax.axhline(y=thresh95, color='red', linestyle='--', linewidth=1, label=\"95% Threshold\")\n",
    "    ax.axhline(y=thresh5, color='green', linestyle='--', linewidth=1, label=\"5% Threshold\")\n",
    "\n",
    "    # Add plot details\n",
    "    ax.set_title(f'Trial Store {trial} and Control Store {control} in the Trial Period')\n",
    "    ax.set_xlabel('Year-Month')\n",
    "    ax.set_ylabel('Sales')\n",
    "    ax.legend(loc=\"upper left\", bbox_to_anchor=(1.0, 1.0))\n",
    "    \n",
    "    # Show plot\n",
    "    plt.tight_layout()\n",
    "    plt.show()\n"
   ]
  },
  {
   "cell_type": "markdown",
   "id": "4db6d20a",
   "metadata": {},
   "source": [
    "#### Now, to do the same set of measures with the no of customers of each of the store types.\n"
   ]
  },
  {
   "cell_type": "code",
   "execution_count": 65,
   "id": "1ede3add",
   "metadata": {},
   "outputs": [
    {
     "name": "stdout",
     "output_type": "stream",
     "text": [
      "Trial Store: 77\n",
      "      STORE_NBR  YEAR_MONTH  No_customers  scaled_ncust_values\n",
      "2706        233      201902            45            45.151007\n",
      "2707        233      201903            40            40.134228\n",
      "2708        233      201904            30            30.100671\n",
      "Control Store: 233\n",
      "     STORE_NBR  YEAR_MONTH  No_customers\n",
      "887         77      201902            45\n",
      "888         77      201903            50\n",
      "889         77      201904            47\n"
     ]
    },
    {
     "data": {
      "image/png": "[encoded data removed]",
      "text/plain": [
       "<Figure size 576x432 with 1 Axes>"
      ]
     },
     "metadata": {
      "needs_background": "light"
     },
     "output_type": "display_data"
    },
    {
     "name": "stdout",
     "output_type": "stream",
     "text": [
      "Trial Store: 86\n",
      "      STORE_NBR  YEAR_MONTH  No_customers  scaled_ncust_values\n",
      "1800        155      201902            95                 95.0\n",
      "1801        155      201903            94                 94.0\n",
      "1802        155      201904            99                 99.0\n",
      "Control Store: 155\n",
      "     STORE_NBR  YEAR_MONTH  No_customers\n",
      "984         86      201902           107\n",
      "985         86      201903           115\n",
      "986         86      201904           105\n"
     ]
    },
    {
     "data": {
      "image/png": "[encoded data removed]",
      "text/plain": [
       "<Figure size 576x432 with 1 Axes>"
      ]
     },
     "metadata": {
      "needs_background": "light"
     },
     "output_type": "display_data"
    },
    {
     "name": "stdout",
     "output_type": "stream",
     "text": [
      "Trial Store: 88\n",
      "     STORE_NBR  YEAR_MONTH  No_customers  scaled_ncust_values\n",
      "455         40      201902           125           127.610209\n",
      "456         40      201903           118           120.464037\n",
      "457         40      201904           119           121.484919\n",
      "Control Store: 40\n",
      "      STORE_NBR  YEAR_MONTH  No_customers\n",
      "1008         88      201902           124\n",
      "1009         88      201903           134\n",
      "1010         88      201904           128\n"
     ]
    },
    {
     "data": {
      "image/png": "[encoded data removed]",
      "text/plain": [
       "<Figure size 576x432 with 1 Axes>"
      ]
     },
     "metadata": {
      "needs_background": "light"
     },
     "output_type": "display_data"
    }
   ],
   "source": [
    "# Ratio of Store 77 and its Control store 233.\n",
    "ncust_ratio77 = pretrial_full_observ[pretrial_full_observ['STORE_NBR']== 77]['No_customers'].sum()/pretrial_full_observ[pretrial_full_observ['STORE_NBR']==233]['No_customers'].sum()\n",
    "# Ratio of Store 86 and its Control store 155.\n",
    "ncust_ratio86 = pretrial_full_observ[pretrial_full_observ['STORE_NBR']== 86]['No_customers'].sum()/pretrial_full_observ[pretrial_full_observ['STORE_NBR']==155]['No_customers'].sum()\n",
    "# Ratio of Store 88 and its Control store 40.\n",
    "ncust_ratio88 = pretrial_full_observ[pretrial_full_observ['STORE_NBR']==88]['No_customers'].sum()/pretrial_full_observ[pretrial_full_observ['STORE_NBR']==40]['No_customers'].sum()\n",
    "\n",
    "trial_full_observ = full_observ_df[(full_observ_df['YEAR_MONTH']>= 201902) & (full_observ_df['YEAR_MONTH']<= 201904)]\n",
    "scaled_ncust_control = full_observ_df[full_observ_df['STORE_NBR'].isin([233,155,40])][['STORE_NBR','YEAR_MONTH','No_customers']]\n",
    "\n",
    "def scale_ncust(store):\n",
    "    if store['STORE_NBR'] == 233:\n",
    "        return store['No_customers']*ncust_ratio77\n",
    "    elif store['STORE_NBR'] == 155:\n",
    "        return store['No_customers']*ncust_ratio86\n",
    "    elif store['STORE_NBR'] == 40:\n",
    "        return store['No_customers']*ncust_ratio88\n",
    "    return\n",
    "\n",
    "scaled_ncust_control['scaled_ncust_values'] = scaled_ncust_control.apply(lambda store: scale_ncust(store), axis =1)\n",
    "# During trial period\n",
    "trial_scaled_ncust_control = scaled_ncust_control[(scaled_ncust_control['YEAR_MONTH']>=201902) & (scaled_ncust_control['YEAR_MONTH']<=201904)]\n",
    "# During pre trial\n",
    "pretrial_scaled_ncust_control = scaled_ncust_control[(scaled_ncust_control['YEAR_MONTH']<201902)]\n",
    "\n",
    "# To store the percentage difference in sales between the trial and scaled control stores for each trial store,\n",
    "percentage_dict_ncust = {}\n",
    "\n",
    "combo_dict = {77:233,86:155,88:40}\n",
    "\n",
    "for trial,control in combo_dict.items():\n",
    "    # To get scaled sales for the control store corresponding to the current trial store during the trial period.\n",
    "    control_ncust_data = trial_scaled_ncust_control[trial_scaled_ncust_control['STORE_NBR'] == control]\n",
    "    # To get sales for the current trial store during the trial period.\n",
    "    trial_ncust_data = trial_full_observ[trial_full_observ['STORE_NBR'] == trial][[\"STORE_NBR\", \"YEAR_MONTH\", \"No_customers\"]]\n",
    "    # percentage diff = total sales of trial store / total scaled sales of control store\n",
    "    percentage_dict_ncust[trial] = trial_ncust_data['No_customers'].sum() / control_ncust_data['scaled_ncust_values'].sum()\n",
    "    print(f\"Trial Store: {trial}\")\n",
    "    print(control_ncust_data)\n",
    "    print(f\"Control Store: {control}\")\n",
    "    print(trial_ncust_data)\n",
    "    trial_ncust_data[[\"YEAR_MONTH\", \"No_customers\"]].merge(control_ncust_data[[\"YEAR_MONTH\", \"scaled_ncust_values\"]],on=\"YEAR_MONTH\").set_index(\"YEAR_MONTH\").plot(kind='bar', figsize=(8, 6), color=[\"darkblue\", \"blue\"])\n",
    "    plt.legend(loc='center left', bbox_to_anchor=(1.0, 0.5))\n",
    "    plt.title(\"Trial Store \"+str(trial)+\" and Control Store \"+str(control))\n",
    "    plt.show()\n"
   ]
  },
  {
   "cell_type": "code",
   "execution_count": 67,
   "id": "60900957",
   "metadata": {},
   "outputs": [
    {
     "data": {
      "text/plain": [
       "{77: 1.2306529009742622, 86: 1.1354166666666667, 88: 1.0444876946258161}"
      ]
     },
     "execution_count": 67,
     "metadata": {},
     "output_type": "execute_result"
    }
   ],
   "source": [
    "percentage_dict_ncust"
   ]
  },
  {
   "cell_type": "markdown",
   "id": "83c0b71c",
   "metadata": {},
   "source": [
    "Significance of Trial minus Control stores nCustomers Percentage Difference Pre-Trial vs Trial.\n",
    "- Pre-Trial vs. Trial Period for Control Stores: We need control store sales difference in trial and pre trial periods, T-test is applied to compare scaled sales of the control stores for these periods.\n",
    "- Pre-Trial Similarity Between Trial and Control Stores: T-test compares the actual sales of trial stores with the scaled sales of control stores.\n",
    "- Trial vs. Pre-Trial Percentage Difference:"
   ]
  },
  {
   "cell_type": "code",
   "execution_count": 71,
   "id": "68b6b4db",
   "metadata": {},
   "outputs": [
    {
     "name": "stdout",
     "output_type": "stream",
     "text": [
      "Store 40:\n",
      "t-statistic = 0.6447, p-value = 0.5377\n",
      "Result: No significant difference (p >= 0.05)\n",
      "\n",
      "Store 155:\n",
      "t-statistic = 1.3889, p-value = 0.2043\n",
      "Result: No significant difference (p >= 0.05)\n",
      "\n",
      "Store 233:\n",
      "t-statistic = 0.8443, p-value = 0.4559\n",
      "Result: No significant difference (p >= 0.05)\n",
      "\n"
     ]
    }
   ],
   "source": [
    "# Step 1\n",
    "\n",
    "alpha = 0.05\n",
    "store_ids = [40, 155, 233]\n",
    "\n",
    "for num in store_ids:\n",
    "    pre_n_cust_data = pretrial_scaled_ncust_control[pretrial_scaled_ncust_control[\"STORE_NBR\"] == num][\"scaled_ncust_values\"]\n",
    "    trial_ncust_data = trial_scaled_ncust_control[trial_scaled_ncust_control[\"STORE_NBR\"] == num][\"scaled_ncust_values\"]\n",
    "    \n",
    "    # Perform t-test\n",
    "    t_stat, p_value = ttest_ind(pre_n_cust_data, trial_ncust_data, equal_var=False)\n",
    "    \n",
    "    print(f\"Store {num}:\")\n",
    "    print(f\"t-statistic = {t_stat:.4f}, p-value = {p_value:.4f}\")\n",
    "    \n",
    "    # Check significance\n",
    "    if p_value < alpha:\n",
    "        print(f\"Result: Significant difference (p < {alpha})\\n\")\n",
    "    else:\n",
    "        print(f\"Result: No significant difference (p >= {alpha})\\n\" )\n"
   ]
  },
  {
   "cell_type": "code",
   "execution_count": 74,
   "id": "f0741c30",
   "metadata": {},
   "outputs": [
    {
     "name": "stdout",
     "output_type": "stream",
     "text": [
      "Trial store: 77, Control store: 233\n",
      "t-statistic = 0.0000, p-value = 1.0000\n",
      "Result: Statistically similar (p >= alpha)\n",
      "\n",
      "Trial store: 86, Control store: 155\n",
      "t-statistic = 0.0000, p-value = 1.0000\n",
      "Result: Statistically similar (p >= alpha)\n",
      "\n",
      "Trial store: 88, Control store: 40\n",
      "t-statistic = -0.0000, p-value = 1.0000\n",
      "Result: Statistically similar (p >= alpha)\n",
      "\n"
     ]
    }
   ],
   "source": [
    "# Step 2\n",
    "\n",
    "alpha = 0.05\n",
    "\n",
    "# Iterate through trial-control pairs\n",
    "for trial, control in combo_dict.items():\n",
    "    # Extract pre-trial data\n",
    "    trial_ncust = pretrial_full_observ[pretrial_full_observ[\"STORE_NBR\"] == trial][\"No_customers\"]\n",
    "    control_ncust = pretrial_scaled_ncust_control[pretrial_scaled_ncust_control[\"STORE_NBR\"] == control][\"scaled_ncust_values\"]\n",
    "    \n",
    "    # Perform t-test\n",
    "    t_stat1, p_value1 = ttest_ind(trial_ncust, control_ncust, equal_var=True)\n",
    "    \n",
    "    # Print results\n",
    "    print(f\"Trial store: {trial}, Control store: {control}\")\n",
    "    print(f\"t-statistic = {t_stat1:.4f}, p-value = {p_value1:.4f}\")\n",
    "    \n",
    "    # Check similarity\n",
    "    if p_value1 >= alpha:\n",
    "        print(\"Result: Statistically similar (p >= alpha)\\n\")\n",
    "    else:\n",
    "        print(\"Result: Statistically different (p < alpha)\\n\")\n"
   ]
  },
  {
   "cell_type": "code",
   "execution_count": 91,
   "id": "48e2bf2c",
   "metadata": {},
   "outputs": [
    {
     "name": "stdout",
     "output_type": "stream",
     "text": [
      "Trial store: 77 , Control store: 40\n",
      "201902 : -0.19886295797440687\n",
      "201903 : 8.009609025380932\n",
      "201904 : 16.114474772873923\n",
      "\n",
      "\n",
      "Trial store: 86 , Control store: 40\n",
      "201902 : 6.220524882227514\n",
      "201903 : 10.52599074274189\n",
      "201904 : 3.0763575852842706\n",
      "\n",
      "\n",
      "Trial store: 88 , Control store: 40\n",
      "201902 : -0.3592881735131531\n",
      "201903 : 1.2575196020616801\n",
      "201904 : 0.6092905590514273\n",
      "\n",
      "\n",
      "Critical t-value for 95% confidence interval:\n",
      "1.9431802803927816\n"
     ]
    }
   ],
   "source": [
    "# Step 3 \n",
    "# To merge the details of trial and control stores during pre,trial and post periods\n",
    "\n",
    "data1_ncust = scaled_ncust_control.sort_values(by=[\"STORE_NBR\", \"YEAR_MONTH\"], ascending=[False, True]).reset_index().drop([\"No_customers\", \"index\"], axis=1)\n",
    "data2_ncust = full_observ_df[full_observ_df[\"STORE_NBR\"].isin([77,86,88])][[\"STORE_NBR\", \"YEAR_MONTH\", \"No_customers\"]].reset_index().drop([\"index\", \"YEAR_MONTH\"], axis=1)\n",
    "full_data_ncust = pd.concat([data1_ncust,data2_ncust], axis=1)\n",
    "def mark_ncust(x):\n",
    "    if x < 201902:\n",
    "        return \"pre trial\"\n",
    "    elif x > 201904:\n",
    "        return \"post trial\"\n",
    "    else:\n",
    "        return \"trial\"\n",
    "full_data_ncust.columns = ['control_stores','YEAR_MONTH','n_cust_control_scaled_values','trial_stores','n_cust_trial_values']\n",
    "full_data_ncust['period']   = full_data_ncust['YEAR_MONTH'].apply(lambda x: mark_ncust(x))  \n",
    "full_data_ncust[\"ncust_Percentage_Diff\"] = (full_data_ncust[\"n_cust_trial_values\"] - full_data_ncust[\"n_cust_control_scaled_values\"]) / (((full_data_ncust[\"n_cust_trial_values\"] + full_data_ncust[\"n_cust_control_scaled_values\"])/2))\n",
    "\n",
    "for trial, control in combo_dict.items():\n",
    "    print(\"Trial store:\", trial, \", Control store:\", cont)\n",
    "    count_pre_ncust = full_data_ncust[(full_data_ncust[\"control_stores\"] == control) & (full_data_ncust[\"period\"]==\"pre trial\")]\n",
    "    std = count_pre_ncust[\"ncust_Percentage_Diff\"].std()\n",
    "    mean = count_pre_ncust[\"ncust_Percentage_Diff\"].mean()\n",
    "    #print(std, mean)\n",
    "    for trial_month in full_data_ncust[full_data_ncust[\"period\"] == \"trial\"][\"YEAR_MONTH\"].unique():\n",
    "        pdif = full_data_ncust[(full_data_ncust[\"YEAR_MONTH\"] == trial_month) & (full_data_ncust[\"trial_stores\"] == trial)][\"ncust_Percentage_Diff\"]\n",
    "        print(trial_month,\":\",(float(pdif)-mean)/std)\n",
    "    print('\\n')\n",
    "    \n",
    "print(\"Critical t-value for 95% confidence interval:\")\n",
    "conf_intv_95 = t.ppf(0.95, df=len(count_pre_ncust)-1)\n",
    "print(conf_intv_95)"
   ]
  },
  {
   "cell_type": "markdown",
   "id": "e64dffe5",
   "metadata": {},
   "source": [
    "#### There are statistically significant increases in the number of customers in stores 77 and 86 in at least 2 months during the trial period. However, there is no significant increase in store 88."
   ]
  },
  {
   "cell_type": "code",
   "execution_count": null,
   "id": "a0197d13",
   "metadata": {},
   "outputs": [],
   "source": []
  },
  {
   "cell_type": "code",
   "execution_count": 79,
   "id": "93a68ef5",
   "metadata": {},
   "outputs": [
    {
     "data": {
      "image/png": "[encoded data removed]",
      "text/plain": [
       "<Figure size 576x432 with 1 Axes>"
      ]
     },
     "metadata": {
      "needs_background": "light"
     },
     "output_type": "display_data"
    },
    {
     "data": {
      "image/png": "[encoded data removed]",
      "text/plain": [
       "<Figure size 576x432 with 1 Axes>"
      ]
     },
     "metadata": {
      "needs_background": "light"
     },
     "output_type": "display_data"
    },
    {
     "data": {
      "image/png": "[encoded data removed]",
      "text/plain": [
       "<Figure size 576x432 with 1 Axes>"
      ]
     },
     "metadata": {
      "needs_background": "light"
     },
     "output_type": "display_data"
    }
   ],
   "source": [
    "storepair = [[77, 233], [86, 155], [88, 40]]  # Stores are [trial, control]\n",
    "\n",
    "for stores in storepair: \n",
    "    trial, control = stores[0], stores[1]\n",
    "\n",
    "    # Filter and prepare data for trial and control stores\n",
    "    plot_control_ncust = full_data_ncust[\n",
    "        (full_data_ncust['control_stores'] == control) & \n",
    "        (full_data_ncust.YEAR_MONTH >= 201902) & \n",
    "        (full_data_ncust.YEAR_MONTH <= 201904)\n",
    "    ][['YEAR_MONTH', 'n_cust_control_scaled_values']].rename(columns={\"n_cust_control_scaled_values\": \"Control_NCust\"})\n",
    "\n",
    "    plot_trial_ncust = full_data_ncust[\n",
    "        (full_data_ncust['trial_stores'] == trial) & \n",
    "        (full_data_ncust.YEAR_MONTH >= 201902) & \n",
    "        (full_data_ncust.YEAR_MONTH <= 201904)\n",
    "    ][['YEAR_MONTH', 'n_cust_trial_values']].rename(columns={\"n_cust_trial_values\": \"Trial_NCust\"})\n",
    "\n",
    "    # Merge data for plotting\n",
    "    toplot_ncust = plot_control_ncust.merge(plot_trial_ncust, on=\"YEAR_MONTH\").set_index(\"YEAR_MONTH\")\n",
    "\n",
    "    # Plot the bar chart\n",
    "    ax = toplot_ncust.plot(kind='bar', figsize=(8, 6), color=[\"darkblue\", \"blue\"])\n",
    "    \n",
    "    # Calculate thresholds\n",
    "    std = full_data_ncust[\n",
    "        (full_data_ncust['control_stores'] == control) & \n",
    "        (full_data_ncust.YEAR_MONTH < 201902)\n",
    "    ]['ncust_Percentage_Diff'].std()\n",
    "\n",
    "    mean_control_ncust = plot_control_ncust['Control_NCust'].mean()\n",
    "    thresh95 = mean_control_ncust * (1 + std * 2)\n",
    "    thresh5 = mean_control_ncust * (1 - std * 2)\n",
    "\n",
    "    # Add threshold lines\n",
    "    ax.axhline(y=thresh95, color='red', linestyle='--', linewidth=1, label=\"95% Threshold\")\n",
    "    ax.axhline(y=thresh5, color='green', linestyle='--', linewidth=1, label=\"5% Threshold\")\n",
    "\n",
    "    # Add plot details\n",
    "    ax.set_title(f'Trial Store {trial} and Control Store {control} in the Trial Period')\n",
    "    ax.set_xlabel('Year-Month')\n",
    "    ax.set_ylabel('Sales')\n",
    "    ax.legend(loc=\"upper left\", bbox_to_anchor=(1.0, 1.0))\n",
    "    \n",
    "    # Show plot\n",
    "    plt.tight_layout()\n",
    "    plt.show()\n"
   ]
  },
  {
   "cell_type": "markdown",
   "id": "f553db85",
   "metadata": {},
   "source": [
    "#### Conclusion"
   ]
  },
  {
   "cell_type": "markdown",
   "id": "3940c00e",
   "metadata": {},
   "source": [
    "- Trial store 77: Control store 233\n",
    "\n",
    "- Trial store 86: Control store 155\n",
    "\n",
    "- Trial store 88: Control store 40\n",
    "    \n",
    "- The Trial store 77 sales for Feb, March, and April exceeds 95% threshold of control store. Same goes to store 86 sales for all 3 trial months.\n",
    "\n",
    "- Both trial store 77 and 86 showed significant increase in Total Sales and Number of Customers during trial period. But not for trial store 88. \n",
    "\n",
    "- Overall the trial showed positive significant result."
   ]
  },
  {
   "cell_type": "code",
   "execution_count": null,
   "id": "b454e896",
   "metadata": {},
   "outputs": [],
   "source": []
  }
 ],
 "metadata": {
  "kernelspec": {
   "display_name": "Python 3 (ipykernel)",
   "language": "python",
   "name": "python3"
  },
  "language_info": {
   "codemirror_mode": {
    "name": "ipython",
    "version": 3
   },
   "file_extension": ".py",
   "mimetype": "text/x-python",
   "name": "python",
   "nbconvert_exporter": "python",
   "pygments_lexer": "ipython3",
   "version": "3.9.7"
  }
 },
 "nbformat": 4,
 "nbformat_minor": 5
}
