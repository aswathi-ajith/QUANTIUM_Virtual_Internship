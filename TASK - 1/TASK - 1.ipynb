{
 "cells": [
  {
   "cell_type": "markdown",
   "id": "f8932149",
   "metadata": {},
   "source": [
    "## Name: Aswathi Ajith\n",
    "### Task -1\n",
    "\n",
    "###  Data preparation and customer analytics\n",
    "\n",
    "##### Creating and interpreting high-level summaries of the data \n",
    "\n",
    "##### Finding outliers and removing these (if applicable) \n",
    "\n",
    "##### Checking data formats and correcting (if applicable) "
   ]
  },
  {
   "cell_type": "code",
   "execution_count": 1,
   "id": "aecfe37b",
   "metadata": {},
   "outputs": [],
   "source": [
    "import pandas as pd\n",
    "import numpy as np\n",
    "import matplotlib.pyplot as plt\n",
    "import seaborn as sns\n"
   ]
  },
  {
   "cell_type": "markdown",
   "id": "da4f9703",
   "metadata": {},
   "source": [
    "# Import Dataset"
   ]
  },
  {
   "cell_type": "code",
   "execution_count": 2,
   "id": "9bd93234",
   "metadata": {},
   "outputs": [],
   "source": [
    "trans_df = pd.read_csv(\"Downloads/QVI_transaction_data.csv\")"
   ]
  },
  {
   "cell_type": "code",
   "execution_count": 3,
   "id": "a7d86bf6",
   "metadata": {},
   "outputs": [
    {
     "data": {
      "text/html": [
       "<div>\n",
       "<style scoped>\n",
       "    .dataframe tbody tr th:only-of-type {\n",
       "        vertical-align: middle;\n",
       "    }\n",
       "\n",
       "    .dataframe tbody tr th {\n",
       "        vertical-align: top;\n",
       "    }\n",
       "\n",
       "    .dataframe thead th {\n",
       "        text-align: right;\n",
       "    }\n",
       "</style>\n",
       "<table border=\"1\" class=\"dataframe\">\n",
       "  <thead>\n",
       "    <tr style=\"text-align: right;\">\n",
       "      <th></th>\n",
       "      <th>DATE</th>\n",
       "      <th>STORE_NBR</th>\n",
       "      <th>LYLTY_CARD_NBR</th>\n",
       "      <th>TXN_ID</th>\n",
       "      <th>PROD_NBR</th>\n",
       "      <th>PROD_NAME</th>\n",
       "      <th>PROD_QTY</th>\n",
       "      <th>TOT_SALES</th>\n",
       "    </tr>\n",
       "  </thead>\n",
       "  <tbody>\n",
       "    <tr>\n",
       "      <th>0</th>\n",
       "      <td>43390</td>\n",
       "      <td>1</td>\n",
       "      <td>1000</td>\n",
       "      <td>1</td>\n",
       "      <td>5</td>\n",
       "      <td>Natural Chip        Compny SeaSalt175g</td>\n",
       "      <td>2</td>\n",
       "      <td>6.0</td>\n",
       "    </tr>\n",
       "    <tr>\n",
       "      <th>1</th>\n",
       "      <td>43599</td>\n",
       "      <td>1</td>\n",
       "      <td>1307</td>\n",
       "      <td>348</td>\n",
       "      <td>66</td>\n",
       "      <td>CCs Nacho Cheese    175g</td>\n",
       "      <td>3</td>\n",
       "      <td>6.3</td>\n",
       "    </tr>\n",
       "    <tr>\n",
       "      <th>2</th>\n",
       "      <td>43605</td>\n",
       "      <td>1</td>\n",
       "      <td>1343</td>\n",
       "      <td>383</td>\n",
       "      <td>61</td>\n",
       "      <td>Smiths Crinkle Cut  Chips Chicken 170g</td>\n",
       "      <td>2</td>\n",
       "      <td>2.9</td>\n",
       "    </tr>\n",
       "    <tr>\n",
       "      <th>3</th>\n",
       "      <td>43329</td>\n",
       "      <td>2</td>\n",
       "      <td>2373</td>\n",
       "      <td>974</td>\n",
       "      <td>69</td>\n",
       "      <td>Smiths Chip Thinly  S/Cream&amp;Onion 175g</td>\n",
       "      <td>5</td>\n",
       "      <td>15.0</td>\n",
       "    </tr>\n",
       "    <tr>\n",
       "      <th>4</th>\n",
       "      <td>43330</td>\n",
       "      <td>2</td>\n",
       "      <td>2426</td>\n",
       "      <td>1038</td>\n",
       "      <td>108</td>\n",
       "      <td>Kettle Tortilla ChpsHny&amp;Jlpno Chili 150g</td>\n",
       "      <td>3</td>\n",
       "      <td>13.8</td>\n",
       "    </tr>\n",
       "    <tr>\n",
       "      <th>...</th>\n",
       "      <td>...</td>\n",
       "      <td>...</td>\n",
       "      <td>...</td>\n",
       "      <td>...</td>\n",
       "      <td>...</td>\n",
       "      <td>...</td>\n",
       "      <td>...</td>\n",
       "      <td>...</td>\n",
       "    </tr>\n",
       "    <tr>\n",
       "      <th>264831</th>\n",
       "      <td>43533</td>\n",
       "      <td>272</td>\n",
       "      <td>272319</td>\n",
       "      <td>270088</td>\n",
       "      <td>89</td>\n",
       "      <td>Kettle Sweet Chilli And Sour Cream 175g</td>\n",
       "      <td>2</td>\n",
       "      <td>10.8</td>\n",
       "    </tr>\n",
       "    <tr>\n",
       "      <th>264832</th>\n",
       "      <td>43325</td>\n",
       "      <td>272</td>\n",
       "      <td>272358</td>\n",
       "      <td>270154</td>\n",
       "      <td>74</td>\n",
       "      <td>Tostitos Splash Of  Lime 175g</td>\n",
       "      <td>1</td>\n",
       "      <td>4.4</td>\n",
       "    </tr>\n",
       "    <tr>\n",
       "      <th>264833</th>\n",
       "      <td>43410</td>\n",
       "      <td>272</td>\n",
       "      <td>272379</td>\n",
       "      <td>270187</td>\n",
       "      <td>51</td>\n",
       "      <td>Doritos Mexicana    170g</td>\n",
       "      <td>2</td>\n",
       "      <td>8.8</td>\n",
       "    </tr>\n",
       "    <tr>\n",
       "      <th>264834</th>\n",
       "      <td>43461</td>\n",
       "      <td>272</td>\n",
       "      <td>272379</td>\n",
       "      <td>270188</td>\n",
       "      <td>42</td>\n",
       "      <td>Doritos Corn Chip Mexican Jalapeno 150g</td>\n",
       "      <td>2</td>\n",
       "      <td>7.8</td>\n",
       "    </tr>\n",
       "    <tr>\n",
       "      <th>264835</th>\n",
       "      <td>43365</td>\n",
       "      <td>272</td>\n",
       "      <td>272380</td>\n",
       "      <td>270189</td>\n",
       "      <td>74</td>\n",
       "      <td>Tostitos Splash Of  Lime 175g</td>\n",
       "      <td>2</td>\n",
       "      <td>8.8</td>\n",
       "    </tr>\n",
       "  </tbody>\n",
       "</table>\n",
       "<p>264836 rows × 8 columns</p>\n",
       "</div>"
      ],
      "text/plain": [
       "         DATE  STORE_NBR  LYLTY_CARD_NBR  TXN_ID  PROD_NBR  \\\n",
       "0       43390          1            1000       1         5   \n",
       "1       43599          1            1307     348        66   \n",
       "2       43605          1            1343     383        61   \n",
       "3       43329          2            2373     974        69   \n",
       "4       43330          2            2426    1038       108   \n",
       "...       ...        ...             ...     ...       ...   \n",
       "264831  43533        272          272319  270088        89   \n",
       "264832  43325        272          272358  270154        74   \n",
       "264833  43410        272          272379  270187        51   \n",
       "264834  43461        272          272379  270188        42   \n",
       "264835  43365        272          272380  270189        74   \n",
       "\n",
       "                                       PROD_NAME  PROD_QTY  TOT_SALES  \n",
       "0         Natural Chip        Compny SeaSalt175g         2        6.0  \n",
       "1                       CCs Nacho Cheese    175g         3        6.3  \n",
       "2         Smiths Crinkle Cut  Chips Chicken 170g         2        2.9  \n",
       "3         Smiths Chip Thinly  S/Cream&Onion 175g         5       15.0  \n",
       "4       Kettle Tortilla ChpsHny&Jlpno Chili 150g         3       13.8  \n",
       "...                                          ...       ...        ...  \n",
       "264831   Kettle Sweet Chilli And Sour Cream 175g         2       10.8  \n",
       "264832             Tostitos Splash Of  Lime 175g         1        4.4  \n",
       "264833                  Doritos Mexicana    170g         2        8.8  \n",
       "264834   Doritos Corn Chip Mexican Jalapeno 150g         2        7.8  \n",
       "264835             Tostitos Splash Of  Lime 175g         2        8.8  \n",
       "\n",
       "[264836 rows x 8 columns]"
      ]
     },
     "execution_count": 3,
     "metadata": {},
     "output_type": "execute_result"
    }
   ],
   "source": [
    "trans_df"
   ]
  },
  {
   "cell_type": "code",
   "execution_count": 4,
   "id": "ced41216",
   "metadata": {},
   "outputs": [],
   "source": [
    "customer_df = pd.read_csv(\"Downloads/QVI_purchase_behaviour.csv\")"
   ]
  },
  {
   "cell_type": "markdown",
   "id": "9a5b67b5",
   "metadata": {},
   "source": [
    "# Data Exploration"
   ]
  },
  {
   "cell_type": "code",
   "execution_count": 5,
   "id": "e7a16d38",
   "metadata": {},
   "outputs": [
    {
     "data": {
      "text/html": [
       "<div>\n",
       "<style scoped>\n",
       "    .dataframe tbody tr th:only-of-type {\n",
       "        vertical-align: middle;\n",
       "    }\n",
       "\n",
       "    .dataframe tbody tr th {\n",
       "        vertical-align: top;\n",
       "    }\n",
       "\n",
       "    .dataframe thead th {\n",
       "        text-align: right;\n",
       "    }\n",
       "</style>\n",
       "<table border=\"1\" class=\"dataframe\">\n",
       "  <thead>\n",
       "    <tr style=\"text-align: right;\">\n",
       "      <th></th>\n",
       "      <th>LYLTY_CARD_NBR</th>\n",
       "      <th>LIFESTAGE</th>\n",
       "      <th>PREMIUM_CUSTOMER</th>\n",
       "    </tr>\n",
       "  </thead>\n",
       "  <tbody>\n",
       "    <tr>\n",
       "      <th>0</th>\n",
       "      <td>1000</td>\n",
       "      <td>YOUNG SINGLES/COUPLES</td>\n",
       "      <td>Premium</td>\n",
       "    </tr>\n",
       "    <tr>\n",
       "      <th>1</th>\n",
       "      <td>1002</td>\n",
       "      <td>YOUNG SINGLES/COUPLES</td>\n",
       "      <td>Mainstream</td>\n",
       "    </tr>\n",
       "    <tr>\n",
       "      <th>2</th>\n",
       "      <td>1003</td>\n",
       "      <td>YOUNG FAMILIES</td>\n",
       "      <td>Budget</td>\n",
       "    </tr>\n",
       "    <tr>\n",
       "      <th>3</th>\n",
       "      <td>1004</td>\n",
       "      <td>OLDER SINGLES/COUPLES</td>\n",
       "      <td>Mainstream</td>\n",
       "    </tr>\n",
       "    <tr>\n",
       "      <th>4</th>\n",
       "      <td>1005</td>\n",
       "      <td>MIDAGE SINGLES/COUPLES</td>\n",
       "      <td>Mainstream</td>\n",
       "    </tr>\n",
       "  </tbody>\n",
       "</table>\n",
       "</div>"
      ],
      "text/plain": [
       "   LYLTY_CARD_NBR               LIFESTAGE PREMIUM_CUSTOMER\n",
       "0            1000   YOUNG SINGLES/COUPLES          Premium\n",
       "1            1002   YOUNG SINGLES/COUPLES       Mainstream\n",
       "2            1003          YOUNG FAMILIES           Budget\n",
       "3            1004   OLDER SINGLES/COUPLES       Mainstream\n",
       "4            1005  MIDAGE SINGLES/COUPLES       Mainstream"
      ]
     },
     "execution_count": 5,
     "metadata": {},
     "output_type": "execute_result"
    }
   ],
   "source": [
    "# Basic information of the dataset\n",
    "customer_df.head()"
   ]
  },
  {
   "cell_type": "code",
   "execution_count": 6,
   "id": "6f832d58",
   "metadata": {},
   "outputs": [
    {
     "data": {
      "text/html": [
       "<div>\n",
       "<style scoped>\n",
       "    .dataframe tbody tr th:only-of-type {\n",
       "        vertical-align: middle;\n",
       "    }\n",
       "\n",
       "    .dataframe tbody tr th {\n",
       "        vertical-align: top;\n",
       "    }\n",
       "\n",
       "    .dataframe thead th {\n",
       "        text-align: right;\n",
       "    }\n",
       "</style>\n",
       "<table border=\"1\" class=\"dataframe\">\n",
       "  <thead>\n",
       "    <tr style=\"text-align: right;\">\n",
       "      <th></th>\n",
       "      <th>DATE</th>\n",
       "      <th>STORE_NBR</th>\n",
       "      <th>LYLTY_CARD_NBR</th>\n",
       "      <th>TXN_ID</th>\n",
       "      <th>PROD_NBR</th>\n",
       "      <th>PROD_NAME</th>\n",
       "      <th>PROD_QTY</th>\n",
       "      <th>TOT_SALES</th>\n",
       "    </tr>\n",
       "  </thead>\n",
       "  <tbody>\n",
       "    <tr>\n",
       "      <th>0</th>\n",
       "      <td>43390</td>\n",
       "      <td>1</td>\n",
       "      <td>1000</td>\n",
       "      <td>1</td>\n",
       "      <td>5</td>\n",
       "      <td>Natural Chip        Compny SeaSalt175g</td>\n",
       "      <td>2</td>\n",
       "      <td>6.0</td>\n",
       "    </tr>\n",
       "    <tr>\n",
       "      <th>1</th>\n",
       "      <td>43599</td>\n",
       "      <td>1</td>\n",
       "      <td>1307</td>\n",
       "      <td>348</td>\n",
       "      <td>66</td>\n",
       "      <td>CCs Nacho Cheese    175g</td>\n",
       "      <td>3</td>\n",
       "      <td>6.3</td>\n",
       "    </tr>\n",
       "    <tr>\n",
       "      <th>2</th>\n",
       "      <td>43605</td>\n",
       "      <td>1</td>\n",
       "      <td>1343</td>\n",
       "      <td>383</td>\n",
       "      <td>61</td>\n",
       "      <td>Smiths Crinkle Cut  Chips Chicken 170g</td>\n",
       "      <td>2</td>\n",
       "      <td>2.9</td>\n",
       "    </tr>\n",
       "    <tr>\n",
       "      <th>3</th>\n",
       "      <td>43329</td>\n",
       "      <td>2</td>\n",
       "      <td>2373</td>\n",
       "      <td>974</td>\n",
       "      <td>69</td>\n",
       "      <td>Smiths Chip Thinly  S/Cream&amp;Onion 175g</td>\n",
       "      <td>5</td>\n",
       "      <td>15.0</td>\n",
       "    </tr>\n",
       "    <tr>\n",
       "      <th>4</th>\n",
       "      <td>43330</td>\n",
       "      <td>2</td>\n",
       "      <td>2426</td>\n",
       "      <td>1038</td>\n",
       "      <td>108</td>\n",
       "      <td>Kettle Tortilla ChpsHny&amp;Jlpno Chili 150g</td>\n",
       "      <td>3</td>\n",
       "      <td>13.8</td>\n",
       "    </tr>\n",
       "  </tbody>\n",
       "</table>\n",
       "</div>"
      ],
      "text/plain": [
       "    DATE  STORE_NBR  LYLTY_CARD_NBR  TXN_ID  PROD_NBR  \\\n",
       "0  43390          1            1000       1         5   \n",
       "1  43599          1            1307     348        66   \n",
       "2  43605          1            1343     383        61   \n",
       "3  43329          2            2373     974        69   \n",
       "4  43330          2            2426    1038       108   \n",
       "\n",
       "                                  PROD_NAME  PROD_QTY  TOT_SALES  \n",
       "0    Natural Chip        Compny SeaSalt175g         2        6.0  \n",
       "1                  CCs Nacho Cheese    175g         3        6.3  \n",
       "2    Smiths Crinkle Cut  Chips Chicken 170g         2        2.9  \n",
       "3    Smiths Chip Thinly  S/Cream&Onion 175g         5       15.0  \n",
       "4  Kettle Tortilla ChpsHny&Jlpno Chili 150g         3       13.8  "
      ]
     },
     "execution_count": 6,
     "metadata": {},
     "output_type": "execute_result"
    }
   ],
   "source": [
    "# Basic information of the dataset\n",
    "trans_df.head()"
   ]
  },
  {
   "cell_type": "code",
   "execution_count": 7,
   "id": "ae8aa0c5",
   "metadata": {},
   "outputs": [
    {
     "data": {
      "text/html": [
       "<div>\n",
       "<style scoped>\n",
       "    .dataframe tbody tr th:only-of-type {\n",
       "        vertical-align: middle;\n",
       "    }\n",
       "\n",
       "    .dataframe tbody tr th {\n",
       "        vertical-align: top;\n",
       "    }\n",
       "\n",
       "    .dataframe thead th {\n",
       "        text-align: right;\n",
       "    }\n",
       "</style>\n",
       "<table border=\"1\" class=\"dataframe\">\n",
       "  <thead>\n",
       "    <tr style=\"text-align: right;\">\n",
       "      <th></th>\n",
       "      <th>count</th>\n",
       "      <th>mean</th>\n",
       "      <th>std</th>\n",
       "      <th>min</th>\n",
       "      <th>25%</th>\n",
       "      <th>50%</th>\n",
       "      <th>75%</th>\n",
       "      <th>max</th>\n",
       "    </tr>\n",
       "  </thead>\n",
       "  <tbody>\n",
       "    <tr>\n",
       "      <th>DATE</th>\n",
       "      <td>264836.0</td>\n",
       "      <td>43464.036260</td>\n",
       "      <td>105.389282</td>\n",
       "      <td>43282.0</td>\n",
       "      <td>43373.0</td>\n",
       "      <td>43464.0</td>\n",
       "      <td>43555.00</td>\n",
       "      <td>43646.0</td>\n",
       "    </tr>\n",
       "    <tr>\n",
       "      <th>STORE_NBR</th>\n",
       "      <td>264836.0</td>\n",
       "      <td>135.080110</td>\n",
       "      <td>76.784180</td>\n",
       "      <td>1.0</td>\n",
       "      <td>70.0</td>\n",
       "      <td>130.0</td>\n",
       "      <td>203.00</td>\n",
       "      <td>272.0</td>\n",
       "    </tr>\n",
       "    <tr>\n",
       "      <th>LYLTY_CARD_NBR</th>\n",
       "      <td>264836.0</td>\n",
       "      <td>135549.476404</td>\n",
       "      <td>80579.978022</td>\n",
       "      <td>1000.0</td>\n",
       "      <td>70021.0</td>\n",
       "      <td>130357.5</td>\n",
       "      <td>203094.25</td>\n",
       "      <td>2373711.0</td>\n",
       "    </tr>\n",
       "    <tr>\n",
       "      <th>TXN_ID</th>\n",
       "      <td>264836.0</td>\n",
       "      <td>135158.310815</td>\n",
       "      <td>78133.026026</td>\n",
       "      <td>1.0</td>\n",
       "      <td>67601.5</td>\n",
       "      <td>135137.5</td>\n",
       "      <td>202701.25</td>\n",
       "      <td>2415841.0</td>\n",
       "    </tr>\n",
       "    <tr>\n",
       "      <th>PROD_NBR</th>\n",
       "      <td>264836.0</td>\n",
       "      <td>56.583157</td>\n",
       "      <td>32.826638</td>\n",
       "      <td>1.0</td>\n",
       "      <td>28.0</td>\n",
       "      <td>56.0</td>\n",
       "      <td>85.00</td>\n",
       "      <td>114.0</td>\n",
       "    </tr>\n",
       "    <tr>\n",
       "      <th>PROD_QTY</th>\n",
       "      <td>264836.0</td>\n",
       "      <td>1.907309</td>\n",
       "      <td>0.643654</td>\n",
       "      <td>1.0</td>\n",
       "      <td>2.0</td>\n",
       "      <td>2.0</td>\n",
       "      <td>2.00</td>\n",
       "      <td>200.0</td>\n",
       "    </tr>\n",
       "    <tr>\n",
       "      <th>TOT_SALES</th>\n",
       "      <td>264836.0</td>\n",
       "      <td>7.304200</td>\n",
       "      <td>3.083226</td>\n",
       "      <td>1.5</td>\n",
       "      <td>5.4</td>\n",
       "      <td>7.4</td>\n",
       "      <td>9.20</td>\n",
       "      <td>650.0</td>\n",
       "    </tr>\n",
       "  </tbody>\n",
       "</table>\n",
       "</div>"
      ],
      "text/plain": [
       "                   count           mean           std      min      25%  \\\n",
       "DATE            264836.0   43464.036260    105.389282  43282.0  43373.0   \n",
       "STORE_NBR       264836.0     135.080110     76.784180      1.0     70.0   \n",
       "LYLTY_CARD_NBR  264836.0  135549.476404  80579.978022   1000.0  70021.0   \n",
       "TXN_ID          264836.0  135158.310815  78133.026026      1.0  67601.5   \n",
       "PROD_NBR        264836.0      56.583157     32.826638      1.0     28.0   \n",
       "PROD_QTY        264836.0       1.907309      0.643654      1.0      2.0   \n",
       "TOT_SALES       264836.0       7.304200      3.083226      1.5      5.4   \n",
       "\n",
       "                     50%        75%        max  \n",
       "DATE             43464.0   43555.00    43646.0  \n",
       "STORE_NBR          130.0     203.00      272.0  \n",
       "LYLTY_CARD_NBR  130357.5  203094.25  2373711.0  \n",
       "TXN_ID          135137.5  202701.25  2415841.0  \n",
       "PROD_NBR            56.0      85.00      114.0  \n",
       "PROD_QTY             2.0       2.00      200.0  \n",
       "TOT_SALES            7.4       9.20      650.0  "
      ]
     },
     "execution_count": 7,
     "metadata": {},
     "output_type": "execute_result"
    }
   ],
   "source": [
    "# Statistical Summary of the dataset\n",
    "trans_df.describe().T"
   ]
  },
  {
   "cell_type": "code",
   "execution_count": 8,
   "id": "b1b88761",
   "metadata": {},
   "outputs": [
    {
     "data": {
      "text/html": [
       "<div>\n",
       "<style scoped>\n",
       "    .dataframe tbody tr th:only-of-type {\n",
       "        vertical-align: middle;\n",
       "    }\n",
       "\n",
       "    .dataframe tbody tr th {\n",
       "        vertical-align: top;\n",
       "    }\n",
       "\n",
       "    .dataframe thead th {\n",
       "        text-align: right;\n",
       "    }\n",
       "</style>\n",
       "<table border=\"1\" class=\"dataframe\">\n",
       "  <thead>\n",
       "    <tr style=\"text-align: right;\">\n",
       "      <th></th>\n",
       "      <th>count</th>\n",
       "      <th>mean</th>\n",
       "      <th>std</th>\n",
       "      <th>min</th>\n",
       "      <th>25%</th>\n",
       "      <th>50%</th>\n",
       "      <th>75%</th>\n",
       "      <th>max</th>\n",
       "    </tr>\n",
       "  </thead>\n",
       "  <tbody>\n",
       "    <tr>\n",
       "      <th>LYLTY_CARD_NBR</th>\n",
       "      <td>72637.0</td>\n",
       "      <td>136185.93177</td>\n",
       "      <td>89892.932014</td>\n",
       "      <td>1000.0</td>\n",
       "      <td>66202.0</td>\n",
       "      <td>134040.0</td>\n",
       "      <td>203375.0</td>\n",
       "      <td>2373711.0</td>\n",
       "    </tr>\n",
       "  </tbody>\n",
       "</table>\n",
       "</div>"
      ],
      "text/plain": [
       "                  count          mean           std     min      25%  \\\n",
       "LYLTY_CARD_NBR  72637.0  136185.93177  89892.932014  1000.0  66202.0   \n",
       "\n",
       "                     50%       75%        max  \n",
       "LYLTY_CARD_NBR  134040.0  203375.0  2373711.0  "
      ]
     },
     "execution_count": 8,
     "metadata": {},
     "output_type": "execute_result"
    }
   ],
   "source": [
    "# Statistical Summary of the dataset\n",
    "customer_df.describe().T"
   ]
  },
  {
   "cell_type": "markdown",
   "id": "627f926f",
   "metadata": {},
   "source": [
    "## To check whether there is null values"
   ]
  },
  {
   "cell_type": "code",
   "execution_count": 9,
   "id": "a59ae07d",
   "metadata": {},
   "outputs": [
    {
     "data": {
      "text/plain": [
       "DATE              0\n",
       "STORE_NBR         0\n",
       "LYLTY_CARD_NBR    0\n",
       "TXN_ID            0\n",
       "PROD_NBR          0\n",
       "PROD_NAME         0\n",
       "PROD_QTY          0\n",
       "TOT_SALES         0\n",
       "dtype: int64"
      ]
     },
     "execution_count": 9,
     "metadata": {},
     "output_type": "execute_result"
    }
   ],
   "source": [
    "trans_df.isnull().sum()"
   ]
  },
  {
   "cell_type": "code",
   "execution_count": 10,
   "id": "5854c792",
   "metadata": {},
   "outputs": [
    {
     "data": {
      "text/plain": [
       "LYLTY_CARD_NBR      0\n",
       "LIFESTAGE           0\n",
       "PREMIUM_CUSTOMER    0\n",
       "dtype: int64"
      ]
     },
     "execution_count": 10,
     "metadata": {},
     "output_type": "execute_result"
    }
   ],
   "source": [
    "customer_df.isnull().sum()"
   ]
  },
  {
   "cell_type": "markdown",
   "id": "1ac4e53e",
   "metadata": {},
   "source": [
    "#### -----> No null values in either of the datasets"
   ]
  },
  {
   "cell_type": "markdown",
   "id": "eefbad65",
   "metadata": {},
   "source": [
    "## To check the data types of the entry"
   ]
  },
  {
   "cell_type": "code",
   "execution_count": 11,
   "id": "ac1505ec",
   "metadata": {},
   "outputs": [
    {
     "data": {
      "text/plain": [
       "DATE                int64\n",
       "STORE_NBR           int64\n",
       "LYLTY_CARD_NBR      int64\n",
       "TXN_ID              int64\n",
       "PROD_NBR            int64\n",
       "PROD_NAME          object\n",
       "PROD_QTY            int64\n",
       "TOT_SALES         float64\n",
       "dtype: object"
      ]
     },
     "execution_count": 11,
     "metadata": {},
     "output_type": "execute_result"
    }
   ],
   "source": [
    "trans_dtype = trans_df.dtypes\n",
    "trans_dtype"
   ]
  },
  {
   "cell_type": "markdown",
   "id": "c979f8a8",
   "metadata": {},
   "source": [
    "#### To correct the dtype of date column from integer to date type"
   ]
  },
  {
   "cell_type": "code",
   "execution_count": 12,
   "id": "7ea0184f",
   "metadata": {},
   "outputs": [
    {
     "name": "stdout",
     "output_type": "stream",
     "text": [
      "datetime64[ns]\n"
     ]
    }
   ],
   "source": [
    "trans_df['DATE'] = pd.to_datetime(trans_df['DATE'], unit='D', origin='1899-12-30')\n",
    "print(trans_df['DATE'].dtype) "
   ]
  },
  {
   "cell_type": "code",
   "execution_count": 13,
   "id": "41e91970",
   "metadata": {},
   "outputs": [
    {
     "data": {
      "text/plain": [
       "0        2018-10-17\n",
       "1        2019-05-14\n",
       "2        2019-05-20\n",
       "3        2018-08-17\n",
       "4        2018-08-18\n",
       "            ...    \n",
       "264831   2019-03-09\n",
       "264832   2018-08-13\n",
       "264833   2018-11-06\n",
       "264834   2018-12-27\n",
       "264835   2018-09-22\n",
       "Name: DATE, Length: 264836, dtype: datetime64[ns]"
      ]
     },
     "execution_count": 13,
     "metadata": {},
     "output_type": "execute_result"
    }
   ],
   "source": [
    "trans_df['DATE']"
   ]
  },
  {
   "cell_type": "code",
   "execution_count": 14,
   "id": "28c9ac65",
   "metadata": {},
   "outputs": [
    {
     "data": {
      "text/plain": [
       "DATE              datetime64[ns]\n",
       "STORE_NBR                  int64\n",
       "LYLTY_CARD_NBR             int64\n",
       "TXN_ID                     int64\n",
       "PROD_NBR                   int64\n",
       "PROD_NAME                 object\n",
       "PROD_QTY                   int64\n",
       "TOT_SALES                float64\n",
       "dtype: object"
      ]
     },
     "execution_count": 14,
     "metadata": {},
     "output_type": "execute_result"
    }
   ],
   "source": [
    "trans_dtype = trans_df.dtypes\n",
    "trans_dtype"
   ]
  },
  {
   "cell_type": "code",
   "execution_count": 15,
   "id": "3c570882",
   "metadata": {},
   "outputs": [
    {
     "name": "stdout",
     "output_type": "stream",
     "text": [
      "<class 'pandas.core.frame.DataFrame'>\n",
      "RangeIndex: 264836 entries, 0 to 264835\n",
      "Data columns (total 8 columns):\n",
      " #   Column          Non-Null Count   Dtype         \n",
      "---  ------          --------------   -----         \n",
      " 0   DATE            264836 non-null  datetime64[ns]\n",
      " 1   STORE_NBR       264836 non-null  int64         \n",
      " 2   LYLTY_CARD_NBR  264836 non-null  int64         \n",
      " 3   TXN_ID          264836 non-null  int64         \n",
      " 4   PROD_NBR        264836 non-null  int64         \n",
      " 5   PROD_NAME       264836 non-null  object        \n",
      " 6   PROD_QTY        264836 non-null  int64         \n",
      " 7   TOT_SALES       264836 non-null  float64       \n",
      "dtypes: datetime64[ns](1), float64(1), int64(5), object(1)\n",
      "memory usage: 15.2+ MB\n"
     ]
    }
   ],
   "source": [
    "trans_df.info()"
   ]
  },
  {
   "cell_type": "code",
   "execution_count": 16,
   "id": "383f9c5a",
   "metadata": {},
   "outputs": [
    {
     "data": {
      "text/plain": [
       "LYLTY_CARD_NBR       int64\n",
       "LIFESTAGE           object\n",
       "PREMIUM_CUSTOMER    object\n",
       "dtype: object"
      ]
     },
     "execution_count": 16,
     "metadata": {},
     "output_type": "execute_result"
    }
   ],
   "source": [
    "customer_dtype = customer_df.dtypes\n",
    "customer_dtype"
   ]
  },
  {
   "cell_type": "markdown",
   "id": "512dc12a",
   "metadata": {},
   "source": [
    "## To find outliers"
   ]
  },
  {
   "cell_type": "markdown",
   "id": "52b1175c",
   "metadata": {},
   "source": [
    "### Merge the data "
   ]
  },
  {
   "cell_type": "code",
   "execution_count": 17,
   "id": "56003c6c",
   "metadata": {},
   "outputs": [
    {
     "data": {
      "text/html": [
       "<div>\n",
       "<style scoped>\n",
       "    .dataframe tbody tr th:only-of-type {\n",
       "        vertical-align: middle;\n",
       "    }\n",
       "\n",
       "    .dataframe tbody tr th {\n",
       "        vertical-align: top;\n",
       "    }\n",
       "\n",
       "    .dataframe thead th {\n",
       "        text-align: right;\n",
       "    }\n",
       "</style>\n",
       "<table border=\"1\" class=\"dataframe\">\n",
       "  <thead>\n",
       "    <tr style=\"text-align: right;\">\n",
       "      <th></th>\n",
       "      <th>DATE</th>\n",
       "      <th>STORE_NBR</th>\n",
       "      <th>LYLTY_CARD_NBR</th>\n",
       "      <th>TXN_ID</th>\n",
       "      <th>PROD_NBR</th>\n",
       "      <th>PROD_NAME</th>\n",
       "      <th>PROD_QTY</th>\n",
       "      <th>TOT_SALES</th>\n",
       "      <th>LIFESTAGE</th>\n",
       "      <th>PREMIUM_CUSTOMER</th>\n",
       "    </tr>\n",
       "  </thead>\n",
       "  <tbody>\n",
       "    <tr>\n",
       "      <th>0</th>\n",
       "      <td>2018-10-17</td>\n",
       "      <td>1</td>\n",
       "      <td>1000</td>\n",
       "      <td>1</td>\n",
       "      <td>5</td>\n",
       "      <td>Natural Chip        Compny SeaSalt175g</td>\n",
       "      <td>2</td>\n",
       "      <td>6.0</td>\n",
       "      <td>YOUNG SINGLES/COUPLES</td>\n",
       "      <td>Premium</td>\n",
       "    </tr>\n",
       "    <tr>\n",
       "      <th>1</th>\n",
       "      <td>2018-09-16</td>\n",
       "      <td>1</td>\n",
       "      <td>1002</td>\n",
       "      <td>2</td>\n",
       "      <td>58</td>\n",
       "      <td>Red Rock Deli Chikn&amp;Garlic Aioli 150g</td>\n",
       "      <td>1</td>\n",
       "      <td>2.7</td>\n",
       "      <td>YOUNG SINGLES/COUPLES</td>\n",
       "      <td>Mainstream</td>\n",
       "    </tr>\n",
       "    <tr>\n",
       "      <th>2</th>\n",
       "      <td>2019-03-07</td>\n",
       "      <td>1</td>\n",
       "      <td>1003</td>\n",
       "      <td>3</td>\n",
       "      <td>52</td>\n",
       "      <td>Grain Waves Sour    Cream&amp;Chives 210G</td>\n",
       "      <td>1</td>\n",
       "      <td>3.6</td>\n",
       "      <td>YOUNG FAMILIES</td>\n",
       "      <td>Budget</td>\n",
       "    </tr>\n",
       "    <tr>\n",
       "      <th>3</th>\n",
       "      <td>2019-03-08</td>\n",
       "      <td>1</td>\n",
       "      <td>1003</td>\n",
       "      <td>4</td>\n",
       "      <td>106</td>\n",
       "      <td>Natural ChipCo      Hony Soy Chckn175g</td>\n",
       "      <td>1</td>\n",
       "      <td>3.0</td>\n",
       "      <td>YOUNG FAMILIES</td>\n",
       "      <td>Budget</td>\n",
       "    </tr>\n",
       "    <tr>\n",
       "      <th>4</th>\n",
       "      <td>2018-11-02</td>\n",
       "      <td>1</td>\n",
       "      <td>1004</td>\n",
       "      <td>5</td>\n",
       "      <td>96</td>\n",
       "      <td>WW Original Stacked Chips 160g</td>\n",
       "      <td>1</td>\n",
       "      <td>1.9</td>\n",
       "      <td>OLDER SINGLES/COUPLES</td>\n",
       "      <td>Mainstream</td>\n",
       "    </tr>\n",
       "  </tbody>\n",
       "</table>\n",
       "</div>"
      ],
      "text/plain": [
       "        DATE  STORE_NBR  LYLTY_CARD_NBR  TXN_ID  PROD_NBR  \\\n",
       "0 2018-10-17          1            1000       1         5   \n",
       "1 2018-09-16          1            1002       2        58   \n",
       "2 2019-03-07          1            1003       3        52   \n",
       "3 2019-03-08          1            1003       4       106   \n",
       "4 2018-11-02          1            1004       5        96   \n",
       "\n",
       "                                PROD_NAME  PROD_QTY  TOT_SALES  \\\n",
       "0  Natural Chip        Compny SeaSalt175g         2        6.0   \n",
       "1   Red Rock Deli Chikn&Garlic Aioli 150g         1        2.7   \n",
       "2   Grain Waves Sour    Cream&Chives 210G         1        3.6   \n",
       "3  Natural ChipCo      Hony Soy Chckn175g         1        3.0   \n",
       "4          WW Original Stacked Chips 160g         1        1.9   \n",
       "\n",
       "               LIFESTAGE PREMIUM_CUSTOMER  \n",
       "0  YOUNG SINGLES/COUPLES          Premium  \n",
       "1  YOUNG SINGLES/COUPLES       Mainstream  \n",
       "2         YOUNG FAMILIES           Budget  \n",
       "3         YOUNG FAMILIES           Budget  \n",
       "4  OLDER SINGLES/COUPLES       Mainstream  "
      ]
     },
     "execution_count": 17,
     "metadata": {},
     "output_type": "execute_result"
    }
   ],
   "source": [
    "# Merging both dataset\n",
    "merged_df = pd.merge(trans_df, customer_df, on = 'LYLTY_CARD_NBR', how ='right')\n",
    "merged_df.head()"
   ]
  },
  {
   "cell_type": "code",
   "execution_count": 18,
   "id": "e4f56368",
   "metadata": {},
   "outputs": [
    {
     "name": "stdout",
     "output_type": "stream",
     "text": [
      "<class 'pandas.core.frame.DataFrame'>\n",
      "Int64Index: 264836 entries, 0 to 264835\n",
      "Data columns (total 10 columns):\n",
      " #   Column            Non-Null Count   Dtype         \n",
      "---  ------            --------------   -----         \n",
      " 0   DATE              264836 non-null  datetime64[ns]\n",
      " 1   STORE_NBR         264836 non-null  int64         \n",
      " 2   LYLTY_CARD_NBR    264836 non-null  int64         \n",
      " 3   TXN_ID            264836 non-null  int64         \n",
      " 4   PROD_NBR          264836 non-null  int64         \n",
      " 5   PROD_NAME         264836 non-null  object        \n",
      " 6   PROD_QTY          264836 non-null  int64         \n",
      " 7   TOT_SALES         264836 non-null  float64       \n",
      " 8   LIFESTAGE         264836 non-null  object        \n",
      " 9   PREMIUM_CUSTOMER  264836 non-null  object        \n",
      "dtypes: datetime64[ns](1), float64(1), int64(5), object(3)\n",
      "memory usage: 19.2+ MB\n"
     ]
    }
   ],
   "source": [
    "# Informations about the merged data\n",
    "merged_df.info()"
   ]
  },
  {
   "cell_type": "markdown",
   "id": "bec79b17",
   "metadata": {},
   "source": [
    "## Check the product names"
   ]
  },
  {
   "cell_type": "code",
   "execution_count": 19,
   "id": "9ffffa8c",
   "metadata": {},
   "outputs": [
    {
     "data": {
      "text/plain": [
       "array(['Natural Chip        Compny SeaSalt175g',\n",
       "       'Red Rock Deli Chikn&Garlic Aioli 150g',\n",
       "       'Grain Waves Sour    Cream&Chives 210G',\n",
       "       'Natural ChipCo      Hony Soy Chckn175g',\n",
       "       'WW Original Stacked Chips 160g', 'Cheetos Puffs 165g',\n",
       "       'Infuzions SourCream&Herbs Veg Strws 110g',\n",
       "       'RRD SR Slow Rst     Pork Belly 150g',\n",
       "       'Doritos Cheese      Supreme 330g', 'Doritos Mexicana    170g',\n",
       "       'Old El Paso Salsa   Dip Tomato Med 300g',\n",
       "       'GrnWves Plus Btroot & Chilli Jam 180g',\n",
       "       'Smiths Crinkle Cut  Chips Barbecue 170g',\n",
       "       'Kettle Sensations   Camembert & Fig 150g',\n",
       "       'Doritos Corn Chip Southern Chicken 150g',\n",
       "       'CCs Tasty Cheese    175g', 'Tostitos Splash Of  Lime 175g',\n",
       "       'Kettle 135g Swt Pot Sea Salt', 'RRD Salt & Vinegar  165g',\n",
       "       'Infuzions Mango     Chutny Papadums 70g',\n",
       "       'Smiths Crinkle Cut  Snag&Sauce 150g',\n",
       "       'Smiths Crinkle      Original 330g',\n",
       "       'RRD Sweet Chilli &  Sour Cream 165g',\n",
       "       'Smiths Chip Thinly  S/Cream&Onion 175g',\n",
       "       'Smiths Crinkle Chips Salt & Vinegar 330g',\n",
       "       'Red Rock Deli SR    Salsa & Mzzrlla 150g',\n",
       "       'Cobs Popd Sea Salt  Chips 110g',\n",
       "       'Natural ChipCo Sea  Salt & Vinegr 175g',\n",
       "       'Natural Chip Co     Tmato Hrb&Spce 175g', 'Burger Rings 220g',\n",
       "       'Woolworths Cheese   Rings 190g',\n",
       "       'Smiths Thinly       Swt Chli&S/Cream175G',\n",
       "       'Thins Chips Seasonedchicken 175g',\n",
       "       'Smiths Thinly Cut   Roast Chicken 175g',\n",
       "       'Tyrrells Crisps     Ched & Chives 165g',\n",
       "       'Doritos Corn Chips  Cheese Supreme 170g',\n",
       "       'Smiths Chip Thinly  Cut Original 175g',\n",
       "       'Smiths Crinkle Cut  Chips Original 170g',\n",
       "       'Thins Chips Light&  Tangy 175g',\n",
       "       'Doritos Corn Chips  Original 170g',\n",
       "       'Kettle Sensations   Siracha Lime 150g',\n",
       "       'Smiths Crinkle Cut  Salt & Vinegar 170g',\n",
       "       'Smith Crinkle Cut   Bolognese 150g', 'Cheezels Cheese 330g',\n",
       "       'Kettle Chilli 175g', 'Tyrrells Crisps     Lightly Salted 165g',\n",
       "       'Twisties Cheese     270g', 'WW Crinkle Cut      Chicken 175g',\n",
       "       'RRD Chilli&         Coconut 150g',\n",
       "       'Infuzions BBQ Rib   Prawn Crackers 110g',\n",
       "       'Sunbites Whlegrn    Crisps Frch/Onin 90g',\n",
       "       'Doritos Salsa       Medium 300g',\n",
       "       'Kettle Tortilla ChpsFeta&Garlic 150g',\n",
       "       'Smiths Crinkle Cut  French OnionDip 150g',\n",
       "       'WW D/Style Chip     Sea Salt 200g',\n",
       "       'Smiths Chip Thinly  CutSalt/Vinegr175g',\n",
       "       'Kettle Sensations   BBQ&Maple 150g',\n",
       "       'Old El Paso Salsa   Dip Tomato Mild 300g',\n",
       "       'Tostitos Smoked     Chipotle 175g', 'RRD Lime & Pepper   165g',\n",
       "       'CCs Nacho Cheese    175g', 'Snbts Whlgrn Crisps Cheddr&Mstrd 90g',\n",
       "       'Kettle Tortilla ChpsBtroot&Ricotta 150g',\n",
       "       'Pringles Sthrn FriedChicken 134g',\n",
       "       'Pringles Chicken    Salt Crips 134g',\n",
       "       'French Fries Potato Chips 175g',\n",
       "       'Kettle Mozzarella   Basil & Pesto 175g', 'CCs Original 175g',\n",
       "       'Tostitos Lightly    Salted 175g',\n",
       "       'Smiths Crnkle Chip  Orgnl Big Bag 380g',\n",
       "       'Smiths Crinkle Cut  Chips Chicken 170g',\n",
       "       'Smiths Crinkle Cut  Chips Chs&Onion170g', 'Twisties Chicken270g',\n",
       "       'Woolworths Medium   Salsa 300g',\n",
       "       'Red Rock Deli Sp    Salt & Truffle 150G',\n",
       "       'RRD Pc Sea Salt     165g', 'WW Supreme Cheese   Corn Chips 200g',\n",
       "       'WW Original Corn    Chips 200g', 'Woolworths Mild     Salsa 300g',\n",
       "       'Cheezels Cheese Box 125g', 'Doritos Salsa Mild  300g',\n",
       "       'Cobs Popd Swt/Chlli &Sr/Cream Chips 110g',\n",
       "       'Infzns Crn Crnchers Tangy Gcamole 110g',\n",
       "       'WW Sour Cream &OnionStacked Chips 160g',\n",
       "       'Pringles Mystery    Flavour 134g', 'Pringles Barbeque   134g',\n",
       "       'Grain Waves         Sweet Chilli 210g',\n",
       "       'Pringles Sweet&Spcy BBQ 134g', 'Kettle Original 175g',\n",
       "       'Infuzions Thai SweetChili PotatoMix 110g',\n",
       "       'Old El Paso Salsa   Dip Chnky Tom Ht300g',\n",
       "       'Smiths Crinkle Cut  Tomato Salsa 150g',\n",
       "       'Cheetos Chs & Bacon Balls 190g',\n",
       "       'Kettle Sweet Chilli And Sour Cream 175g',\n",
       "       'Doritos Corn Chips  Nacho Cheese 170g',\n",
       "       'Cobs Popd Sour Crm  &Chives Chips 110g',\n",
       "       'Red Rock Deli Thai  Chilli&Lime 150g',\n",
       "       'Twisties Cheese     Burger 250g',\n",
       "       'Kettle Sea Salt     And Vinegar 175g',\n",
       "       'WW Crinkle Cut      Original 175g',\n",
       "       'Dorito Corn Chp     Supreme 380g',\n",
       "       'Doritos Corn Chip Mexican Jalapeno 150g',\n",
       "       'Pringles SourCream  Onion 134g',\n",
       "       'Kettle Tortilla ChpsHny&Jlpno Chili 150g',\n",
       "       'RRD Steak &         Chimuchurri 150g',\n",
       "       'Thins Chips Salt &  Vinegar 175g',\n",
       "       'Thins Chips         Originl saltd 175g',\n",
       "       'RRD Honey Soy       Chicken 165g',\n",
       "       'Kettle Honey Soy    Chicken 175g',\n",
       "       'NCC Sour Cream &    Garden Chives 175g',\n",
       "       'Pringles Original   Crisps 134g',\n",
       "       'Smith Crinkle Cut   Mac N Cheese 150g',\n",
       "       'Thins Potato Chips  Hot & Spicy 175g', 'Pringles Slt Vingar 134g'],\n",
       "      dtype=object)"
      ]
     },
     "execution_count": 19,
     "metadata": {},
     "output_type": "execute_result"
    }
   ],
   "source": [
    "merged_df['PROD_NAME'].unique()"
   ]
  },
  {
   "cell_type": "code",
   "execution_count": 20,
   "id": "c6bcaff8",
   "metadata": {},
   "outputs": [
    {
     "name": "stderr",
     "output_type": "stream",
     "text": [
      "C:\\Users\\ASUS\\AppData\\Local\\Temp/ipykernel_16156/2341025304.py:2: FutureWarning: The default value of regex will change from True to False in a future version.\n",
      "  product_names = merged_df[\"PROD_NAME\"].str.replace(r'([0-9]+[gG])','')\n"
     ]
    }
   ],
   "source": [
    "# To extract just the product names\n",
    "product_names = merged_df[\"PROD_NAME\"].str.replace(r'([0-9]+[gG])','')\n",
    "product_names= product_names.str.replace(r'&',' ').str.split()"
   ]
  },
  {
   "cell_type": "code",
   "execution_count": 21,
   "id": "c57ae55b",
   "metadata": {},
   "outputs": [
    {
     "name": "stdout",
     "output_type": "stream",
     "text": [
      "Chips        49770\n",
      "Kettle       41288\n",
      "Smiths       28860\n",
      "Salt         27976\n",
      "Cheese       27890\n",
      "             ...  \n",
      "Frch/Onin     1432\n",
      "Pc            1431\n",
      "NCC           1419\n",
      "Garden        1419\n",
      "Fries         1418\n",
      "Length: 196, dtype: int64\n"
     ]
    }
   ],
   "source": [
    "# Flatten the list of lists in `product_names` to a single list of words\n",
    "all_words = [word for words in product_names for word in words]\n",
    "\n",
    "# Convert to a pandas Series and count occurrences of each word\n",
    "word_counts = pd.Series(all_words).value_counts()\n",
    "\n",
    "print(word_counts)"
   ]
  },
  {
   "cell_type": "code",
   "execution_count": 22,
   "id": "d1bc1870",
   "metadata": {},
   "outputs": [],
   "source": [
    "# merged_df =  merged_df[merged_df['PROD_NAME'].str.contains(r'[Ss]alsa')==False]"
   ]
  },
  {
   "cell_type": "code",
   "execution_count": 23,
   "id": "cd58adb3",
   "metadata": {},
   "outputs": [],
   "source": [
    "# merged_df['PROD_NAME'].str.contains(r'[Ss]alsa')==False"
   ]
  },
  {
   "cell_type": "markdown",
   "id": "5e78fd5a",
   "metadata": {},
   "source": [
    "#### To find outliers"
   ]
  },
  {
   "cell_type": "code",
   "execution_count": 24,
   "id": "7df228ef",
   "metadata": {},
   "outputs": [
    {
     "data": {
      "text/html": [
       "<div>\n",
       "<style scoped>\n",
       "    .dataframe tbody tr th:only-of-type {\n",
       "        vertical-align: middle;\n",
       "    }\n",
       "\n",
       "    .dataframe tbody tr th {\n",
       "        vertical-align: top;\n",
       "    }\n",
       "\n",
       "    .dataframe thead th {\n",
       "        text-align: right;\n",
       "    }\n",
       "</style>\n",
       "<table border=\"1\" class=\"dataframe\">\n",
       "  <thead>\n",
       "    <tr style=\"text-align: right;\">\n",
       "      <th></th>\n",
       "      <th>STORE_NBR</th>\n",
       "      <th>LYLTY_CARD_NBR</th>\n",
       "      <th>TXN_ID</th>\n",
       "      <th>PROD_NBR</th>\n",
       "      <th>PROD_QTY</th>\n",
       "      <th>TOT_SALES</th>\n",
       "    </tr>\n",
       "  </thead>\n",
       "  <tbody>\n",
       "    <tr>\n",
       "      <th>count</th>\n",
       "      <td>264836.00000</td>\n",
       "      <td>2.648360e+05</td>\n",
       "      <td>2.648360e+05</td>\n",
       "      <td>264836.000000</td>\n",
       "      <td>264836.000000</td>\n",
       "      <td>264836.000000</td>\n",
       "    </tr>\n",
       "    <tr>\n",
       "      <th>mean</th>\n",
       "      <td>135.08011</td>\n",
       "      <td>1.355495e+05</td>\n",
       "      <td>1.351583e+05</td>\n",
       "      <td>56.583157</td>\n",
       "      <td>1.907309</td>\n",
       "      <td>7.304200</td>\n",
       "    </tr>\n",
       "    <tr>\n",
       "      <th>std</th>\n",
       "      <td>76.78418</td>\n",
       "      <td>8.057998e+04</td>\n",
       "      <td>7.813303e+04</td>\n",
       "      <td>32.826638</td>\n",
       "      <td>0.643654</td>\n",
       "      <td>3.083226</td>\n",
       "    </tr>\n",
       "    <tr>\n",
       "      <th>min</th>\n",
       "      <td>1.00000</td>\n",
       "      <td>1.000000e+03</td>\n",
       "      <td>1.000000e+00</td>\n",
       "      <td>1.000000</td>\n",
       "      <td>1.000000</td>\n",
       "      <td>1.500000</td>\n",
       "    </tr>\n",
       "    <tr>\n",
       "      <th>25%</th>\n",
       "      <td>70.00000</td>\n",
       "      <td>7.002100e+04</td>\n",
       "      <td>6.760150e+04</td>\n",
       "      <td>28.000000</td>\n",
       "      <td>2.000000</td>\n",
       "      <td>5.400000</td>\n",
       "    </tr>\n",
       "    <tr>\n",
       "      <th>50%</th>\n",
       "      <td>130.00000</td>\n",
       "      <td>1.303575e+05</td>\n",
       "      <td>1.351375e+05</td>\n",
       "      <td>56.000000</td>\n",
       "      <td>2.000000</td>\n",
       "      <td>7.400000</td>\n",
       "    </tr>\n",
       "    <tr>\n",
       "      <th>75%</th>\n",
       "      <td>203.00000</td>\n",
       "      <td>2.030942e+05</td>\n",
       "      <td>2.027012e+05</td>\n",
       "      <td>85.000000</td>\n",
       "      <td>2.000000</td>\n",
       "      <td>9.200000</td>\n",
       "    </tr>\n",
       "    <tr>\n",
       "      <th>max</th>\n",
       "      <td>272.00000</td>\n",
       "      <td>2.373711e+06</td>\n",
       "      <td>2.415841e+06</td>\n",
       "      <td>114.000000</td>\n",
       "      <td>200.000000</td>\n",
       "      <td>650.000000</td>\n",
       "    </tr>\n",
       "  </tbody>\n",
       "</table>\n",
       "</div>"
      ],
      "text/plain": [
       "          STORE_NBR  LYLTY_CARD_NBR        TXN_ID       PROD_NBR  \\\n",
       "count  264836.00000    2.648360e+05  2.648360e+05  264836.000000   \n",
       "mean      135.08011    1.355495e+05  1.351583e+05      56.583157   \n",
       "std        76.78418    8.057998e+04  7.813303e+04      32.826638   \n",
       "min         1.00000    1.000000e+03  1.000000e+00       1.000000   \n",
       "25%        70.00000    7.002100e+04  6.760150e+04      28.000000   \n",
       "50%       130.00000    1.303575e+05  1.351375e+05      56.000000   \n",
       "75%       203.00000    2.030942e+05  2.027012e+05      85.000000   \n",
       "max       272.00000    2.373711e+06  2.415841e+06     114.000000   \n",
       "\n",
       "            PROD_QTY      TOT_SALES  \n",
       "count  264836.000000  264836.000000  \n",
       "mean        1.907309       7.304200  \n",
       "std         0.643654       3.083226  \n",
       "min         1.000000       1.500000  \n",
       "25%         2.000000       5.400000  \n",
       "50%         2.000000       7.400000  \n",
       "75%         2.000000       9.200000  \n",
       "max       200.000000     650.000000  "
      ]
     },
     "execution_count": 24,
     "metadata": {},
     "output_type": "execute_result"
    }
   ],
   "source": [
    "merged_df.describe()"
   ]
  },
  {
   "cell_type": "code",
   "execution_count": 25,
   "id": "2dd07cfe",
   "metadata": {},
   "outputs": [
    {
     "data": {
      "text/plain": [
       "False"
      ]
     },
     "execution_count": 25,
     "metadata": {},
     "output_type": "execute_result"
    }
   ],
   "source": [
    "merged_df.isnull().values.any()"
   ]
  },
  {
   "cell_type": "markdown",
   "id": "9a55e0ee",
   "metadata": {},
   "source": [
    "#### Product quantity has an outlier of value 200"
   ]
  },
  {
   "cell_type": "code",
   "execution_count": 26,
   "id": "abe0fa81",
   "metadata": {},
   "outputs": [
    {
     "data": {
      "text/html": [
       "<div>\n",
       "<style scoped>\n",
       "    .dataframe tbody tr th:only-of-type {\n",
       "        vertical-align: middle;\n",
       "    }\n",
       "\n",
       "    .dataframe tbody tr th {\n",
       "        vertical-align: top;\n",
       "    }\n",
       "\n",
       "    .dataframe thead th {\n",
       "        text-align: right;\n",
       "    }\n",
       "</style>\n",
       "<table border=\"1\" class=\"dataframe\">\n",
       "  <thead>\n",
       "    <tr style=\"text-align: right;\">\n",
       "      <th></th>\n",
       "      <th>DATE</th>\n",
       "      <th>STORE_NBR</th>\n",
       "      <th>LYLTY_CARD_NBR</th>\n",
       "      <th>TXN_ID</th>\n",
       "      <th>PROD_NBR</th>\n",
       "      <th>PROD_NAME</th>\n",
       "      <th>PROD_QTY</th>\n",
       "      <th>TOT_SALES</th>\n",
       "      <th>LIFESTAGE</th>\n",
       "      <th>PREMIUM_CUSTOMER</th>\n",
       "    </tr>\n",
       "  </thead>\n",
       "  <tbody>\n",
       "    <tr>\n",
       "      <th>221626</th>\n",
       "      <td>2019-05-20</td>\n",
       "      <td>226</td>\n",
       "      <td>226000</td>\n",
       "      <td>226210</td>\n",
       "      <td>4</td>\n",
       "      <td>Dorito Corn Chp     Supreme 380g</td>\n",
       "      <td>200</td>\n",
       "      <td>650.0</td>\n",
       "      <td>OLDER FAMILIES</td>\n",
       "      <td>Premium</td>\n",
       "    </tr>\n",
       "    <tr>\n",
       "      <th>221625</th>\n",
       "      <td>2018-08-19</td>\n",
       "      <td>226</td>\n",
       "      <td>226000</td>\n",
       "      <td>226201</td>\n",
       "      <td>4</td>\n",
       "      <td>Dorito Corn Chp     Supreme 380g</td>\n",
       "      <td>200</td>\n",
       "      <td>650.0</td>\n",
       "      <td>OLDER FAMILIES</td>\n",
       "      <td>Premium</td>\n",
       "    </tr>\n",
       "    <tr>\n",
       "      <th>145041</th>\n",
       "      <td>2019-05-20</td>\n",
       "      <td>148</td>\n",
       "      <td>148238</td>\n",
       "      <td>148046</td>\n",
       "      <td>87</td>\n",
       "      <td>Infuzions BBQ Rib   Prawn Crackers 110g</td>\n",
       "      <td>5</td>\n",
       "      <td>19.0</td>\n",
       "      <td>OLDER SINGLES/COUPLES</td>\n",
       "      <td>Mainstream</td>\n",
       "    </tr>\n",
       "    <tr>\n",
       "      <th>89729</th>\n",
       "      <td>2018-08-16</td>\n",
       "      <td>93</td>\n",
       "      <td>93152</td>\n",
       "      <td>91631</td>\n",
       "      <td>46</td>\n",
       "      <td>Kettle Original 175g</td>\n",
       "      <td>5</td>\n",
       "      <td>27.0</td>\n",
       "      <td>RETIREES</td>\n",
       "      <td>Premium</td>\n",
       "    </tr>\n",
       "    <tr>\n",
       "      <th>76734</th>\n",
       "      <td>2018-08-15</td>\n",
       "      <td>80</td>\n",
       "      <td>80018</td>\n",
       "      <td>78356</td>\n",
       "      <td>26</td>\n",
       "      <td>Pringles Sweet&amp;Spcy BBQ 134g</td>\n",
       "      <td>5</td>\n",
       "      <td>18.5</td>\n",
       "      <td>MIDAGE SINGLES/COUPLES</td>\n",
       "      <td>Mainstream</td>\n",
       "    </tr>\n",
       "  </tbody>\n",
       "</table>\n",
       "</div>"
      ],
      "text/plain": [
       "             DATE  STORE_NBR  LYLTY_CARD_NBR  TXN_ID  PROD_NBR  \\\n",
       "221626 2019-05-20        226          226000  226210         4   \n",
       "221625 2018-08-19        226          226000  226201         4   \n",
       "145041 2019-05-20        148          148238  148046        87   \n",
       "89729  2018-08-16         93           93152   91631        46   \n",
       "76734  2018-08-15         80           80018   78356        26   \n",
       "\n",
       "                                      PROD_NAME  PROD_QTY  TOT_SALES  \\\n",
       "221626         Dorito Corn Chp     Supreme 380g       200      650.0   \n",
       "221625         Dorito Corn Chp     Supreme 380g       200      650.0   \n",
       "145041  Infuzions BBQ Rib   Prawn Crackers 110g         5       19.0   \n",
       "89729                      Kettle Original 175g         5       27.0   \n",
       "76734              Pringles Sweet&Spcy BBQ 134g         5       18.5   \n",
       "\n",
       "                     LIFESTAGE PREMIUM_CUSTOMER  \n",
       "221626          OLDER FAMILIES          Premium  \n",
       "221625          OLDER FAMILIES          Premium  \n",
       "145041   OLDER SINGLES/COUPLES       Mainstream  \n",
       "89729                 RETIREES          Premium  \n",
       "76734   MIDAGE SINGLES/COUPLES       Mainstream  "
      ]
     },
     "execution_count": 26,
     "metadata": {},
     "output_type": "execute_result"
    }
   ],
   "source": [
    "# To sort the values of the porduct quantity, so as to identify the outliers\n",
    "merged_df.sort_values(by ='PROD_QTY', ascending = False).head()"
   ]
  },
  {
   "cell_type": "code",
   "execution_count": 27,
   "id": "1776cf61",
   "metadata": {},
   "outputs": [
    {
     "data": {
      "text/html": [
       "<div>\n",
       "<style scoped>\n",
       "    .dataframe tbody tr th:only-of-type {\n",
       "        vertical-align: middle;\n",
       "    }\n",
       "\n",
       "    .dataframe tbody tr th {\n",
       "        vertical-align: top;\n",
       "    }\n",
       "\n",
       "    .dataframe thead th {\n",
       "        text-align: right;\n",
       "    }\n",
       "</style>\n",
       "<table border=\"1\" class=\"dataframe\">\n",
       "  <thead>\n",
       "    <tr style=\"text-align: right;\">\n",
       "      <th></th>\n",
       "      <th>DATE</th>\n",
       "      <th>STORE_NBR</th>\n",
       "      <th>LYLTY_CARD_NBR</th>\n",
       "      <th>TXN_ID</th>\n",
       "      <th>PROD_NBR</th>\n",
       "      <th>PROD_NAME</th>\n",
       "      <th>PROD_QTY</th>\n",
       "      <th>TOT_SALES</th>\n",
       "      <th>LIFESTAGE</th>\n",
       "      <th>PREMIUM_CUSTOMER</th>\n",
       "    </tr>\n",
       "  </thead>\n",
       "  <tbody>\n",
       "    <tr>\n",
       "      <th>221625</th>\n",
       "      <td>2018-08-19</td>\n",
       "      <td>226</td>\n",
       "      <td>226000</td>\n",
       "      <td>226201</td>\n",
       "      <td>4</td>\n",
       "      <td>Dorito Corn Chp     Supreme 380g</td>\n",
       "      <td>200</td>\n",
       "      <td>650.0</td>\n",
       "      <td>OLDER FAMILIES</td>\n",
       "      <td>Premium</td>\n",
       "    </tr>\n",
       "    <tr>\n",
       "      <th>221626</th>\n",
       "      <td>2019-05-20</td>\n",
       "      <td>226</td>\n",
       "      <td>226000</td>\n",
       "      <td>226210</td>\n",
       "      <td>4</td>\n",
       "      <td>Dorito Corn Chp     Supreme 380g</td>\n",
       "      <td>200</td>\n",
       "      <td>650.0</td>\n",
       "      <td>OLDER FAMILIES</td>\n",
       "      <td>Premium</td>\n",
       "    </tr>\n",
       "  </tbody>\n",
       "</table>\n",
       "</div>"
      ],
      "text/plain": [
       "             DATE  STORE_NBR  LYLTY_CARD_NBR  TXN_ID  PROD_NBR  \\\n",
       "221625 2018-08-19        226          226000  226201         4   \n",
       "221626 2019-05-20        226          226000  226210         4   \n",
       "\n",
       "                               PROD_NAME  PROD_QTY  TOT_SALES       LIFESTAGE  \\\n",
       "221625  Dorito Corn Chp     Supreme 380g       200      650.0  OLDER FAMILIES   \n",
       "221626  Dorito Corn Chp     Supreme 380g       200      650.0  OLDER FAMILIES   \n",
       "\n",
       "       PREMIUM_CUSTOMER  \n",
       "221625          Premium  \n",
       "221626          Premium  "
      ]
     },
     "execution_count": 27,
     "metadata": {},
     "output_type": "execute_result"
    }
   ],
   "source": [
    "merged_df.loc[merged_df['PROD_QTY'] == 200.0]"
   ]
  },
  {
   "cell_type": "markdown",
   "id": "4d68d596",
   "metadata": {},
   "source": [
    "#### Product quantity of 200, has been purchased by a single customer (LYLTY_CARD_NBR = 226000)  and this can be identified as the outlier"
   ]
  },
  {
   "cell_type": "code",
   "execution_count": 28,
   "id": "fcf53442",
   "metadata": {},
   "outputs": [
    {
     "data": {
      "text/html": [
       "<div>\n",
       "<style scoped>\n",
       "    .dataframe tbody tr th:only-of-type {\n",
       "        vertical-align: middle;\n",
       "    }\n",
       "\n",
       "    .dataframe tbody tr th {\n",
       "        vertical-align: top;\n",
       "    }\n",
       "\n",
       "    .dataframe thead th {\n",
       "        text-align: right;\n",
       "    }\n",
       "</style>\n",
       "<table border=\"1\" class=\"dataframe\">\n",
       "  <thead>\n",
       "    <tr style=\"text-align: right;\">\n",
       "      <th></th>\n",
       "      <th>DATE</th>\n",
       "      <th>STORE_NBR</th>\n",
       "      <th>LYLTY_CARD_NBR</th>\n",
       "      <th>TXN_ID</th>\n",
       "      <th>PROD_NBR</th>\n",
       "      <th>PROD_NAME</th>\n",
       "      <th>PROD_QTY</th>\n",
       "      <th>TOT_SALES</th>\n",
       "      <th>LIFESTAGE</th>\n",
       "      <th>PREMIUM_CUSTOMER</th>\n",
       "    </tr>\n",
       "  </thead>\n",
       "  <tbody>\n",
       "    <tr>\n",
       "      <th>221625</th>\n",
       "      <td>2018-08-19</td>\n",
       "      <td>226</td>\n",
       "      <td>226000</td>\n",
       "      <td>226201</td>\n",
       "      <td>4</td>\n",
       "      <td>Dorito Corn Chp     Supreme 380g</td>\n",
       "      <td>200</td>\n",
       "      <td>650.0</td>\n",
       "      <td>OLDER FAMILIES</td>\n",
       "      <td>Premium</td>\n",
       "    </tr>\n",
       "    <tr>\n",
       "      <th>221626</th>\n",
       "      <td>2019-05-20</td>\n",
       "      <td>226</td>\n",
       "      <td>226000</td>\n",
       "      <td>226210</td>\n",
       "      <td>4</td>\n",
       "      <td>Dorito Corn Chp     Supreme 380g</td>\n",
       "      <td>200</td>\n",
       "      <td>650.0</td>\n",
       "      <td>OLDER FAMILIES</td>\n",
       "      <td>Premium</td>\n",
       "    </tr>\n",
       "  </tbody>\n",
       "</table>\n",
       "</div>"
      ],
      "text/plain": [
       "             DATE  STORE_NBR  LYLTY_CARD_NBR  TXN_ID  PROD_NBR  \\\n",
       "221625 2018-08-19        226          226000  226201         4   \n",
       "221626 2019-05-20        226          226000  226210         4   \n",
       "\n",
       "                               PROD_NAME  PROD_QTY  TOT_SALES       LIFESTAGE  \\\n",
       "221625  Dorito Corn Chp     Supreme 380g       200      650.0  OLDER FAMILIES   \n",
       "221626  Dorito Corn Chp     Supreme 380g       200      650.0  OLDER FAMILIES   \n",
       "\n",
       "       PREMIUM_CUSTOMER  \n",
       "221625          Premium  \n",
       "221626          Premium  "
      ]
     },
     "execution_count": 28,
     "metadata": {},
     "output_type": "execute_result"
    }
   ],
   "source": [
    "merged_df.loc[merged_df['LYLTY_CARD_NBR'] == 226000]"
   ]
  },
  {
   "cell_type": "markdown",
   "id": "2dd89822",
   "metadata": {},
   "source": [
    "#### To get rid of the outlier,"
   ]
  },
  {
   "cell_type": "code",
   "execution_count": 29,
   "id": "51b5645f",
   "metadata": {},
   "outputs": [
    {
     "data": {
      "text/html": [
       "<div>\n",
       "<style scoped>\n",
       "    .dataframe tbody tr th:only-of-type {\n",
       "        vertical-align: middle;\n",
       "    }\n",
       "\n",
       "    .dataframe tbody tr th {\n",
       "        vertical-align: top;\n",
       "    }\n",
       "\n",
       "    .dataframe thead th {\n",
       "        text-align: right;\n",
       "    }\n",
       "</style>\n",
       "<table border=\"1\" class=\"dataframe\">\n",
       "  <thead>\n",
       "    <tr style=\"text-align: right;\">\n",
       "      <th></th>\n",
       "      <th>DATE</th>\n",
       "      <th>STORE_NBR</th>\n",
       "      <th>LYLTY_CARD_NBR</th>\n",
       "      <th>TXN_ID</th>\n",
       "      <th>PROD_NBR</th>\n",
       "      <th>PROD_NAME</th>\n",
       "      <th>PROD_QTY</th>\n",
       "      <th>TOT_SALES</th>\n",
       "      <th>LIFESTAGE</th>\n",
       "      <th>PREMIUM_CUSTOMER</th>\n",
       "    </tr>\n",
       "  </thead>\n",
       "  <tbody>\n",
       "    <tr>\n",
       "      <th>0</th>\n",
       "      <td>2018-10-17</td>\n",
       "      <td>1</td>\n",
       "      <td>1000</td>\n",
       "      <td>1</td>\n",
       "      <td>5</td>\n",
       "      <td>Natural Chip        Compny SeaSalt175g</td>\n",
       "      <td>2</td>\n",
       "      <td>6.0</td>\n",
       "      <td>YOUNG SINGLES/COUPLES</td>\n",
       "      <td>Premium</td>\n",
       "    </tr>\n",
       "    <tr>\n",
       "      <th>1</th>\n",
       "      <td>2018-09-16</td>\n",
       "      <td>1</td>\n",
       "      <td>1002</td>\n",
       "      <td>2</td>\n",
       "      <td>58</td>\n",
       "      <td>Red Rock Deli Chikn&amp;Garlic Aioli 150g</td>\n",
       "      <td>1</td>\n",
       "      <td>2.7</td>\n",
       "      <td>YOUNG SINGLES/COUPLES</td>\n",
       "      <td>Mainstream</td>\n",
       "    </tr>\n",
       "    <tr>\n",
       "      <th>2</th>\n",
       "      <td>2019-03-07</td>\n",
       "      <td>1</td>\n",
       "      <td>1003</td>\n",
       "      <td>3</td>\n",
       "      <td>52</td>\n",
       "      <td>Grain Waves Sour    Cream&amp;Chives 210G</td>\n",
       "      <td>1</td>\n",
       "      <td>3.6</td>\n",
       "      <td>YOUNG FAMILIES</td>\n",
       "      <td>Budget</td>\n",
       "    </tr>\n",
       "    <tr>\n",
       "      <th>3</th>\n",
       "      <td>2019-03-08</td>\n",
       "      <td>1</td>\n",
       "      <td>1003</td>\n",
       "      <td>4</td>\n",
       "      <td>106</td>\n",
       "      <td>Natural ChipCo      Hony Soy Chckn175g</td>\n",
       "      <td>1</td>\n",
       "      <td>3.0</td>\n",
       "      <td>YOUNG FAMILIES</td>\n",
       "      <td>Budget</td>\n",
       "    </tr>\n",
       "    <tr>\n",
       "      <th>4</th>\n",
       "      <td>2018-11-02</td>\n",
       "      <td>1</td>\n",
       "      <td>1004</td>\n",
       "      <td>5</td>\n",
       "      <td>96</td>\n",
       "      <td>WW Original Stacked Chips 160g</td>\n",
       "      <td>1</td>\n",
       "      <td>1.9</td>\n",
       "      <td>OLDER SINGLES/COUPLES</td>\n",
       "      <td>Mainstream</td>\n",
       "    </tr>\n",
       "  </tbody>\n",
       "</table>\n",
       "</div>"
      ],
      "text/plain": [
       "        DATE  STORE_NBR  LYLTY_CARD_NBR  TXN_ID  PROD_NBR  \\\n",
       "0 2018-10-17          1            1000       1         5   \n",
       "1 2018-09-16          1            1002       2        58   \n",
       "2 2019-03-07          1            1003       3        52   \n",
       "3 2019-03-08          1            1003       4       106   \n",
       "4 2018-11-02          1            1004       5        96   \n",
       "\n",
       "                                PROD_NAME  PROD_QTY  TOT_SALES  \\\n",
       "0  Natural Chip        Compny SeaSalt175g         2        6.0   \n",
       "1   Red Rock Deli Chikn&Garlic Aioli 150g         1        2.7   \n",
       "2   Grain Waves Sour    Cream&Chives 210G         1        3.6   \n",
       "3  Natural ChipCo      Hony Soy Chckn175g         1        3.0   \n",
       "4          WW Original Stacked Chips 160g         1        1.9   \n",
       "\n",
       "               LIFESTAGE PREMIUM_CUSTOMER  \n",
       "0  YOUNG SINGLES/COUPLES          Premium  \n",
       "1  YOUNG SINGLES/COUPLES       Mainstream  \n",
       "2         YOUNG FAMILIES           Budget  \n",
       "3         YOUNG FAMILIES           Budget  \n",
       "4  OLDER SINGLES/COUPLES       Mainstream  "
      ]
     },
     "execution_count": 29,
     "metadata": {},
     "output_type": "execute_result"
    }
   ],
   "source": [
    "merged_df = merged_df[merged_df['LYLTY_CARD_NBR'] != 226000]\n",
    "merged_df.head()"
   ]
  },
  {
   "cell_type": "code",
   "execution_count": 30,
   "id": "68812e25",
   "metadata": {},
   "outputs": [
    {
     "data": {
      "text/html": [
       "<div>\n",
       "<style scoped>\n",
       "    .dataframe tbody tr th:only-of-type {\n",
       "        vertical-align: middle;\n",
       "    }\n",
       "\n",
       "    .dataframe tbody tr th {\n",
       "        vertical-align: top;\n",
       "    }\n",
       "\n",
       "    .dataframe thead th {\n",
       "        text-align: right;\n",
       "    }\n",
       "</style>\n",
       "<table border=\"1\" class=\"dataframe\">\n",
       "  <thead>\n",
       "    <tr style=\"text-align: right;\">\n",
       "      <th></th>\n",
       "      <th>DATE</th>\n",
       "      <th>STORE_NBR</th>\n",
       "      <th>LYLTY_CARD_NBR</th>\n",
       "      <th>TXN_ID</th>\n",
       "      <th>PROD_NBR</th>\n",
       "      <th>PROD_NAME</th>\n",
       "      <th>PROD_QTY</th>\n",
       "      <th>TOT_SALES</th>\n",
       "      <th>LIFESTAGE</th>\n",
       "      <th>PREMIUM_CUSTOMER</th>\n",
       "    </tr>\n",
       "  </thead>\n",
       "  <tbody>\n",
       "  </tbody>\n",
       "</table>\n",
       "</div>"
      ],
      "text/plain": [
       "Empty DataFrame\n",
       "Columns: [DATE, STORE_NBR, LYLTY_CARD_NBR, TXN_ID, PROD_NBR, PROD_NAME, PROD_QTY, TOT_SALES, LIFESTAGE, PREMIUM_CUSTOMER]\n",
       "Index: []"
      ]
     },
     "execution_count": 30,
     "metadata": {},
     "output_type": "execute_result"
    }
   ],
   "source": [
    "merged_df.loc[merged_df['PROD_QTY'] == 200.0]"
   ]
  },
  {
   "cell_type": "code",
   "execution_count": 31,
   "id": "b72dbf85",
   "metadata": {},
   "outputs": [
    {
     "data": {
      "text/html": [
       "<div>\n",
       "<style scoped>\n",
       "    .dataframe tbody tr th:only-of-type {\n",
       "        vertical-align: middle;\n",
       "    }\n",
       "\n",
       "    .dataframe tbody tr th {\n",
       "        vertical-align: top;\n",
       "    }\n",
       "\n",
       "    .dataframe thead th {\n",
       "        text-align: right;\n",
       "    }\n",
       "</style>\n",
       "<table border=\"1\" class=\"dataframe\">\n",
       "  <thead>\n",
       "    <tr style=\"text-align: right;\">\n",
       "      <th></th>\n",
       "      <th>STORE_NBR</th>\n",
       "      <th>LYLTY_CARD_NBR</th>\n",
       "      <th>TXN_ID</th>\n",
       "      <th>PROD_NBR</th>\n",
       "      <th>PROD_QTY</th>\n",
       "      <th>TOT_SALES</th>\n",
       "    </tr>\n",
       "  </thead>\n",
       "  <tbody>\n",
       "    <tr>\n",
       "      <th>count</th>\n",
       "      <td>264834.000000</td>\n",
       "      <td>2.648340e+05</td>\n",
       "      <td>2.648340e+05</td>\n",
       "      <td>264834.000000</td>\n",
       "      <td>264834.000000</td>\n",
       "      <td>264834.000000</td>\n",
       "    </tr>\n",
       "    <tr>\n",
       "      <th>mean</th>\n",
       "      <td>135.079423</td>\n",
       "      <td>1.355488e+05</td>\n",
       "      <td>1.351576e+05</td>\n",
       "      <td>56.583554</td>\n",
       "      <td>1.905813</td>\n",
       "      <td>7.299346</td>\n",
       "    </tr>\n",
       "    <tr>\n",
       "      <th>std</th>\n",
       "      <td>76.784063</td>\n",
       "      <td>8.057990e+04</td>\n",
       "      <td>7.813292e+04</td>\n",
       "      <td>32.826444</td>\n",
       "      <td>0.343436</td>\n",
       "      <td>2.527241</td>\n",
       "    </tr>\n",
       "    <tr>\n",
       "      <th>min</th>\n",
       "      <td>1.000000</td>\n",
       "      <td>1.000000e+03</td>\n",
       "      <td>1.000000e+00</td>\n",
       "      <td>1.000000</td>\n",
       "      <td>1.000000</td>\n",
       "      <td>1.500000</td>\n",
       "    </tr>\n",
       "    <tr>\n",
       "      <th>25%</th>\n",
       "      <td>70.000000</td>\n",
       "      <td>7.002100e+04</td>\n",
       "      <td>6.760050e+04</td>\n",
       "      <td>28.000000</td>\n",
       "      <td>2.000000</td>\n",
       "      <td>5.400000</td>\n",
       "    </tr>\n",
       "    <tr>\n",
       "      <th>50%</th>\n",
       "      <td>130.000000</td>\n",
       "      <td>1.303570e+05</td>\n",
       "      <td>1.351365e+05</td>\n",
       "      <td>56.000000</td>\n",
       "      <td>2.000000</td>\n",
       "      <td>7.400000</td>\n",
       "    </tr>\n",
       "    <tr>\n",
       "      <th>75%</th>\n",
       "      <td>203.000000</td>\n",
       "      <td>2.030940e+05</td>\n",
       "      <td>2.026998e+05</td>\n",
       "      <td>85.000000</td>\n",
       "      <td>2.000000</td>\n",
       "      <td>9.200000</td>\n",
       "    </tr>\n",
       "    <tr>\n",
       "      <th>max</th>\n",
       "      <td>272.000000</td>\n",
       "      <td>2.373711e+06</td>\n",
       "      <td>2.415841e+06</td>\n",
       "      <td>114.000000</td>\n",
       "      <td>5.000000</td>\n",
       "      <td>29.500000</td>\n",
       "    </tr>\n",
       "  </tbody>\n",
       "</table>\n",
       "</div>"
      ],
      "text/plain": [
       "           STORE_NBR  LYLTY_CARD_NBR        TXN_ID       PROD_NBR  \\\n",
       "count  264834.000000    2.648340e+05  2.648340e+05  264834.000000   \n",
       "mean      135.079423    1.355488e+05  1.351576e+05      56.583554   \n",
       "std        76.784063    8.057990e+04  7.813292e+04      32.826444   \n",
       "min         1.000000    1.000000e+03  1.000000e+00       1.000000   \n",
       "25%        70.000000    7.002100e+04  6.760050e+04      28.000000   \n",
       "50%       130.000000    1.303570e+05  1.351365e+05      56.000000   \n",
       "75%       203.000000    2.030940e+05  2.026998e+05      85.000000   \n",
       "max       272.000000    2.373711e+06  2.415841e+06     114.000000   \n",
       "\n",
       "            PROD_QTY      TOT_SALES  \n",
       "count  264834.000000  264834.000000  \n",
       "mean        1.905813       7.299346  \n",
       "std         0.343436       2.527241  \n",
       "min         1.000000       1.500000  \n",
       "25%         2.000000       5.400000  \n",
       "50%         2.000000       7.400000  \n",
       "75%         2.000000       9.200000  \n",
       "max         5.000000      29.500000  "
      ]
     },
     "execution_count": 31,
     "metadata": {},
     "output_type": "execute_result"
    }
   ],
   "source": [
    "merged_df.describe()"
   ]
  },
  {
   "cell_type": "markdown",
   "id": "82596cbb",
   "metadata": {},
   "source": [
    "#### The dataset is now free from any outliers "
   ]
  },
  {
   "cell_type": "markdown",
   "id": "edc3095e",
   "metadata": {},
   "source": [
    "## To find any missing entries"
   ]
  },
  {
   "cell_type": "code",
   "execution_count": 32,
   "id": "8ad50d17",
   "metadata": {},
   "outputs": [
    {
     "name": "stderr",
     "output_type": "stream",
     "text": [
      "C:\\Users\\ASUS\\AppData\\Local\\Temp/ipykernel_16156/117790673.py:1: FutureWarning: Treating datetime data as categorical rather than numeric in `.describe` is deprecated and will be removed in a future version of pandas. Specify `datetime_is_numeric=True` to silence this warning and adopt the future behavior now.\n",
      "  merged_df[\"DATE\"].describe()\n"
     ]
    },
    {
     "data": {
      "text/plain": [
       "count                  264834\n",
       "unique                    364\n",
       "top       2018-12-24 00:00:00\n",
       "freq                      939\n",
       "first     2018-07-01 00:00:00\n",
       "last      2019-06-30 00:00:00\n",
       "Name: DATE, dtype: object"
      ]
     },
     "execution_count": 32,
     "metadata": {},
     "output_type": "execute_result"
    }
   ],
   "source": [
    "merged_df[\"DATE\"].describe()"
   ]
  },
  {
   "cell_type": "markdown",
   "id": "5b46a7c1",
   "metadata": {},
   "source": [
    "#### Only 364 values are there and there is one value missing"
   ]
  },
  {
   "cell_type": "markdown",
   "id": "af891bf1",
   "metadata": {},
   "source": [
    "#### To find the missing date,"
   ]
  },
  {
   "cell_type": "code",
   "execution_count": 33,
   "id": "d7b983e6",
   "metadata": {},
   "outputs": [
    {
     "name": "stdout",
     "output_type": "stream",
     "text": [
      "2019-06-30 00:00:00\n",
      "2018-07-01 00:00:00\n"
     ]
    }
   ],
   "source": [
    "print(merged_df[\"DATE\"].max())\n",
    "print(merged_df[\"DATE\"].min())"
   ]
  },
  {
   "cell_type": "code",
   "execution_count": 34,
   "id": "1262c232",
   "metadata": {},
   "outputs": [
    {
     "data": {
      "text/plain": [
       "DatetimeIndex(['2018-12-25'], dtype='datetime64[ns]', freq=None)"
      ]
     },
     "execution_count": 34,
     "metadata": {},
     "output_type": "execute_result"
    }
   ],
   "source": [
    "pd.date_range(start = merged_df[\"DATE\"].min(), end = merged_df[\"DATE\"].max() ).difference(merged_df[\"DATE\"])"
   ]
  },
  {
   "cell_type": "markdown",
   "id": "10b99b8c",
   "metadata": {},
   "source": [
    "#### 25th of december is the missing date, as there was no sale on that day beacuse of holiday for christmas"
   ]
  },
  {
   "cell_type": "markdown",
   "id": "5a4f31c6",
   "metadata": {},
   "source": [
    "#### Now, to plot the days versus the transactions for each days,"
   ]
  },
  {
   "cell_type": "markdown",
   "id": "04953d89",
   "metadata": {},
   "source": [
    "#### We need a series of all possible dates,"
   ]
  },
  {
   "cell_type": "code",
   "execution_count": 35,
   "id": "a6a058cd",
   "metadata": {},
   "outputs": [],
   "source": [
    "all_dates = pd.merge(pd.Series(pd.date_range(start=merged_df['DATE'].min(), end= merged_df['DATE'].max()), name=\"DATE\"), \n",
    "                     merged_df, on='DATE', how='left')"
   ]
  },
  {
   "cell_type": "markdown",
   "id": "8725b81a",
   "metadata": {},
   "source": [
    "#### Now, to get the no of transactions by date,"
   ]
  },
  {
   "cell_type": "code",
   "execution_count": 36,
   "id": "847d3388",
   "metadata": {},
   "outputs": [],
   "source": [
    "trans_counts_by_date = merged_df[\"DATE\"].value_counts()"
   ]
  },
  {
   "cell_type": "code",
   "execution_count": 37,
   "id": "cb31fffb",
   "metadata": {},
   "outputs": [
    {
     "data": {
      "text/plain": [
       "2018-12-24    939\n",
       "2018-12-23    917\n",
       "2018-12-22    915\n",
       "2018-12-19    906\n",
       "2018-12-18    862\n",
       "             ... \n",
       "2018-12-12    664\n",
       "2019-06-24    662\n",
       "2019-06-13    659\n",
       "2018-10-18    658\n",
       "2018-11-25    648\n",
       "Name: DATE, Length: 364, dtype: int64"
      ]
     },
     "execution_count": 37,
     "metadata": {},
     "output_type": "execute_result"
    }
   ],
   "source": [
    "trans_counts_by_date.sort_values(ascending=False)"
   ]
  },
  {
   "cell_type": "code",
   "execution_count": 38,
   "id": "a67a6ba0",
   "metadata": {},
   "outputs": [
    {
     "data": {
      "text/plain": [
       "364"
      ]
     },
     "execution_count": 38,
     "metadata": {},
     "output_type": "execute_result"
    }
   ],
   "source": [
    "len(trans_counts_by_date.index)"
   ]
  },
  {
   "cell_type": "code",
   "execution_count": 39,
   "id": "da0fe6a6",
   "metadata": {},
   "outputs": [
    {
     "name": "stderr",
     "output_type": "stream",
     "text": [
      "C:\\Users\\ASUS\\AppData\\Local\\Temp/ipykernel_16156/1596706666.py:2: FutureWarning: The pandas.datetime class is deprecated and will be removed from pandas in a future version. Import from datetime module instead.\n",
      "  december = trans_counts_by_date[(trans_counts_by_date.index >= pd.datetime(2018, 12, 1)) &\n",
      "C:\\Users\\ASUS\\AppData\\Local\\Temp/ipykernel_16156/1596706666.py:3: FutureWarning: The pandas.datetime class is deprecated and will be removed from pandas in a future version. Import from datetime module instead.\n",
      "  (trans_counts_by_date.index < pd.datetime(2019, 1, 1))].sort_index()\n"
     ]
    }
   ],
   "source": [
    "# To get the transactions of all days of december\n",
    "december = trans_counts_by_date[(trans_counts_by_date.index >= pd.datetime(2018, 12, 1)) & \n",
    "                                (trans_counts_by_date.index < pd.datetime(2019, 1, 1))].sort_index()\n"
   ]
  },
  {
   "cell_type": "code",
   "execution_count": 40,
   "id": "e809c1d6",
   "metadata": {},
   "outputs": [],
   "source": [
    "from datetime import datetime\n",
    "# To convert date time format to just the day of the month\n",
    "december.index = december.index.strftime('%d')"
   ]
  },
  {
   "cell_type": "code",
   "execution_count": 41,
   "id": "567f8651",
   "metadata": {},
   "outputs": [
    {
     "data": {
      "image/png": "[encoded data removed]",
      "text/plain": [
       "<Figure size 1152x216 with 1 Axes>"
      ]
     },
     "metadata": {
      "needs_background": "light"
     },
     "output_type": "display_data"
    }
   ],
   "source": [
    "# To plot the transactions of each days in december, versus the day of the month\n",
    "ax = december.plot(figsize=(16,3), color=\"darkblue\")\n",
    "ax.set_xticks(np.arange(len(december)))\n",
    "ax.set_xticklabels(december.index)\n",
    "plt.title(\"Sales of December 2018\", fontsize=20, fontweight='bold', color='black')\n",
    "plt.xlabel(\"Date\", fontsize=15, fontweight='bold', color='black')\n",
    "plt.ylabel(\"Number of Sales\", fontsize=10, fontweight='bold', color='black')\n",
    "plt.grid()\n",
    "plt.legend()\n",
    "plt.show()"
   ]
  },
  {
   "cell_type": "markdown",
   "id": "fa6b61ec",
   "metadata": {},
   "source": [
    "#### On analyzing we can see that there is a spike in the sales in december until just before the chrsitmas day and there is missing sales (or no sales) on the christmas day. The day 25th of December is missing"
   ]
  },
  {
   "cell_type": "markdown",
   "id": "501ee3ff",
   "metadata": {},
   "source": [
    "## Analyzing packet sizes"
   ]
  },
  {
   "cell_type": "code",
   "execution_count": 42,
   "id": "08cc04ca",
   "metadata": {},
   "outputs": [
    {
     "name": "stderr",
     "output_type": "stream",
     "text": [
      "C:\\Users\\ASUS\\AppData\\Local\\Temp/ipykernel_16156/2806371510.py:3: FutureWarning: The default value of regex will change from True to False in a future version.\n",
      "  merged_df['PROD_NAME'] = merged_df['PROD_NAME'].str.replace(r'[0-9]+G','g')\n"
     ]
    }
   ],
   "source": [
    "# To extract just the quantity numerical values,\n",
    "# Replace all G or g along with the numerical value by just a single type of 'g'\n",
    "merged_df['PROD_NAME'] = merged_df['PROD_NAME'].str.replace(r'[0-9]+G','g')"
   ]
  },
  {
   "cell_type": "code",
   "execution_count": 43,
   "id": "ce4c1e0d",
   "metadata": {},
   "outputs": [
    {
     "data": {
      "text/plain": [
       "0           Natural Chip        Compny SeaSalt175g\n",
       "1            Red Rock Deli Chikn&Garlic Aioli 150g\n",
       "2               Grain Waves Sour    Cream&Chives g\n",
       "3           Natural ChipCo      Hony Soy Chckn175g\n",
       "4                   WW Original Stacked Chips 160g\n",
       "                            ...                   \n",
       "264831       Grain Waves         Sweet Chilli 210g\n",
       "264832        Kettle Tortilla ChpsFeta&Garlic 150g\n",
       "264833     Tyrrells Crisps     Lightly Salted 165g\n",
       "264834    Old El Paso Salsa   Dip Chnky Tom Ht300g\n",
       "264835    Smiths Crinkle Chips Salt & Vinegar 330g\n",
       "Name: PROD_NAME, Length: 264834, dtype: object"
      ]
     },
     "execution_count": 43,
     "metadata": {},
     "output_type": "execute_result"
    }
   ],
   "source": [
    "# Check\n",
    "merged_df['PROD_NAME']"
   ]
  },
  {
   "cell_type": "code",
   "execution_count": 44,
   "id": "bcc5273d",
   "metadata": {},
   "outputs": [],
   "source": [
    "# To extract the quantity part from the whole string\n",
    "packet_size = merged_df['PROD_NAME'].str.extract(r'([0-9]+[gG])')[0]"
   ]
  },
  {
   "cell_type": "code",
   "execution_count": 45,
   "id": "55b32e52",
   "metadata": {},
   "outputs": [
    {
     "data": {
      "text/plain": [
       "0         175g\n",
       "1         150g\n",
       "2          NaN\n",
       "3         175g\n",
       "4         160g\n",
       "          ... \n",
       "264831    210g\n",
       "264832    150g\n",
       "264833    165g\n",
       "264834    300g\n",
       "264835    330g\n",
       "Name: 0, Length: 264834, dtype: object"
      ]
     },
     "execution_count": 45,
     "metadata": {},
     "output_type": "execute_result"
    }
   ],
   "source": [
    "packet_size"
   ]
  },
  {
   "cell_type": "code",
   "execution_count": 46,
   "id": "72b878ad",
   "metadata": {},
   "outputs": [],
   "source": [
    "# Finally, getting jut the quantity with no suffix, and converting the value to float values,\n",
    "packet_size = packet_size.str.replace(\"g\",\"\").astype(float)"
   ]
  },
  {
   "cell_type": "code",
   "execution_count": 47,
   "id": "175025f1",
   "metadata": {},
   "outputs": [
    {
     "data": {
      "text/plain": [
       "70.0      1507\n",
       "90.0      3008\n",
       "110.0    22387\n",
       "125.0     1454\n",
       "134.0    25102\n",
       "135.0     3257\n",
       "150.0    41633\n",
       "160.0     2970\n",
       "165.0    15297\n",
       "170.0    19983\n",
       "175.0    64929\n",
       "180.0     1468\n",
       "190.0     2995\n",
       "200.0     4473\n",
       "210.0     3167\n",
       "220.0     1564\n",
       "250.0     3169\n",
       "270.0     6285\n",
       "300.0    15166\n",
       "330.0    12540\n",
       "380.0     6416\n",
       "Name: 0, dtype: int64"
      ]
     },
     "execution_count": 47,
     "metadata": {},
     "output_type": "execute_result"
    }
   ],
   "source": [
    "# Sort the values in accordance with the quantity ascending order\n",
    "packet_size.value_counts().sort_index(ascending=True)"
   ]
  },
  {
   "cell_type": "code",
   "execution_count": 48,
   "id": "b496a574",
   "metadata": {},
   "outputs": [
    {
     "data": {
      "image/png": "[encoded data removed]",
      "text/plain": [
       "<Figure size 432x288 with 1 Axes>"
      ]
     },
     "metadata": {
      "needs_background": "light"
     },
     "output_type": "display_data"
    }
   ],
   "source": [
    "# To plot the packet size verses its count\n",
    "packet_size.plot.hist(color='darkblue')\n",
    "plt.grid()\n",
    "plt.show()"
   ]
  },
  {
   "cell_type": "markdown",
   "id": "29f6c707",
   "metadata": {},
   "source": [
    "\n",
    "## Now, to work with the brand names,"
   ]
  },
  {
   "cell_type": "code",
   "execution_count": 49,
   "id": "ab046473",
   "metadata": {},
   "outputs": [],
   "source": [
    "# To extract the brand names from the product names,\n",
    "merged_df['brand_names'] = merged_df['PROD_NAME'].str.split().str[0]"
   ]
  },
  {
   "cell_type": "code",
   "execution_count": 50,
   "id": "7482e0e3",
   "metadata": {},
   "outputs": [
    {
     "data": {
      "text/plain": [
       "Burger         1564\n",
       "CCs            4551\n",
       "Cheetos        2927\n",
       "Cheezels       4603\n",
       "Cobs           9693\n",
       "Dorito         3183\n",
       "Doritos       24962\n",
       "French         1418\n",
       "Grain          6272\n",
       "GrnWves        1468\n",
       "Infuzions     11057\n",
       "Infzns         3144\n",
       "Kettle        41288\n",
       "NCC            1419\n",
       "Natural        6050\n",
       "Old            9324\n",
       "Pringles      25102\n",
       "RRD           11894\n",
       "Red            5885\n",
       "Smith          2963\n",
       "Smiths        28860\n",
       "Snbts          1576\n",
       "Sunbites       1432\n",
       "Thins         14075\n",
       "Tostitos       9471\n",
       "Twisties       9454\n",
       "Tyrrells       6442\n",
       "WW            10320\n",
       "Woolworths     4437\n",
       "Name: brand_names, dtype: int64"
      ]
     },
     "execution_count": 50,
     "metadata": {},
     "output_type": "execute_result"
    }
   ],
   "source": [
    "# To find the count of the brands, and sort \n",
    "merged_df['brand_names'].value_counts().sort_index()"
   ]
  },
  {
   "cell_type": "code",
   "execution_count": 51,
   "id": "2576ebdf",
   "metadata": {},
   "outputs": [
    {
     "data": {
      "text/plain": [
       "array(['Natural', 'Red', 'Grain', 'WW', 'Cheetos', 'Infuzions', 'RRD',\n",
       "       'Doritos', 'Old', 'GrnWves', 'Smiths', 'Kettle', 'CCs', 'Tostitos',\n",
       "       'Cobs', 'Burger', 'Woolworths', 'Thins', 'Tyrrells', 'Smith',\n",
       "       'Cheezels', 'Twisties', 'Sunbites', 'Snbts', 'Pringles', 'French',\n",
       "       'Infzns', 'Dorito', 'NCC'], dtype=object)"
      ]
     },
     "execution_count": 51,
     "metadata": {},
     "output_type": "execute_result"
    }
   ],
   "source": [
    "# All brand names,\n",
    "merged_df['brand_names'].unique()"
   ]
  },
  {
   "cell_type": "code",
   "execution_count": 52,
   "id": "3c58496e",
   "metadata": {},
   "outputs": [
    {
     "data": {
      "text/plain": [
       "29"
      ]
     },
     "execution_count": 52,
     "metadata": {},
     "output_type": "execute_result"
    }
   ],
   "source": [
    "# No. of brand names,\n",
    "len(merged_df['brand_names'].unique())"
   ]
  },
  {
   "cell_type": "markdown",
   "id": "545096f5",
   "metadata": {},
   "source": [
    "#### We have to correct the brand names that are named incorrectly and repeatedly, "
   ]
  },
  {
   "cell_type": "code",
   "execution_count": 53,
   "id": "38a6631c",
   "metadata": {},
   "outputs": [],
   "source": [
    "def clean_brand_names(x):\n",
    "    brand = x['brand_names']\n",
    "    if brand == \"Dorito\":\n",
    "        return \"Doritos\"\n",
    "    elif brand == \"GrnWves\" or brand == \"Grain\":\n",
    "        return \"Grain Waves\"\n",
    "    elif brand == \"Infzns\":\n",
    "        return \"Infuzions\"\n",
    "    elif brand == \"Natural\" or brand == \"NCC\":\n",
    "        return \"Natural Chip Co\"\n",
    "    elif brand == \"Red\":\n",
    "        return \"RRD\"\n",
    "    elif brand == \"Smith\":\n",
    "        return \"Smiths\"\n",
    "    elif brand == \"Snbts\":\n",
    "        return \"Sunbites\"\n",
    "    elif brand == \"WW\":\n",
    "        return \"Woolworths\"\n",
    "    else:\n",
    "        return brand"
   ]
  },
  {
   "cell_type": "code",
   "execution_count": 54,
   "id": "4ac16433",
   "metadata": {},
   "outputs": [],
   "source": [
    "merged_df['brand_names'] = merged_df.apply(lambda x: clean_brand_names(x), axis=1)"
   ]
  },
  {
   "cell_type": "code",
   "execution_count": 55,
   "id": "8b3b9f85",
   "metadata": {},
   "outputs": [
    {
     "data": {
      "text/plain": [
       "21"
      ]
     },
     "execution_count": 55,
     "metadata": {},
     "output_type": "execute_result"
    }
   ],
   "source": [
    "len(merged_df['brand_names'].unique())"
   ]
  },
  {
   "cell_type": "markdown",
   "id": "e983c994",
   "metadata": {},
   "source": [
    "#### The no. of brand names has been reduced"
   ]
  },
  {
   "cell_type": "code",
   "execution_count": 56,
   "id": "01b7934b",
   "metadata": {},
   "outputs": [
    {
     "data": {
      "image/png": "[encoded data removed]",
      "text/plain": [
       "<Figure size 1080x576 with 1 Axes>"
      ]
     },
     "metadata": {
      "needs_background": "light"
     },
     "output_type": "display_data"
    }
   ],
   "source": [
    "# To plot the brand names with their count, \n",
    "merged_df['brand_names'].value_counts().sort_values(ascending=True).plot.barh(figsize=(15,8), color='darkblue')\n",
    "plt.title(\"Brand Names and their counts\")\n",
    "plt.show()"
   ]
  },
  {
   "cell_type": "markdown",
   "id": "f2f39874",
   "metadata": {},
   "source": [
    "#### Most preffered brand is Kettle"
   ]
  },
  {
   "cell_type": "markdown",
   "id": "dfe03204",
   "metadata": {},
   "source": [
    "## Customer datas"
   ]
  },
  {
   "cell_type": "raw",
   "id": "3afce72a",
   "metadata": {},
   "source": [
    "Now that the data is ready for analysis, we can define some metrics of interest to the client:\n",
    "\n",
    "• Who spends the most on chips (total sales), describing customers by lifestage and how premium their\n",
    "general purchasing behaviour is\n",
    "• How many customers are in each segment\n",
    "• How many chips are bought per customer by segment\n",
    "• What’s the average chip price by customer segment"
   ]
  },
  {
   "cell_type": "markdown",
   "id": "99f91416",
   "metadata": {},
   "source": [
    "#### We have to check with the columns LIFESTAGE and PREMIUM_CUTOMER"
   ]
  },
  {
   "cell_type": "code",
   "execution_count": 57,
   "id": "b6fde2eb",
   "metadata": {},
   "outputs": [
    {
     "data": {
      "text/plain": [
       "Index(['DATE', 'STORE_NBR', 'LYLTY_CARD_NBR', 'TXN_ID', 'PROD_NBR',\n",
       "       'PROD_NAME', 'PROD_QTY', 'TOT_SALES', 'LIFESTAGE', 'PREMIUM_CUSTOMER',\n",
       "       'brand_names'],\n",
       "      dtype='object')"
      ]
     },
     "execution_count": 57,
     "metadata": {},
     "output_type": "execute_result"
    }
   ],
   "source": [
    "merged_df.columns"
   ]
  },
  {
   "cell_type": "code",
   "execution_count": 58,
   "id": "b1666607",
   "metadata": {},
   "outputs": [
    {
     "data": {
      "text/plain": [
       "array(['YOUNG SINGLES/COUPLES', 'YOUNG FAMILIES', 'OLDER SINGLES/COUPLES',\n",
       "       'MIDAGE SINGLES/COUPLES', 'NEW FAMILIES', 'OLDER FAMILIES',\n",
       "       'RETIREES'], dtype=object)"
      ]
     },
     "execution_count": 58,
     "metadata": {},
     "output_type": "execute_result"
    }
   ],
   "source": [
    "merged_df['LIFESTAGE'].unique()"
   ]
  },
  {
   "cell_type": "code",
   "execution_count": 59,
   "id": "f02817dc",
   "metadata": {},
   "outputs": [
    {
     "data": {
      "text/plain": [
       "array(['Premium', 'Mainstream', 'Budget'], dtype=object)"
      ]
     },
     "execution_count": 59,
     "metadata": {},
     "output_type": "execute_result"
    }
   ],
   "source": [
    "merged_df['PREMIUM_CUSTOMER'].unique()"
   ]
  },
  {
   "cell_type": "code",
   "execution_count": 60,
   "id": "3469d72d",
   "metadata": {},
   "outputs": [],
   "source": [
    "# Group by the type of customers and their corresponding total sales's sum and mean is found, \n",
    "customer_sales = pd.DataFrame(merged_df.groupby(['LIFESTAGE','PREMIUM_CUSTOMER'])['TOT_SALES'].agg(['sum','mean']))"
   ]
  },
  {
   "cell_type": "code",
   "execution_count": 61,
   "id": "2f55582a",
   "metadata": {},
   "outputs": [
    {
     "data": {
      "text/html": [
       "<div>\n",
       "<style scoped>\n",
       "    .dataframe tbody tr th:only-of-type {\n",
       "        vertical-align: middle;\n",
       "    }\n",
       "\n",
       "    .dataframe tbody tr th {\n",
       "        vertical-align: top;\n",
       "    }\n",
       "\n",
       "    .dataframe thead th {\n",
       "        text-align: right;\n",
       "    }\n",
       "</style>\n",
       "<table border=\"1\" class=\"dataframe\">\n",
       "  <thead>\n",
       "    <tr style=\"text-align: right;\">\n",
       "      <th></th>\n",
       "      <th></th>\n",
       "      <th>sum</th>\n",
       "      <th>mean</th>\n",
       "    </tr>\n",
       "    <tr>\n",
       "      <th>LIFESTAGE</th>\n",
       "      <th>PREMIUM_CUSTOMER</th>\n",
       "      <th></th>\n",
       "      <th></th>\n",
       "    </tr>\n",
       "  </thead>\n",
       "  <tbody>\n",
       "    <tr>\n",
       "      <th rowspan=\"3\" valign=\"top\">MIDAGE SINGLES/COUPLES</th>\n",
       "      <th>Budget</th>\n",
       "      <td>35514.80</td>\n",
       "      <td>7.074661</td>\n",
       "    </tr>\n",
       "    <tr>\n",
       "      <th>Mainstream</th>\n",
       "      <td>90803.85</td>\n",
       "      <td>7.647284</td>\n",
       "    </tr>\n",
       "    <tr>\n",
       "      <th>Premium</th>\n",
       "      <td>58432.65</td>\n",
       "      <td>7.112056</td>\n",
       "    </tr>\n",
       "    <tr>\n",
       "      <th rowspan=\"3\" valign=\"top\">NEW FAMILIES</th>\n",
       "      <th>Budget</th>\n",
       "      <td>21928.45</td>\n",
       "      <td>7.297321</td>\n",
       "    </tr>\n",
       "    <tr>\n",
       "      <th>Mainstream</th>\n",
       "      <td>17013.90</td>\n",
       "      <td>7.317806</td>\n",
       "    </tr>\n",
       "    <tr>\n",
       "      <th>Premium</th>\n",
       "      <td>11491.10</td>\n",
       "      <td>7.231655</td>\n",
       "    </tr>\n",
       "    <tr>\n",
       "      <th rowspan=\"3\" valign=\"top\">OLDER FAMILIES</th>\n",
       "      <th>Budget</th>\n",
       "      <td>168363.25</td>\n",
       "      <td>7.269570</td>\n",
       "    </tr>\n",
       "    <tr>\n",
       "      <th>Mainstream</th>\n",
       "      <td>103445.55</td>\n",
       "      <td>7.262395</td>\n",
       "    </tr>\n",
       "    <tr>\n",
       "      <th>Premium</th>\n",
       "      <td>80658.40</td>\n",
       "      <td>7.208079</td>\n",
       "    </tr>\n",
       "    <tr>\n",
       "      <th rowspan=\"3\" valign=\"top\">OLDER SINGLES/COUPLES</th>\n",
       "      <th>Budget</th>\n",
       "      <td>136769.80</td>\n",
       "      <td>7.430315</td>\n",
       "    </tr>\n",
       "    <tr>\n",
       "      <th>Mainstream</th>\n",
       "      <td>133393.80</td>\n",
       "      <td>7.282116</td>\n",
       "    </tr>\n",
       "    <tr>\n",
       "      <th>Premium</th>\n",
       "      <td>132263.15</td>\n",
       "      <td>7.449766</td>\n",
       "    </tr>\n",
       "    <tr>\n",
       "      <th rowspan=\"3\" valign=\"top\">RETIREES</th>\n",
       "      <th>Budget</th>\n",
       "      <td>113147.80</td>\n",
       "      <td>7.443445</td>\n",
       "    </tr>\n",
       "    <tr>\n",
       "      <th>Mainstream</th>\n",
       "      <td>155677.05</td>\n",
       "      <td>7.252262</td>\n",
       "    </tr>\n",
       "    <tr>\n",
       "      <th>Premium</th>\n",
       "      <td>97646.05</td>\n",
       "      <td>7.456174</td>\n",
       "    </tr>\n",
       "    <tr>\n",
       "      <th rowspan=\"3\" valign=\"top\">YOUNG FAMILIES</th>\n",
       "      <th>Budget</th>\n",
       "      <td>139345.85</td>\n",
       "      <td>7.287201</td>\n",
       "    </tr>\n",
       "    <tr>\n",
       "      <th>Mainstream</th>\n",
       "      <td>92788.75</td>\n",
       "      <td>7.189025</td>\n",
       "    </tr>\n",
       "    <tr>\n",
       "      <th>Premium</th>\n",
       "      <td>84025.50</td>\n",
       "      <td>7.266756</td>\n",
       "    </tr>\n",
       "    <tr>\n",
       "      <th rowspan=\"3\" valign=\"top\">YOUNG SINGLES/COUPLES</th>\n",
       "      <th>Budget</th>\n",
       "      <td>61141.60</td>\n",
       "      <td>6.615624</td>\n",
       "    </tr>\n",
       "    <tr>\n",
       "      <th>Mainstream</th>\n",
       "      <td>157621.60</td>\n",
       "      <td>7.558339</td>\n",
       "    </tr>\n",
       "    <tr>\n",
       "      <th>Premium</th>\n",
       "      <td>41642.10</td>\n",
       "      <td>6.629852</td>\n",
       "    </tr>\n",
       "  </tbody>\n",
       "</table>\n",
       "</div>"
      ],
      "text/plain": [
       "                                               sum      mean\n",
       "LIFESTAGE              PREMIUM_CUSTOMER                     \n",
       "MIDAGE SINGLES/COUPLES Budget             35514.80  7.074661\n",
       "                       Mainstream         90803.85  7.647284\n",
       "                       Premium            58432.65  7.112056\n",
       "NEW FAMILIES           Budget             21928.45  7.297321\n",
       "                       Mainstream         17013.90  7.317806\n",
       "                       Premium            11491.10  7.231655\n",
       "OLDER FAMILIES         Budget            168363.25  7.269570\n",
       "                       Mainstream        103445.55  7.262395\n",
       "                       Premium            80658.40  7.208079\n",
       "OLDER SINGLES/COUPLES  Budget            136769.80  7.430315\n",
       "                       Mainstream        133393.80  7.282116\n",
       "                       Premium           132263.15  7.449766\n",
       "RETIREES               Budget            113147.80  7.443445\n",
       "                       Mainstream        155677.05  7.252262\n",
       "                       Premium            97646.05  7.456174\n",
       "YOUNG FAMILIES         Budget            139345.85  7.287201\n",
       "                       Mainstream         92788.75  7.189025\n",
       "                       Premium            84025.50  7.266756\n",
       "YOUNG SINGLES/COUPLES  Budget             61141.60  6.615624\n",
       "                       Mainstream        157621.60  7.558339\n",
       "                       Premium            41642.10  6.629852"
      ]
     },
     "execution_count": 61,
     "metadata": {},
     "output_type": "execute_result"
    }
   ],
   "source": [
    "customer_sales"
   ]
  },
  {
   "cell_type": "code",
   "execution_count": 62,
   "id": "ae3a33f0",
   "metadata": {},
   "outputs": [
    {
     "data": {
      "text/plain": [
       "1933115.0000000002"
      ]
     },
     "execution_count": 62,
     "metadata": {},
     "output_type": "execute_result"
    }
   ],
   "source": [
    "# The total of all the sales \n",
    "customer_sales['sum'].sum()"
   ]
  },
  {
   "cell_type": "code",
   "execution_count": 63,
   "id": "eea42202",
   "metadata": {},
   "outputs": [
    {
     "data": {
      "image/png": "[encoded data removed]",
      "text/plain": [
       "<Figure size 1080x720 with 1 Axes>"
      ]
     },
     "metadata": {
      "needs_background": "light"
     },
     "output_type": "display_data"
    }
   ],
   "source": [
    "# To plot the customer types and thier sum of total sales,\n",
    "customer_sales['sum'].sort_values().plot.barh(figsize=(15,10), color='darkblue')\n",
    "plt.grid()\n",
    "plt.show()"
   ]
  },
  {
   "cell_type": "code",
   "execution_count": 64,
   "id": "d718251b",
   "metadata": {},
   "outputs": [
    {
     "data": {
      "image/png": "[encoded data removed]",
      "text/plain": [
       "<Figure size 864x432 with 1 Axes>"
      ]
     },
     "metadata": {
      "needs_background": "light"
     },
     "output_type": "display_data"
    }
   ],
   "source": [
    "# Proportion of total sales for each PREMIUM_CUSTOMER type\n",
    "total_sales = customer_sales[\"sum\"].sum()\n",
    "proportions = customer_sales[\"sum\"] / total_sales\n",
    "bars = customer_sales.unstack(\"PREMIUM_CUSTOMER\")[\"sum\"]\n",
    "\n",
    "# Names and positions for bars\n",
    "names = bars.index\n",
    "r = np.arange(len(names))\n",
    "\n",
    "# Plotting the stacked bar chart\n",
    "plt.figure(figsize=(12, 6))\n",
    "\n",
    "plt.barh(r, bars[\"Budget\"], color=\"lightblue\", label=\"Budget\")\n",
    "plt.barh(r, bars[\"Mainstream\"], left=bars[\"Budget\"], color=\"blue\", label=\"Mainstream\")\n",
    "plt.barh(r, bars[\"Premium\"], left=bars[\"Budget\"] + bars[\"Mainstream\"], color=\"darkblue\", label=\"Premium\")\n",
    "\n",
    "# Adding percentage text labels\n",
    "for i, name in enumerate(names):\n",
    "    plt.text(bars[\"Budget\"][i] / 2, i, f\"{proportions.xs(name)['Budget']:.1%}\", va=\"center\", ha=\"center\", color=\"black\")\n",
    "    plt.text(bars[\"Budget\"][i] + bars[\"Mainstream\"][i] / 2, i, f\"{proportions.xs(name)['Mainstream']:.1%}\", va=\"center\", ha=\"center\", color=\"white\")\n",
    "    plt.text(bars[\"Budget\"][i] + bars[\"Mainstream\"][i] + bars[\"Premium\"][i] / 2, i, f\"{proportions.xs(name)['Premium']:.1%}\", va=\"center\", ha=\"center\", color=\"white\")\n",
    "\n",
    "# Customize plot\n",
    "plt.yticks(r, names)\n",
    "plt.ylabel(\"LIFESTAGE\")\n",
    "plt.xlabel(\"TOTAL SALES\")\n",
    "plt.title(\"Total Sales per Lifestage\")\n",
    "plt.legend(loc=\"center left\", bbox_to_anchor=(1, 0.5))\n",
    "plt.tight_layout()\n",
    "\n",
    "# Save and display\n",
    "plt.savefig(\"lifestage_sales_simple.png\", bbox_inches=\"tight\")\n",
    "plt.show()\n"
   ]
  },
  {
   "cell_type": "code",
   "execution_count": 65,
   "id": "b4c5fa1f",
   "metadata": {},
   "outputs": [
    {
     "data": {
      "text/plain": [
       "False"
      ]
     },
     "execution_count": 65,
     "metadata": {},
     "output_type": "execute_result"
    }
   ],
   "source": [
    "# Check for nulls in the full dataset\n",
    "merged_df.isnull().values.any()"
   ]
  },
  {
   "cell_type": "markdown",
   "id": "8a3f069b",
   "metadata": {},
   "source": [
    "##### ----- The top 3 constributer to the total sales is,\n",
    "\n",
    "##### Older families (Budget)\n",
    "##### Young Singles/Couples (Mainstream)\n",
    "##### Retirees (Mainstream)"
   ]
  },
  {
   "cell_type": "markdown",
   "id": "b794635f",
   "metadata": {},
   "source": [
    "#### To see how many unique type of customers are there for each of these who buys chips and contributes for the higher total sales"
   ]
  },
  {
   "cell_type": "code",
   "execution_count": 66,
   "id": "c91ef68e",
   "metadata": {},
   "outputs": [
    {
     "data": {
      "text/html": [
       "<div>\n",
       "<style scoped>\n",
       "    .dataframe tbody tr th:only-of-type {\n",
       "        vertical-align: middle;\n",
       "    }\n",
       "\n",
       "    .dataframe tbody tr th {\n",
       "        vertical-align: top;\n",
       "    }\n",
       "\n",
       "    .dataframe thead th {\n",
       "        text-align: right;\n",
       "    }\n",
       "</style>\n",
       "<table border=\"1\" class=\"dataframe\">\n",
       "  <thead>\n",
       "    <tr style=\"text-align: right;\">\n",
       "      <th></th>\n",
       "      <th></th>\n",
       "      <th>LYLTY_CARD_NBR</th>\n",
       "    </tr>\n",
       "    <tr>\n",
       "      <th>LIFESTAGE</th>\n",
       "      <th>PREMIUM_CUSTOMER</th>\n",
       "      <th></th>\n",
       "    </tr>\n",
       "  </thead>\n",
       "  <tbody>\n",
       "    <tr>\n",
       "      <th rowspan=\"3\" valign=\"top\">NEW FAMILIES</th>\n",
       "      <th>Premium</th>\n",
       "      <td>588</td>\n",
       "    </tr>\n",
       "    <tr>\n",
       "      <th>Mainstream</th>\n",
       "      <td>849</td>\n",
       "    </tr>\n",
       "    <tr>\n",
       "      <th>Budget</th>\n",
       "      <td>1112</td>\n",
       "    </tr>\n",
       "    <tr>\n",
       "      <th>MIDAGE SINGLES/COUPLES</th>\n",
       "      <th>Budget</th>\n",
       "      <td>1504</td>\n",
       "    </tr>\n",
       "    <tr>\n",
       "      <th>OLDER FAMILIES</th>\n",
       "      <th>Premium</th>\n",
       "      <td>2273</td>\n",
       "    </tr>\n",
       "    <tr>\n",
       "      <th>MIDAGE SINGLES/COUPLES</th>\n",
       "      <th>Premium</th>\n",
       "      <td>2431</td>\n",
       "    </tr>\n",
       "    <tr>\n",
       "      <th>YOUNG FAMILIES</th>\n",
       "      <th>Premium</th>\n",
       "      <td>2433</td>\n",
       "    </tr>\n",
       "    <tr>\n",
       "      <th>YOUNG SINGLES/COUPLES</th>\n",
       "      <th>Premium</th>\n",
       "      <td>2574</td>\n",
       "    </tr>\n",
       "    <tr>\n",
       "      <th>YOUNG FAMILIES</th>\n",
       "      <th>Mainstream</th>\n",
       "      <td>2728</td>\n",
       "    </tr>\n",
       "    <tr>\n",
       "      <th>OLDER FAMILIES</th>\n",
       "      <th>Mainstream</th>\n",
       "      <td>2831</td>\n",
       "    </tr>\n",
       "    <tr>\n",
       "      <th>MIDAGE SINGLES/COUPLES</th>\n",
       "      <th>Mainstream</th>\n",
       "      <td>3340</td>\n",
       "    </tr>\n",
       "    <tr>\n",
       "      <th>YOUNG SINGLES/COUPLES</th>\n",
       "      <th>Budget</th>\n",
       "      <td>3779</td>\n",
       "    </tr>\n",
       "    <tr>\n",
       "      <th>RETIREES</th>\n",
       "      <th>Premium</th>\n",
       "      <td>3872</td>\n",
       "    </tr>\n",
       "    <tr>\n",
       "      <th>YOUNG FAMILIES</th>\n",
       "      <th>Budget</th>\n",
       "      <td>4017</td>\n",
       "    </tr>\n",
       "    <tr>\n",
       "      <th>RETIREES</th>\n",
       "      <th>Budget</th>\n",
       "      <td>4454</td>\n",
       "    </tr>\n",
       "    <tr>\n",
       "      <th>OLDER FAMILIES</th>\n",
       "      <th>Budget</th>\n",
       "      <td>4675</td>\n",
       "    </tr>\n",
       "    <tr>\n",
       "      <th rowspan=\"3\" valign=\"top\">OLDER SINGLES/COUPLES</th>\n",
       "      <th>Premium</th>\n",
       "      <td>4750</td>\n",
       "    </tr>\n",
       "    <tr>\n",
       "      <th>Budget</th>\n",
       "      <td>4929</td>\n",
       "    </tr>\n",
       "    <tr>\n",
       "      <th>Mainstream</th>\n",
       "      <td>4930</td>\n",
       "    </tr>\n",
       "    <tr>\n",
       "      <th>RETIREES</th>\n",
       "      <th>Mainstream</th>\n",
       "      <td>6479</td>\n",
       "    </tr>\n",
       "    <tr>\n",
       "      <th>YOUNG SINGLES/COUPLES</th>\n",
       "      <th>Mainstream</th>\n",
       "      <td>8088</td>\n",
       "    </tr>\n",
       "  </tbody>\n",
       "</table>\n",
       "</div>"
      ],
      "text/plain": [
       "                                         LYLTY_CARD_NBR\n",
       "LIFESTAGE              PREMIUM_CUSTOMER                \n",
       "NEW FAMILIES           Premium                      588\n",
       "                       Mainstream                   849\n",
       "                       Budget                      1112\n",
       "MIDAGE SINGLES/COUPLES Budget                      1504\n",
       "OLDER FAMILIES         Premium                     2273\n",
       "MIDAGE SINGLES/COUPLES Premium                     2431\n",
       "YOUNG FAMILIES         Premium                     2433\n",
       "YOUNG SINGLES/COUPLES  Premium                     2574\n",
       "YOUNG FAMILIES         Mainstream                  2728\n",
       "OLDER FAMILIES         Mainstream                  2831\n",
       "MIDAGE SINGLES/COUPLES Mainstream                  3340\n",
       "YOUNG SINGLES/COUPLES  Budget                      3779\n",
       "RETIREES               Premium                     3872\n",
       "YOUNG FAMILIES         Budget                      4017\n",
       "RETIREES               Budget                      4454\n",
       "OLDER FAMILIES         Budget                      4675\n",
       "OLDER SINGLES/COUPLES  Premium                     4750\n",
       "                       Budget                      4929\n",
       "                       Mainstream                  4930\n",
       "RETIREES               Mainstream                  6479\n",
       "YOUNG SINGLES/COUPLES  Mainstream                  8088"
      ]
     },
     "execution_count": 66,
     "metadata": {},
     "output_type": "execute_result"
    }
   ],
   "source": [
    "unique_customers = merged_df.groupby(['LIFESTAGE','PREMIUM_CUSTOMER'])['LYLTY_CARD_NBR'].nunique().sort_values(ascending=True)\n",
    "pd.DataFrame(unique_customers)"
   ]
  },
  {
   "cell_type": "code",
   "execution_count": 67,
   "id": "14a3dad9",
   "metadata": {},
   "outputs": [
    {
     "data": {
      "image/png": "[encoded data removed]",
      "text/plain": [
       "<Figure size 1080x576 with 1 Axes>"
      ]
     },
     "metadata": {
      "needs_background": "light"
     },
     "output_type": "display_data"
    }
   ],
   "source": [
    "unique_customers.sort_values().plot.barh(figsize=(15,8), color='darkblue')\n",
    "plt.grid()\n",
    "plt.show()"
   ]
  },
  {
   "cell_type": "code",
   "execution_count": 85,
   "id": "64b2d9d7",
   "metadata": {},
   "outputs": [
    {
     "data": {
      "image/png": "[encoded data removed]",
      "text/plain": [
       "<Figure size 864x432 with 1 Axes>"
      ]
     },
     "metadata": {
      "needs_background": "light"
     },
     "output_type": "display_data"
    }
   ],
   "source": [
    "# Values of each group\n",
    "ncust_bars1 = unique_customers[unique_customers.index.get_level_values(\"PREMIUM_CUSTOMER\") == \"Budget\"]\n",
    "ncust_bars2 = unique_customers[unique_customers.index.get_level_values(\"PREMIUM_CUSTOMER\") == \"Mainstream\"]\n",
    "ncust_bars3 = unique_customers[unique_customers.index.get_level_values(\"PREMIUM_CUSTOMER\") == \"Premium\"]\n",
    " \n",
    "ncust_bars1_text = (ncust_bars1 / sum(unique_customers)).apply(\"{:.1%}\".format)\n",
    "ncust_bars2_text = (ncust_bars2 / sum(unique_customers)).apply(\"{:.1%}\".format)\n",
    "ncust_bars3_text = (ncust_bars3 / sum(unique_customers)).apply(\"{:.1%}\".format)\n",
    " \n",
    "plt.figure(figsize=(12,6)) \n",
    "\n",
    "\n",
    "budget_bar = plt.barh(r, ncust_bars1, edgecolor='grey', label=\"Budget\",color='lightblue')\n",
    "\n",
    "mains_bar = plt.barh(r, ncust_bars2, left=ncust_bars1, edgecolor='grey',  label=\"Mainstream\",color='blue')\n",
    "\n",
    "prem_bar = plt.barh(r, ncust_bars3, left=ncust_bars2, edgecolor='grey',  label=\"Premium\",color='darkblue')\n",
    "\n",
    "\n",
    "for i in range(7):\n",
    "    budget_width = budget_bar[i].get_width()\n",
    "    budget_main_width = budget_width + mains_bar[i].get_width()\n",
    "    plt.text(budget_width/2, i, ncust_bars1_text[i], va='center', ha='center', size=8)\n",
    "    plt.text(budget_width + mains_bar[i].get_width()/2, i, ncust_bars2_text[i], va='center', ha='center', size=8, color='white')\n",
    "    plt.text(budget_main_width + prem_bar[i].get_width()/2, i, ncust_bars3_text[i], va='center', ha='center', size=8,color='black')\n",
    "    \n",
    "# Custom X axis\n",
    "plt.yticks(r, names)\n",
    "plt.ylabel(\"Lifestage\", fontsize=15, fontweight='bold', color='black')\n",
    "plt.xlabel(\"Unique Customers\", fontsize=15, fontweight='bold', color='black')\n",
    "plt.legend(loc='center left', bbox_to_anchor=(1.0, 0.5))\n",
    "\n",
    "plt.title(\"Unique Customers per Lifestage\", fontsize=20, fontweight='bold', color='black')\n",
    "\n",
    "plt.savefig(\"lifestage_customers.png\", bbox_inches=\"tight\")\n",
    "\n",
    "# View\n",
    "plt.show()"
   ]
  },
  {
   "cell_type": "markdown",
   "id": "0c6169c3",
   "metadata": {},
   "source": [
    "#### There are more Mainstream - young singles/couples and Mainstream - retirees who buy chips. This adds to more sales to these customer segments but this is not the case for the Budget - Older families segment.\n"
   ]
  },
  {
   "cell_type": "markdown",
   "id": "87640cb8",
   "metadata": {},
   "source": [
    "#### Higher sales may be also be because of more chips being bright per customer \n"
   ]
  },
  {
   "cell_type": "code",
   "execution_count": 94,
   "id": "3e3a61d7",
   "metadata": {},
   "outputs": [
    {
     "data": {
      "text/plain": [
       "Index(['DATE', 'STORE_NBR', 'LYLTY_CARD_NBR', 'TXN_ID', 'PROD_NBR',\n",
       "       'PROD_NAME', 'PROD_QTY', 'TOT_SALES', 'LIFESTAGE', 'PREMIUM_CUSTOMER',\n",
       "       'brand_names'],\n",
       "      dtype='object')"
      ]
     },
     "execution_count": 94,
     "metadata": {},
     "output_type": "execute_result"
    }
   ],
   "source": [
    "merged_df.columns"
   ]
  },
  {
   "cell_type": "markdown",
   "id": "b2ecb40d",
   "metadata": {},
   "source": [
    "#### Counting the number of occurrences of DATE for each unique combination of LYLTY_CARD_NBR (customer number), LIFESTAGE (lifestage group), and PREMIUM_CUSTOMER (premium customer flag)."
   ]
  },
  {
   "cell_type": "code",
   "execution_count": 104,
   "id": "57d93ca7",
   "metadata": {},
   "outputs": [
    {
     "data": {
      "text/html": [
       "<div>\n",
       "<style scoped>\n",
       "    .dataframe tbody tr th:only-of-type {\n",
       "        vertical-align: middle;\n",
       "    }\n",
       "\n",
       "    .dataframe tbody tr th {\n",
       "        vertical-align: top;\n",
       "    }\n",
       "\n",
       "    .dataframe thead th {\n",
       "        text-align: right;\n",
       "    }\n",
       "</style>\n",
       "<table border=\"1\" class=\"dataframe\">\n",
       "  <thead>\n",
       "    <tr style=\"text-align: right;\">\n",
       "      <th></th>\n",
       "      <th></th>\n",
       "      <th>mean</th>\n",
       "      <th>count</th>\n",
       "    </tr>\n",
       "    <tr>\n",
       "      <th>PREMIUM_CUSTOMER</th>\n",
       "      <th>LIFESTAGE</th>\n",
       "      <th></th>\n",
       "      <th></th>\n",
       "    </tr>\n",
       "  </thead>\n",
       "  <tbody>\n",
       "    <tr>\n",
       "      <th>Mainstream</th>\n",
       "      <th>OLDER FAMILIES</th>\n",
       "      <td>5.031438</td>\n",
       "      <td>2831</td>\n",
       "    </tr>\n",
       "    <tr>\n",
       "      <th>Budget</th>\n",
       "      <th>OLDER FAMILIES</th>\n",
       "      <td>4.954011</td>\n",
       "      <td>4675</td>\n",
       "    </tr>\n",
       "    <tr>\n",
       "      <th>Premium</th>\n",
       "      <th>OLDER FAMILIES</th>\n",
       "      <td>4.923009</td>\n",
       "      <td>2273</td>\n",
       "    </tr>\n",
       "    <tr>\n",
       "      <th>Budget</th>\n",
       "      <th>YOUNG FAMILIES</th>\n",
       "      <td>4.760269</td>\n",
       "      <td>4017</td>\n",
       "    </tr>\n",
       "    <tr>\n",
       "      <th>Premium</th>\n",
       "      <th>YOUNG FAMILIES</th>\n",
       "      <td>4.752569</td>\n",
       "      <td>2433</td>\n",
       "    </tr>\n",
       "    <tr>\n",
       "      <th>Mainstream</th>\n",
       "      <th>YOUNG FAMILIES</th>\n",
       "      <td>4.731305</td>\n",
       "      <td>2728</td>\n",
       "    </tr>\n",
       "    <tr>\n",
       "      <th>Premium</th>\n",
       "      <th>OLDER SINGLES/COUPLES</th>\n",
       "      <td>3.737684</td>\n",
       "      <td>4750</td>\n",
       "    </tr>\n",
       "    <tr>\n",
       "      <th>Budget</th>\n",
       "      <th>OLDER SINGLES/COUPLES</th>\n",
       "      <td>3.734429</td>\n",
       "      <td>4929</td>\n",
       "    </tr>\n",
       "    <tr>\n",
       "      <th rowspan=\"2\" valign=\"top\">Mainstream</th>\n",
       "      <th>OLDER SINGLES/COUPLES</th>\n",
       "      <td>3.715619</td>\n",
       "      <td>4930</td>\n",
       "    </tr>\n",
       "    <tr>\n",
       "      <th>MIDAGE SINGLES/COUPLES</th>\n",
       "      <td>3.555090</td>\n",
       "      <td>3340</td>\n",
       "    </tr>\n",
       "    <tr>\n",
       "      <th>Budget</th>\n",
       "      <th>RETIREES</th>\n",
       "      <td>3.412887</td>\n",
       "      <td>4454</td>\n",
       "    </tr>\n",
       "    <tr>\n",
       "      <th rowspan=\"2\" valign=\"top\">Premium</th>\n",
       "      <th>RETIREES</th>\n",
       "      <td>3.382231</td>\n",
       "      <td>3872</td>\n",
       "    </tr>\n",
       "    <tr>\n",
       "      <th>MIDAGE SINGLES/COUPLES</th>\n",
       "      <td>3.379679</td>\n",
       "      <td>2431</td>\n",
       "    </tr>\n",
       "    <tr>\n",
       "      <th>Budget</th>\n",
       "      <th>MIDAGE SINGLES/COUPLES</th>\n",
       "      <td>3.337766</td>\n",
       "      <td>1504</td>\n",
       "    </tr>\n",
       "    <tr>\n",
       "      <th rowspan=\"2\" valign=\"top\">Mainstream</th>\n",
       "      <th>RETIREES</th>\n",
       "      <td>3.313166</td>\n",
       "      <td>6479</td>\n",
       "    </tr>\n",
       "    <tr>\n",
       "      <th>NEW FAMILIES</th>\n",
       "      <td>2.738516</td>\n",
       "      <td>849</td>\n",
       "    </tr>\n",
       "    <tr>\n",
       "      <th>Premium</th>\n",
       "      <th>NEW FAMILIES</th>\n",
       "      <td>2.702381</td>\n",
       "      <td>588</td>\n",
       "    </tr>\n",
       "    <tr>\n",
       "      <th>Budget</th>\n",
       "      <th>NEW FAMILIES</th>\n",
       "      <td>2.702338</td>\n",
       "      <td>1112</td>\n",
       "    </tr>\n",
       "    <tr>\n",
       "      <th>Mainstream</th>\n",
       "      <th>YOUNG SINGLES/COUPLES</th>\n",
       "      <td>2.578388</td>\n",
       "      <td>8088</td>\n",
       "    </tr>\n",
       "    <tr>\n",
       "      <th>Budget</th>\n",
       "      <th>YOUNG SINGLES/COUPLES</th>\n",
       "      <td>2.445621</td>\n",
       "      <td>3779</td>\n",
       "    </tr>\n",
       "    <tr>\n",
       "      <th>Premium</th>\n",
       "      <th>YOUNG SINGLES/COUPLES</th>\n",
       "      <td>2.440171</td>\n",
       "      <td>2574</td>\n",
       "    </tr>\n",
       "  </tbody>\n",
       "</table>\n",
       "</div>"
      ],
      "text/plain": [
       "                                             mean  count\n",
       "PREMIUM_CUSTOMER LIFESTAGE                              \n",
       "Mainstream       OLDER FAMILIES          5.031438   2831\n",
       "Budget           OLDER FAMILIES          4.954011   4675\n",
       "Premium          OLDER FAMILIES          4.923009   2273\n",
       "Budget           YOUNG FAMILIES          4.760269   4017\n",
       "Premium          YOUNG FAMILIES          4.752569   2433\n",
       "Mainstream       YOUNG FAMILIES          4.731305   2728\n",
       "Premium          OLDER SINGLES/COUPLES   3.737684   4750\n",
       "Budget           OLDER SINGLES/COUPLES   3.734429   4929\n",
       "Mainstream       OLDER SINGLES/COUPLES   3.715619   4930\n",
       "                 MIDAGE SINGLES/COUPLES  3.555090   3340\n",
       "Budget           RETIREES                3.412887   4454\n",
       "Premium          RETIREES                3.382231   3872\n",
       "                 MIDAGE SINGLES/COUPLES  3.379679   2431\n",
       "Budget           MIDAGE SINGLES/COUPLES  3.337766   1504\n",
       "Mainstream       RETIREES                3.313166   6479\n",
       "                 NEW FAMILIES            2.738516    849\n",
       "Premium          NEW FAMILIES            2.702381    588\n",
       "Budget           NEW FAMILIES            2.702338   1112\n",
       "Mainstream       YOUNG SINGLES/COUPLES   2.578388   8088\n",
       "Budget           YOUNG SINGLES/COUPLES   2.445621   3779\n",
       "Premium          YOUNG SINGLES/COUPLES   2.440171   2574"
      ]
     },
     "execution_count": 104,
     "metadata": {},
     "output_type": "execute_result"
    }
   ],
   "source": [
    "frequency_by_customer = merged_df.groupby(['LYLTY_CARD_NBR','PREMIUM_CUSTOMER','LIFESTAGE']).count()['DATE']\n",
    "freq = frequency_by_customer.groupby(['PREMIUM_CUSTOMER','LIFESTAGE']).agg([\"mean\", \"count\"]).sort_values(ascending=False, by=\"mean\")\n",
    "freq"
   ]
  },
  {
   "cell_type": "markdown",
   "id": "6e9320b9",
   "metadata": {},
   "source": [
    "#### The table gives the info about the frequency of purchase and average sales per customer"
   ]
  },
  {
   "cell_type": "code",
   "execution_count": 113,
   "id": "57b46dd9",
   "metadata": {},
   "outputs": [
    {
     "data": {
      "image/png": "[encoded data removed]",
      "text/plain": [
       "<Figure size 1080x576 with 1 Axes>"
      ]
     },
     "metadata": {
      "needs_background": "light"
     },
     "output_type": "display_data"
    }
   ],
   "source": [
    "# Plotting the mean total sales per customer segment\n",
    "freq['mean'].sort_values(ascending=True).plot.barh(figsize=(15,8), color='darkblue')\n",
    "plt.xlabel(\"Average frequency of Purchase per segment\")\n",
    "plt.grid()\n",
    "plt.show()"
   ]
  },
  {
   "cell_type": "code",
   "execution_count": 112,
   "id": "b5af196b",
   "metadata": {},
   "outputs": [
    {
     "data": {
      "image/png": "[encoded data removed]",
      "text/plain": [
       "<Figure size 1080x576 with 1 Axes>"
      ]
     },
     "metadata": {
      "needs_background": "light"
     },
     "output_type": "display_data"
    }
   ],
   "source": [
    "# Plotting the frequency of total sales per customer segment\n",
    "freq['count'].sort_values(ascending=True).plot.barh(figsize=(15,8), color='darkblue')\n",
    "plt.xlabel(\"Frequency of Unique customer per segment\")\n",
    "plt.grid()\n",
    "plt.show()"
   ]
  },
  {
   "cell_type": "markdown",
   "id": "fad4484f",
   "metadata": {},
   "source": [
    "#### The top 3 most frequent purchase is contributed by Older families.\n",
    "#### Older families and young families in general buy more chips per customer\n",
    "#### \"Older - Budget\" segment contributes to high sales mostly because of they have, High Frequency of Purchase and, Fairly high unique number of customer in the segment"
   ]
  },
  {
   "cell_type": "markdown",
   "id": "a787c18a",
   "metadata": {},
   "source": [
    "#### Now, to get the  average price per unit chips bought for each customer segment (as this also contributes to the high total sales)"
   ]
  },
  {
   "cell_type": "code",
   "execution_count": 119,
   "id": "3b73c2ce",
   "metadata": {},
   "outputs": [
    {
     "data": {
      "text/html": [
       "<div>\n",
       "<style scoped>\n",
       "    .dataframe tbody tr th:only-of-type {\n",
       "        vertical-align: middle;\n",
       "    }\n",
       "\n",
       "    .dataframe tbody tr th {\n",
       "        vertical-align: top;\n",
       "    }\n",
       "\n",
       "    .dataframe thead th {\n",
       "        text-align: right;\n",
       "    }\n",
       "</style>\n",
       "<table border=\"1\" class=\"dataframe\">\n",
       "  <thead>\n",
       "    <tr style=\"text-align: right;\">\n",
       "      <th></th>\n",
       "      <th></th>\n",
       "      <th>sum</th>\n",
       "      <th>mean</th>\n",
       "    </tr>\n",
       "    <tr>\n",
       "      <th>LIFESTAGE</th>\n",
       "      <th>PREMIUM_CUSTOMER</th>\n",
       "      <th></th>\n",
       "      <th></th>\n",
       "    </tr>\n",
       "  </thead>\n",
       "  <tbody>\n",
       "    <tr>\n",
       "      <th>MIDAGE SINGLES/COUPLES</th>\n",
       "      <th>Mainstream</th>\n",
       "      <td>90803.85</td>\n",
       "      <td>7.647284</td>\n",
       "    </tr>\n",
       "    <tr>\n",
       "      <th>YOUNG SINGLES/COUPLES</th>\n",
       "      <th>Mainstream</th>\n",
       "      <td>157621.60</td>\n",
       "      <td>7.558339</td>\n",
       "    </tr>\n",
       "    <tr>\n",
       "      <th>RETIREES</th>\n",
       "      <th>Premium</th>\n",
       "      <td>97646.05</td>\n",
       "      <td>7.456174</td>\n",
       "    </tr>\n",
       "    <tr>\n",
       "      <th>OLDER SINGLES/COUPLES</th>\n",
       "      <th>Premium</th>\n",
       "      <td>132263.15</td>\n",
       "      <td>7.449766</td>\n",
       "    </tr>\n",
       "    <tr>\n",
       "      <th>RETIREES</th>\n",
       "      <th>Budget</th>\n",
       "      <td>113147.80</td>\n",
       "      <td>7.443445</td>\n",
       "    </tr>\n",
       "    <tr>\n",
       "      <th>OLDER SINGLES/COUPLES</th>\n",
       "      <th>Budget</th>\n",
       "      <td>136769.80</td>\n",
       "      <td>7.430315</td>\n",
       "    </tr>\n",
       "    <tr>\n",
       "      <th rowspan=\"2\" valign=\"top\">NEW FAMILIES</th>\n",
       "      <th>Mainstream</th>\n",
       "      <td>17013.90</td>\n",
       "      <td>7.317806</td>\n",
       "    </tr>\n",
       "    <tr>\n",
       "      <th>Budget</th>\n",
       "      <td>21928.45</td>\n",
       "      <td>7.297321</td>\n",
       "    </tr>\n",
       "    <tr>\n",
       "      <th>YOUNG FAMILIES</th>\n",
       "      <th>Budget</th>\n",
       "      <td>139345.85</td>\n",
       "      <td>7.287201</td>\n",
       "    </tr>\n",
       "    <tr>\n",
       "      <th>OLDER SINGLES/COUPLES</th>\n",
       "      <th>Mainstream</th>\n",
       "      <td>133393.80</td>\n",
       "      <td>7.282116</td>\n",
       "    </tr>\n",
       "    <tr>\n",
       "      <th>OLDER FAMILIES</th>\n",
       "      <th>Budget</th>\n",
       "      <td>168363.25</td>\n",
       "      <td>7.269570</td>\n",
       "    </tr>\n",
       "    <tr>\n",
       "      <th>YOUNG FAMILIES</th>\n",
       "      <th>Premium</th>\n",
       "      <td>84025.50</td>\n",
       "      <td>7.266756</td>\n",
       "    </tr>\n",
       "    <tr>\n",
       "      <th>OLDER FAMILIES</th>\n",
       "      <th>Mainstream</th>\n",
       "      <td>103445.55</td>\n",
       "      <td>7.262395</td>\n",
       "    </tr>\n",
       "    <tr>\n",
       "      <th>RETIREES</th>\n",
       "      <th>Mainstream</th>\n",
       "      <td>155677.05</td>\n",
       "      <td>7.252262</td>\n",
       "    </tr>\n",
       "    <tr>\n",
       "      <th>NEW FAMILIES</th>\n",
       "      <th>Premium</th>\n",
       "      <td>11491.10</td>\n",
       "      <td>7.231655</td>\n",
       "    </tr>\n",
       "    <tr>\n",
       "      <th>OLDER FAMILIES</th>\n",
       "      <th>Premium</th>\n",
       "      <td>80658.40</td>\n",
       "      <td>7.208079</td>\n",
       "    </tr>\n",
       "    <tr>\n",
       "      <th>YOUNG FAMILIES</th>\n",
       "      <th>Mainstream</th>\n",
       "      <td>92788.75</td>\n",
       "      <td>7.189025</td>\n",
       "    </tr>\n",
       "    <tr>\n",
       "      <th rowspan=\"2\" valign=\"top\">MIDAGE SINGLES/COUPLES</th>\n",
       "      <th>Premium</th>\n",
       "      <td>58432.65</td>\n",
       "      <td>7.112056</td>\n",
       "    </tr>\n",
       "    <tr>\n",
       "      <th>Budget</th>\n",
       "      <td>35514.80</td>\n",
       "      <td>7.074661</td>\n",
       "    </tr>\n",
       "    <tr>\n",
       "      <th rowspan=\"2\" valign=\"top\">YOUNG SINGLES/COUPLES</th>\n",
       "      <th>Premium</th>\n",
       "      <td>41642.10</td>\n",
       "      <td>6.629852</td>\n",
       "    </tr>\n",
       "    <tr>\n",
       "      <th>Budget</th>\n",
       "      <td>61141.60</td>\n",
       "      <td>6.615624</td>\n",
       "    </tr>\n",
       "  </tbody>\n",
       "</table>\n",
       "</div>"
      ],
      "text/plain": [
       "                                               sum      mean\n",
       "LIFESTAGE              PREMIUM_CUSTOMER                     \n",
       "MIDAGE SINGLES/COUPLES Mainstream         90803.85  7.647284\n",
       "YOUNG SINGLES/COUPLES  Mainstream        157621.60  7.558339\n",
       "RETIREES               Premium            97646.05  7.456174\n",
       "OLDER SINGLES/COUPLES  Premium           132263.15  7.449766\n",
       "RETIREES               Budget            113147.80  7.443445\n",
       "OLDER SINGLES/COUPLES  Budget            136769.80  7.430315\n",
       "NEW FAMILIES           Mainstream         17013.90  7.317806\n",
       "                       Budget             21928.45  7.297321\n",
       "YOUNG FAMILIES         Budget            139345.85  7.287201\n",
       "OLDER SINGLES/COUPLES  Mainstream        133393.80  7.282116\n",
       "OLDER FAMILIES         Budget            168363.25  7.269570\n",
       "YOUNG FAMILIES         Premium            84025.50  7.266756\n",
       "OLDER FAMILIES         Mainstream        103445.55  7.262395\n",
       "RETIREES               Mainstream        155677.05  7.252262\n",
       "NEW FAMILIES           Premium            11491.10  7.231655\n",
       "OLDER FAMILIES         Premium            80658.40  7.208079\n",
       "YOUNG FAMILIES         Mainstream         92788.75  7.189025\n",
       "MIDAGE SINGLES/COUPLES Premium            58432.65  7.112056\n",
       "                       Budget             35514.80  7.074661\n",
       "YOUNG SINGLES/COUPLES  Premium            41642.10  6.629852\n",
       "                       Budget             61141.60  6.615624"
      ]
     },
     "execution_count": 119,
     "metadata": {},
     "output_type": "execute_result"
    }
   ],
   "source": [
    "customer_sales.sort_values(ascending=False, by=\"mean\")"
   ]
  },
  {
   "cell_type": "code",
   "execution_count": 127,
   "id": "b640f4d6",
   "metadata": {},
   "outputs": [
    {
     "data": {
      "image/png": "[encoded data removed]",
      "text/plain": [
       "<Figure size 1080x576 with 1 Axes>"
      ]
     },
     "metadata": {
      "needs_background": "light"
     },
     "output_type": "display_data"
    }
   ],
   "source": [
    "# Now, to plot this, \n",
    "customer_sales['mean'].sort_values(ascending=True).plot.barh(figsize=(15,8), color='darkblue')\n",
    "plt.xlabel(\"Average spending per purchase\")\n",
    "plt.grid()\n",
    "plt.show()"
   ]
  },
  {
   "cell_type": "markdown",
   "id": "37fc0724",
   "metadata": {},
   "source": [
    "#### Highest average spending per purchase are contributed by the Midage and Young \"Singles/Couples\" mainstream.\n",
    "#### Mainstream midage and young singles and couples are more willing to pay more per packet of chips compared to their budget and premium counterparts. Thre is a slight difference in the pattern shown by this category's mainstream ans non-mainstream members. To check that out,"
   ]
  },
  {
   "cell_type": "markdown",
   "id": "fb010c1f",
   "metadata": {},
   "source": [
    " #### Perform an independent t‐test between mainstream vs premium and budget midage and young singles and couples\n"
   ]
  },
  {
   "cell_type": "code",
   "execution_count": 128,
   "id": "1f66eb8e",
   "metadata": {},
   "outputs": [],
   "source": [
    "from scipy.stats import ttest_ind"
   ]
  },
  {
   "cell_type": "code",
   "execution_count": 134,
   "id": "a4a25bc0",
   "metadata": {},
   "outputs": [
    {
     "name": "stdout",
     "output_type": "stream",
     "text": [
      "1.854204010753694e-281\n"
     ]
    },
    {
     "data": {
      "text/plain": [
       "True"
      ]
     },
     "execution_count": 134,
     "metadata": {},
     "output_type": "execute_result"
    }
   ],
   "source": [
    "mainstream = merged_df[\"PREMIUM_CUSTOMER\"] == \"Mainstream\"\n",
    "# either \"Budget\" or \"Premium\"\n",
    "budget_premium = (merged_df[\"PREMIUM_CUSTOMER\"] == \"Budget\") | (merged_df[\"PREMIUM_CUSTOMER\"] == \"Premium\") \n",
    "# either \"MIDAGE SINGLES/COUPLES\" or \"YOUNG SINGLES/COUPLES\".\n",
    "mid_young_cust = (merged_df[\"LIFESTAGE\"] == \"MIDAGE SINGLES/COUPLES\") | (merged_df[\"LIFESTAGE\"] == \"YOUNG SINGLES/COUPLES\")\n",
    "# Sales for young/mid-age Mainstream customers\n",
    "a = merged_df[mid_young_cust & mainstream]['TOT_SALES']\n",
    "# Sales for young/mid-age budget or premium customers\n",
    "b = merged_df[mid_young_cust & budget_premium]['TOT_SALES']\n",
    "# Perform t-test to compare the means of two independent samples to see if they are significantly different\n",
    "stat, pval = ttest_ind(a.values, b.values, equal_var=False)\n",
    "print(pval)\n",
    "pval < 0.0000001\n"
   ]
  },
  {
   "cell_type": "markdown",
   "id": "29499014",
   "metadata": {},
   "source": [
    "#### If pval is very small (e.g., < 10^-7) it means the difference in TOT_SALES between the two groups is statistically significant."
   ]
  },
  {
   "cell_type": "markdown",
   "id": "64d2c7da",
   "metadata": {},
   "source": [
    "## Deep dive into specific customer segments for insights"
   ]
  },
  {
   "cell_type": "markdown",
   "id": "0d40d485",
   "metadata": {},
   "source": [
    "#### To check which brand of chips the top 3 segments contributing to Total Sales are buying."
   ]
  },
  {
   "cell_type": "code",
   "execution_count": 135,
   "id": "fc199623",
   "metadata": {},
   "outputs": [
    {
     "data": {
      "text/plain": [
       "array(['YOUNG SINGLES/COUPLES', 'YOUNG FAMILIES', 'OLDER SINGLES/COUPLES',\n",
       "       'MIDAGE SINGLES/COUPLES', 'NEW FAMILIES', 'OLDER FAMILIES',\n",
       "       'RETIREES'], dtype=object)"
      ]
     },
     "execution_count": 135,
     "metadata": {},
     "output_type": "execute_result"
    }
   ],
   "source": [
    "merged_df[\"LIFESTAGE\"].unique()"
   ]
  },
  {
   "cell_type": "code",
   "execution_count": 136,
   "id": "2937a4c9",
   "metadata": {},
   "outputs": [
    {
     "data": {
      "text/plain": [
       "array(['Premium', 'Mainstream', 'Budget'], dtype=object)"
      ]
     },
     "execution_count": 136,
     "metadata": {},
     "output_type": "execute_result"
    }
   ],
   "source": [
    "merged_df[\"PREMIUM_CUSTOMER\"].unique()"
   ]
  },
  {
   "cell_type": "code",
   "execution_count": 138,
   "id": "2d0f55b6",
   "metadata": {},
   "outputs": [
    {
     "data": {
      "text/plain": [
       "Index(['DATE', 'STORE_NBR', 'LYLTY_CARD_NBR', 'TXN_ID', 'PROD_NBR',\n",
       "       'PROD_NAME', 'PROD_QTY', 'TOT_SALES', 'LIFESTAGE', 'PREMIUM_CUSTOMER',\n",
       "       'brand_names'],\n",
       "      dtype='object')"
      ]
     },
     "execution_count": 138,
     "metadata": {},
     "output_type": "execute_result"
    }
   ],
   "source": [
    "merged_df.columns"
   ]
  },
  {
   "cell_type": "code",
   "execution_count": 155,
   "id": "39daa330",
   "metadata": {},
   "outputs": [
    {
     "name": "stdout",
     "output_type": "stream",
     "text": [
      "YOUNG SINGLES/COUPLES ------ Premium\n",
      "Kettle     838\n",
      "Smiths     826\n",
      "Doritos    570\n",
      "Name: brand_names, dtype: int64\n"
     ]
    },
    {
     "data": {
      "image/png": "[encoded data removed]",
      "text/plain": [
       "<Figure size 432x144 with 1 Axes>"
      ]
     },
     "metadata": {
      "needs_background": "light"
     },
     "output_type": "display_data"
    },
    {
     "name": "stdout",
     "output_type": "stream",
     "text": [
      "YOUNG SINGLES/COUPLES ------ Mainstream\n",
      "Kettle      3844\n",
      "Doritos     2541\n",
      "Pringles    2315\n",
      "Name: brand_names, dtype: int64\n"
     ]
    },
    {
     "data": {
      "image/png": "[encoded data removed]",
      "text/plain": [
       "<Figure size 432x144 with 1 Axes>"
      ]
     },
     "metadata": {
      "needs_background": "light"
     },
     "output_type": "display_data"
    },
    {
     "name": "stdout",
     "output_type": "stream",
     "text": [
      "YOUNG SINGLES/COUPLES ------ Budget\n",
      "Smiths     1245\n",
      "Kettle     1211\n",
      "Doritos     899\n",
      "Name: brand_names, dtype: int64\n"
     ]
    },
    {
     "data": {
      "image/png": "[encoded data removed]",
      "text/plain": [
       "<Figure size 432x144 with 1 Axes>"
      ]
     },
     "metadata": {
      "needs_background": "light"
     },
     "output_type": "display_data"
    },
    {
     "name": "stdout",
     "output_type": "stream",
     "text": [
      "YOUNG FAMILIES ------ Premium\n",
      "Kettle     1745\n",
      "Smiths     1442\n",
      "Doritos    1129\n",
      "Name: brand_names, dtype: int64\n"
     ]
    },
    {
     "data": {
      "image/png": "[encoded data removed]",
      "text/plain": [
       "<Figure size 432x144 with 1 Axes>"
      ]
     },
     "metadata": {
      "needs_background": "light"
     },
     "output_type": "display_data"
    },
    {
     "name": "stdout",
     "output_type": "stream",
     "text": [
      "YOUNG FAMILIES ------ Mainstream\n",
      "Kettle     1789\n",
      "Smiths     1772\n",
      "Doritos    1309\n",
      "Name: brand_names, dtype: int64\n"
     ]
    },
    {
     "data": {
      "image/png": "[encoded data removed]",
      "text/plain": [
       "<Figure size 432x144 with 1 Axes>"
      ]
     },
     "metadata": {
      "needs_background": "light"
     },
     "output_type": "display_data"
    },
    {
     "name": "stdout",
     "output_type": "stream",
     "text": [
      "YOUNG FAMILIES ------ Budget\n",
      "Kettle     2743\n",
      "Smiths     2459\n",
      "Doritos    1996\n",
      "Name: brand_names, dtype: int64\n"
     ]
    },
    {
     "data": {
      "image/png": "[encoded data removed]",
      "text/plain": [
       "<Figure size 432x144 with 1 Axes>"
      ]
     },
     "metadata": {
      "needs_background": "light"
     },
     "output_type": "display_data"
    },
    {
     "name": "stdout",
     "output_type": "stream",
     "text": [
      "OLDER SINGLES/COUPLES ------ Premium\n",
      "Kettle     2947\n",
      "Smiths     2042\n",
      "Doritos    1958\n",
      "Name: brand_names, dtype: int64\n"
     ]
    },
    {
     "data": {
      "image/png": "[encoded data removed]",
      "text/plain": [
       "<Figure size 432x144 with 1 Axes>"
      ]
     },
     "metadata": {
      "needs_background": "light"
     },
     "output_type": "display_data"
    },
    {
     "name": "stdout",
     "output_type": "stream",
     "text": [
      "OLDER SINGLES/COUPLES ------ Mainstream\n",
      "Kettle     2835\n",
      "Smiths     2180\n",
      "Doritos    2008\n",
      "Name: brand_names, dtype: int64\n"
     ]
    },
    {
     "data": {
      "image/png": "[encoded data removed]",
      "text/plain": [
       "<Figure size 432x144 with 1 Axes>"
      ]
     },
     "metadata": {
      "needs_background": "light"
     },
     "output_type": "display_data"
    },
    {
     "name": "stdout",
     "output_type": "stream",
     "text": [
      "OLDER SINGLES/COUPLES ------ Budget\n",
      "Kettle     3065\n",
      "Smiths     2098\n",
      "Doritos    1954\n",
      "Name: brand_names, dtype: int64\n"
     ]
    },
    {
     "data": {
      "image/png": "[encoded data removed]",
      "text/plain": [
       "<Figure size 432x144 with 1 Axes>"
      ]
     },
     "metadata": {
      "needs_background": "light"
     },
     "output_type": "display_data"
    },
    {
     "name": "stdout",
     "output_type": "stream",
     "text": [
      "MIDAGE SINGLES/COUPLES ------ Premium\n",
      "Kettle     1206\n",
      "Smiths      986\n",
      "Doritos     837\n",
      "Name: brand_names, dtype: int64\n"
     ]
    },
    {
     "data": {
      "image/png": "[encoded data removed]",
      "text/plain": [
       "<Figure size 432x144 with 1 Axes>"
      ]
     },
     "metadata": {
      "needs_background": "light"
     },
     "output_type": "display_data"
    },
    {
     "name": "stdout",
     "output_type": "stream",
     "text": [
      "MIDAGE SINGLES/COUPLES ------ Mainstream\n",
      "Kettle     2136\n",
      "Smiths     1337\n",
      "Doritos    1291\n",
      "Name: brand_names, dtype: int64\n"
     ]
    },
    {
     "data": {
      "image/png": "[encoded data removed]",
      "text/plain": [
       "<Figure size 432x144 with 1 Axes>"
      ]
     },
     "metadata": {
      "needs_background": "light"
     },
     "output_type": "display_data"
    },
    {
     "name": "stdout",
     "output_type": "stream",
     "text": [
      "MIDAGE SINGLES/COUPLES ------ Budget\n",
      "Kettle     713\n",
      "Smiths     633\n",
      "Doritos    533\n",
      "Name: brand_names, dtype: int64\n"
     ]
    },
    {
     "data": {
      "image/png": "[encoded data removed]",
      "text/plain": [
       "<Figure size 432x144 with 1 Axes>"
      ]
     },
     "metadata": {
      "needs_background": "light"
     },
     "output_type": "display_data"
    },
    {
     "name": "stdout",
     "output_type": "stream",
     "text": [
      "NEW FAMILIES ------ Premium\n",
      "Kettle      247\n",
      "Doritos     167\n",
      "Pringles    165\n",
      "Name: brand_names, dtype: int64\n"
     ]
    },
    {
     "data": {
      "image/png": "[encoded data removed]",
      "text/plain": [
       "<Figure size 432x144 with 1 Axes>"
      ]
     },
     "metadata": {
      "needs_background": "light"
     },
     "output_type": "display_data"
    },
    {
     "name": "stdout",
     "output_type": "stream",
     "text": [
      "NEW FAMILIES ------ Mainstream\n",
      "Kettle     414\n",
      "Doritos    274\n",
      "Smiths     254\n",
      "Name: brand_names, dtype: int64\n"
     ]
    },
    {
     "data": {
      "image/png": "[encoded data removed]",
      "text/plain": [
       "<Figure size 432x144 with 1 Axes>"
      ]
     },
     "metadata": {
      "needs_background": "light"
     },
     "output_type": "display_data"
    },
    {
     "name": "stdout",
     "output_type": "stream",
     "text": [
      "NEW FAMILIES ------ Budget\n",
      "Kettle     510\n",
      "Doritos    343\n",
      "Smiths     341\n",
      "Name: brand_names, dtype: int64\n"
     ]
    },
    {
     "data": {
      "image/png": "[encoded data removed]",
      "text/plain": [
       "<Figure size 432x144 with 1 Axes>"
      ]
     },
     "metadata": {
      "needs_background": "light"
     },
     "output_type": "display_data"
    },
    {
     "name": "stdout",
     "output_type": "stream",
     "text": [
      "OLDER FAMILIES ------ Premium\n",
      "Smiths     1515\n",
      "Kettle     1512\n",
      "Doritos    1065\n",
      "Name: brand_names, dtype: int64\n"
     ]
    },
    {
     "data": {
      "image/png": "[encoded data removed]",
      "text/plain": [
       "<Figure size 432x144 with 1 Axes>"
      ]
     },
     "metadata": {
      "needs_background": "light"
     },
     "output_type": "display_data"
    },
    {
     "name": "stdout",
     "output_type": "stream",
     "text": [
      "OLDER FAMILIES ------ Mainstream\n",
      "Kettle     2019\n",
      "Smiths     1835\n",
      "Doritos    1449\n",
      "Name: brand_names, dtype: int64\n"
     ]
    },
    {
     "data": {
      "image/png": "[encoded data removed]",
      "text/plain": [
       "<Figure size 432x144 with 1 Axes>"
      ]
     },
     "metadata": {
      "needs_background": "light"
     },
     "output_type": "display_data"
    },
    {
     "name": "stdout",
     "output_type": "stream",
     "text": [
      "OLDER FAMILIES ------ Budget\n",
      "Kettle     3320\n",
      "Smiths     3093\n",
      "Doritos    2351\n",
      "Name: brand_names, dtype: int64\n"
     ]
    },
    {
     "data": {
      "image/png": "[encoded data removed]",
      "text/plain": [
       "<Figure size 432x144 with 1 Axes>"
      ]
     },
     "metadata": {
      "needs_background": "light"
     },
     "output_type": "display_data"
    },
    {
     "name": "stdout",
     "output_type": "stream",
     "text": [
      "RETIREES ------ Premium\n",
      "Kettle     2216\n",
      "Smiths     1458\n",
      "Doritos    1409\n",
      "Name: brand_names, dtype: int64\n"
     ]
    },
    {
     "data": {
      "image/png": "[encoded data removed]",
      "text/plain": [
       "<Figure size 432x144 with 1 Axes>"
      ]
     },
     "metadata": {
      "needs_background": "light"
     },
     "output_type": "display_data"
    },
    {
     "name": "stdout",
     "output_type": "stream",
     "text": [
      "RETIREES ------ Mainstream\n",
      "Kettle     3386\n",
      "Smiths     2476\n",
      "Doritos    2320\n",
      "Name: brand_names, dtype: int64\n"
     ]
    },
    {
     "data": {
      "image/png": "[encoded data removed]",
      "text/plain": [
       "<Figure size 432x144 with 1 Axes>"
      ]
     },
     "metadata": {
      "needs_background": "light"
     },
     "output_type": "display_data"
    },
    {
     "name": "stdout",
     "output_type": "stream",
     "text": [
      "RETIREES ------ Budget\n",
      "Kettle     2592\n",
      "Doritos    1742\n",
      "Smiths     1679\n",
      "Name: brand_names, dtype: int64\n"
     ]
    },
    {
     "data": {
      "image/png": "[encoded data removed]",
      "text/plain": [
       "<Figure size 432x144 with 1 Axes>"
      ]
     },
     "metadata": {
      "needs_background": "light"
     },
     "output_type": "display_data"
    },
    {
     "name": "stdout",
     "output_type": "stream",
     "text": [
      "[Kettle    838\n",
      "Name: brand_names, dtype: int64, Kettle    3844\n",
      "Name: brand_names, dtype: int64, Smiths    1245\n",
      "Name: brand_names, dtype: int64, Kettle    1745\n",
      "Name: brand_names, dtype: int64, Kettle    1789\n",
      "Name: brand_names, dtype: int64, Kettle    2743\n",
      "Name: brand_names, dtype: int64, Kettle    2947\n",
      "Name: brand_names, dtype: int64, Kettle    2835\n",
      "Name: brand_names, dtype: int64, Kettle    3065\n",
      "Name: brand_names, dtype: int64, Kettle    1206\n",
      "Name: brand_names, dtype: int64, Kettle    2136\n",
      "Name: brand_names, dtype: int64, Kettle    713\n",
      "Name: brand_names, dtype: int64, Kettle    247\n",
      "Name: brand_names, dtype: int64, Kettle    414\n",
      "Name: brand_names, dtype: int64, Kettle    510\n",
      "Name: brand_names, dtype: int64, Smiths    1515\n",
      "Name: brand_names, dtype: int64, Kettle    2019\n",
      "Name: brand_names, dtype: int64, Kettle    3320\n",
      "Name: brand_names, dtype: int64, Kettle    2216\n",
      "Name: brand_names, dtype: int64, Kettle    3386\n",
      "Name: brand_names, dtype: int64, Kettle    2592\n",
      "Name: brand_names, dtype: int64]\n"
     ]
    }
   ],
   "source": [
    "top1 = []\n",
    "for i in merged_df[\"LIFESTAGE\"].unique():\n",
    "    for j in merged_df[\"PREMIUM_CUSTOMER\"].unique():\n",
    "        print(i,'------',j)\n",
    "        \n",
    "        top3 = merged_df[(merged_df[\"LIFESTAGE\"] == i) \n",
    "                              & (merged_df[\"PREMIUM_CUSTOMER\"] == j)][\"brand_names\"].value_counts().head(3)\n",
    "        print(top3)\n",
    "        top1.append(merged_df[(merged_df[\"LIFESTAGE\"] == i) \n",
    "                              & (merged_df[\"PREMIUM_CUSTOMER\"] == j)][\"brand_names\"].value_counts().head(1))\n",
    "        plt.figure()\n",
    "        top3.plot.barh(figsize=(6, 2), color='darkblue', title=f\"{i} - {j}\")\n",
    "        plt.show()\n",
    "print(top1)"
   ]
  },
  {
   "cell_type": "markdown",
   "id": "8653c394",
   "metadata": {},
   "source": [
    "#### Kettle seems to be the brand of choice for most segment \n"
   ]
  },
  {
   "cell_type": "markdown",
   "id": "7011783d",
   "metadata": {},
   "source": [
    "#### Now, we check the packet size for each of the segment"
   ]
  },
  {
   "cell_type": "code",
   "execution_count": 157,
   "id": "0609a36d",
   "metadata": {},
   "outputs": [
    {
     "data": {
      "text/plain": [
       "Index(['DATE', 'STORE_NBR', 'LYLTY_CARD_NBR', 'TXN_ID', 'PROD_NBR',\n",
       "       'PROD_NAME', 'PROD_QTY', 'TOT_SALES', 'LIFESTAGE', 'PREMIUM_CUSTOMER',\n",
       "       'brand_names'],\n",
       "      dtype='object')"
      ]
     },
     "execution_count": 157,
     "metadata": {},
     "output_type": "execute_result"
    }
   ],
   "source": [
    "merged_df.columns"
   ]
  },
  {
   "cell_type": "code",
   "execution_count": 160,
   "id": "c7b2dade",
   "metadata": {},
   "outputs": [],
   "source": [
    "# packet_size"
   ]
  },
  {
   "cell_type": "code",
   "execution_count": 166,
   "id": "0085a9fa",
   "metadata": {},
   "outputs": [
    {
     "data": {
      "text/html": [
       "<div>\n",
       "<style scoped>\n",
       "    .dataframe tbody tr th:only-of-type {\n",
       "        vertical-align: middle;\n",
       "    }\n",
       "\n",
       "    .dataframe tbody tr th {\n",
       "        vertical-align: top;\n",
       "    }\n",
       "\n",
       "    .dataframe thead th {\n",
       "        text-align: right;\n",
       "    }\n",
       "</style>\n",
       "<table border=\"1\" class=\"dataframe\">\n",
       "  <thead>\n",
       "    <tr style=\"text-align: right;\">\n",
       "      <th></th>\n",
       "      <th>DATE</th>\n",
       "      <th>STORE_NBR</th>\n",
       "      <th>LYLTY_CARD_NBR</th>\n",
       "      <th>TXN_ID</th>\n",
       "      <th>PROD_NBR</th>\n",
       "      <th>PROD_NAME</th>\n",
       "      <th>PROD_QTY</th>\n",
       "      <th>TOT_SALES</th>\n",
       "      <th>LIFESTAGE</th>\n",
       "      <th>PREMIUM_CUSTOMER</th>\n",
       "      <th>brand_names</th>\n",
       "      <th>Packet_sizes</th>\n",
       "    </tr>\n",
       "  </thead>\n",
       "  <tbody>\n",
       "    <tr>\n",
       "      <th>0</th>\n",
       "      <td>2018-10-17</td>\n",
       "      <td>1</td>\n",
       "      <td>1000</td>\n",
       "      <td>1</td>\n",
       "      <td>5</td>\n",
       "      <td>Natural Chip        Compny SeaSalt175g</td>\n",
       "      <td>2</td>\n",
       "      <td>6.0</td>\n",
       "      <td>YOUNG SINGLES/COUPLES</td>\n",
       "      <td>Premium</td>\n",
       "      <td>Natural Chip Co</td>\n",
       "      <td>175.0</td>\n",
       "    </tr>\n",
       "    <tr>\n",
       "      <th>1</th>\n",
       "      <td>2018-09-16</td>\n",
       "      <td>1</td>\n",
       "      <td>1002</td>\n",
       "      <td>2</td>\n",
       "      <td>58</td>\n",
       "      <td>Red Rock Deli Chikn&amp;Garlic Aioli 150g</td>\n",
       "      <td>1</td>\n",
       "      <td>2.7</td>\n",
       "      <td>YOUNG SINGLES/COUPLES</td>\n",
       "      <td>Mainstream</td>\n",
       "      <td>RRD</td>\n",
       "      <td>150.0</td>\n",
       "    </tr>\n",
       "    <tr>\n",
       "      <th>2</th>\n",
       "      <td>2019-03-07</td>\n",
       "      <td>1</td>\n",
       "      <td>1003</td>\n",
       "      <td>3</td>\n",
       "      <td>52</td>\n",
       "      <td>Grain Waves Sour    Cream&amp;Chives g</td>\n",
       "      <td>1</td>\n",
       "      <td>3.6</td>\n",
       "      <td>YOUNG FAMILIES</td>\n",
       "      <td>Budget</td>\n",
       "      <td>Grain Waves</td>\n",
       "      <td>NaN</td>\n",
       "    </tr>\n",
       "    <tr>\n",
       "      <th>3</th>\n",
       "      <td>2019-03-08</td>\n",
       "      <td>1</td>\n",
       "      <td>1003</td>\n",
       "      <td>4</td>\n",
       "      <td>106</td>\n",
       "      <td>Natural ChipCo      Hony Soy Chckn175g</td>\n",
       "      <td>1</td>\n",
       "      <td>3.0</td>\n",
       "      <td>YOUNG FAMILIES</td>\n",
       "      <td>Budget</td>\n",
       "      <td>Natural Chip Co</td>\n",
       "      <td>175.0</td>\n",
       "    </tr>\n",
       "    <tr>\n",
       "      <th>4</th>\n",
       "      <td>2018-11-02</td>\n",
       "      <td>1</td>\n",
       "      <td>1004</td>\n",
       "      <td>5</td>\n",
       "      <td>96</td>\n",
       "      <td>WW Original Stacked Chips 160g</td>\n",
       "      <td>1</td>\n",
       "      <td>1.9</td>\n",
       "      <td>OLDER SINGLES/COUPLES</td>\n",
       "      <td>Mainstream</td>\n",
       "      <td>Woolworths</td>\n",
       "      <td>160.0</td>\n",
       "    </tr>\n",
       "  </tbody>\n",
       "</table>\n",
       "</div>"
      ],
      "text/plain": [
       "        DATE  STORE_NBR  LYLTY_CARD_NBR  TXN_ID  PROD_NBR  \\\n",
       "0 2018-10-17          1            1000       1         5   \n",
       "1 2018-09-16          1            1002       2        58   \n",
       "2 2019-03-07          1            1003       3        52   \n",
       "3 2019-03-08          1            1003       4       106   \n",
       "4 2018-11-02          1            1004       5        96   \n",
       "\n",
       "                                PROD_NAME  PROD_QTY  TOT_SALES  \\\n",
       "0  Natural Chip        Compny SeaSalt175g         2        6.0   \n",
       "1   Red Rock Deli Chikn&Garlic Aioli 150g         1        2.7   \n",
       "2      Grain Waves Sour    Cream&Chives g         1        3.6   \n",
       "3  Natural ChipCo      Hony Soy Chckn175g         1        3.0   \n",
       "4          WW Original Stacked Chips 160g         1        1.9   \n",
       "\n",
       "               LIFESTAGE PREMIUM_CUSTOMER      brand_names  Packet_sizes  \n",
       "0  YOUNG SINGLES/COUPLES          Premium  Natural Chip Co         175.0  \n",
       "1  YOUNG SINGLES/COUPLES       Mainstream              RRD         150.0  \n",
       "2         YOUNG FAMILIES           Budget      Grain Waves           NaN  \n",
       "3         YOUNG FAMILIES           Budget  Natural Chip Co         175.0  \n",
       "4  OLDER SINGLES/COUPLES       Mainstream       Woolworths         160.0  "
      ]
     },
     "execution_count": 166,
     "metadata": {},
     "output_type": "execute_result"
    }
   ],
   "source": [
    "merged_df_pack = pd.concat([merged_df,packet_size.rename('Packet_sizes')], axis=1)\n",
    "merged_df_pack.head()"
   ]
  },
  {
   "cell_type": "code",
   "execution_count": 169,
   "id": "7cd51df8",
   "metadata": {},
   "outputs": [
    {
     "name": "stdout",
     "output_type": "stream",
     "text": [
      "YOUNG SINGLES/COUPLES ------ Premium\n",
      "packet sizes \n",
      " 134.0     537\n",
      "150.0     961\n",
      "175.0    1587\n",
      "Name: Packet_sizes, dtype: int64\n"
     ]
    },
    {
     "data": {
      "image/png": "[encoded data removed]",
      "text/plain": [
       "<Figure size 432x144 with 1 Axes>"
      ]
     },
     "metadata": {
      "needs_background": "light"
     },
     "output_type": "display_data"
    },
    {
     "name": "stdout",
     "output_type": "stream",
     "text": [
      "YOUNG SINGLES/COUPLES ------ Mainstream\n",
      "packet sizes \n",
      " 134.0    2315\n",
      "150.0    3159\n",
      "175.0    4928\n",
      "Name: Packet_sizes, dtype: int64\n"
     ]
    },
    {
     "data": {
      "image/png": "[encoded data removed]",
      "text/plain": [
       "<Figure size 432x144 with 1 Axes>"
      ]
     },
     "metadata": {
      "needs_background": "light"
     },
     "output_type": "display_data"
    },
    {
     "name": "stdout",
     "output_type": "stream",
     "text": [
      "YOUNG SINGLES/COUPLES ------ Budget\n",
      "packet sizes \n",
      " 134.0     832\n",
      "150.0    1439\n",
      "175.0    2262\n",
      "Name: Packet_sizes, dtype: int64\n"
     ]
    },
    {
     "data": {
      "image/png": "[encoded data removed]",
      "text/plain": [
       "<Figure size 432x144 with 1 Axes>"
      ]
     },
     "metadata": {
      "needs_background": "light"
     },
     "output_type": "display_data"
    },
    {
     "name": "stdout",
     "output_type": "stream",
     "text": [
      "YOUNG FAMILIES ------ Premium\n",
      "packet sizes \n",
      " 134.0    1007\n",
      "150.0    1832\n",
      "175.0    2926\n",
      "Name: Packet_sizes, dtype: int64\n"
     ]
    },
    {
     "data": {
      "image/png": "[encoded data removed]",
      "text/plain": [
       "<Figure size 432x144 with 1 Axes>"
      ]
     },
     "metadata": {
      "needs_background": "light"
     },
     "output_type": "display_data"
    },
    {
     "name": "stdout",
     "output_type": "stream",
     "text": [
      "YOUNG FAMILIES ------ Mainstream\n",
      "packet sizes \n",
      " 134.0    1148\n",
      "150.0    2101\n",
      "175.0    3087\n",
      "Name: Packet_sizes, dtype: int64\n"
     ]
    },
    {
     "data": {
      "image/png": "[encoded data removed]",
      "text/plain": [
       "<Figure size 432x144 with 1 Axes>"
      ]
     },
     "metadata": {
      "needs_background": "light"
     },
     "output_type": "display_data"
    },
    {
     "name": "stdout",
     "output_type": "stream",
     "text": [
      "YOUNG FAMILIES ------ Budget\n",
      "packet sizes \n",
      " 134.0    1674\n",
      "150.0    2981\n",
      "175.0    4800\n",
      "Name: Packet_sizes, dtype: int64\n"
     ]
    },
    {
     "data": {
      "image/png": "[encoded data removed]",
      "text/plain": [
       "<Figure size 432x144 with 1 Axes>"
      ]
     },
     "metadata": {
      "needs_background": "light"
     },
     "output_type": "display_data"
    },
    {
     "name": "stdout",
     "output_type": "stream",
     "text": [
      "OLDER SINGLES/COUPLES ------ Premium\n",
      "packet sizes \n",
      " 134.0    1744\n",
      "150.0    2854\n",
      "175.0    4382\n",
      "Name: Packet_sizes, dtype: int64\n"
     ]
    },
    {
     "data": {
      "image/png": "[encoded data removed]",
      "text/plain": [
       "<Figure size 432x144 with 1 Axes>"
      ]
     },
     "metadata": {
      "needs_background": "light"
     },
     "output_type": "display_data"
    },
    {
     "name": "stdout",
     "output_type": "stream",
     "text": [
      "OLDER SINGLES/COUPLES ------ Mainstream\n",
      "packet sizes \n",
      " 134.0    1720\n",
      "150.0    2875\n",
      "175.0    4422\n",
      "Name: Packet_sizes, dtype: int64\n"
     ]
    },
    {
     "data": {
      "image/png": "[encoded data removed]",
      "text/plain": [
       "<Figure size 432x144 with 1 Axes>"
      ]
     },
     "metadata": {
      "needs_background": "light"
     },
     "output_type": "display_data"
    },
    {
     "name": "stdout",
     "output_type": "stream",
     "text": [
      "OLDER SINGLES/COUPLES ------ Budget\n",
      "packet sizes \n",
      " 134.0    1843\n",
      "150.0    2899\n",
      "175.0    4535\n",
      "Name: Packet_sizes, dtype: int64\n"
     ]
    },
    {
     "data": {
      "image/png": "[encoded data removed]",
      "text/plain": [
       "<Figure size 432x144 with 1 Axes>"
      ]
     },
     "metadata": {
      "needs_background": "light"
     },
     "output_type": "display_data"
    },
    {
     "name": "stdout",
     "output_type": "stream",
     "text": [
      "MIDAGE SINGLES/COUPLES ------ Premium\n",
      "packet sizes \n",
      " 134.0     781\n",
      "150.0    1285\n",
      "175.0    2034\n",
      "Name: Packet_sizes, dtype: int64\n"
     ]
    },
    {
     "data": {
      "image/png": "[encoded data removed]",
      "text/plain": [
       "<Figure size 432x144 with 1 Axes>"
      ]
     },
     "metadata": {
      "needs_background": "light"
     },
     "output_type": "display_data"
    },
    {
     "name": "stdout",
     "output_type": "stream",
     "text": [
      "MIDAGE SINGLES/COUPLES ------ Mainstream\n",
      "packet sizes \n",
      " 134.0    1159\n",
      "150.0    1819\n",
      "175.0    2912\n",
      "Name: Packet_sizes, dtype: int64\n"
     ]
    },
    {
     "data": {
      "image/png": "[encoded data removed]",
      "text/plain": [
       "<Figure size 432x144 with 1 Axes>"
      ]
     },
     "metadata": {
      "needs_background": "light"
     },
     "output_type": "display_data"
    },
    {
     "name": "stdout",
     "output_type": "stream",
     "text": [
      "MIDAGE SINGLES/COUPLES ------ Budget\n",
      "packet sizes \n",
      " 134.0     449\n",
      "150.0     821\n",
      "175.0    1256\n",
      "Name: Packet_sizes, dtype: int64\n"
     ]
    },
    {
     "data": {
      "image/png": "[encoded data removed]",
      "text/plain": [
       "<Figure size 432x144 with 1 Axes>"
      ]
     },
     "metadata": {
      "needs_background": "light"
     },
     "output_type": "display_data"
    },
    {
     "name": "stdout",
     "output_type": "stream",
     "text": [
      "NEW FAMILIES ------ Premium\n",
      "packet sizes \n",
      " 134.0    165\n",
      "150.0    245\n",
      "175.0    371\n",
      "Name: Packet_sizes, dtype: int64\n"
     ]
    },
    {
     "data": {
      "image/png": "[encoded data removed]",
      "text/plain": [
       "<Figure size 432x144 with 1 Axes>"
      ]
     },
     "metadata": {
      "needs_background": "light"
     },
     "output_type": "display_data"
    },
    {
     "name": "stdout",
     "output_type": "stream",
     "text": [
      "NEW FAMILIES ------ Mainstream\n",
      "packet sizes \n",
      " 134.0    224\n",
      "150.0    384\n",
      "175.0    579\n",
      "Name: Packet_sizes, dtype: int64\n"
     ]
    },
    {
     "data": {
      "image/png": "[encoded data removed]",
      "text/plain": [
       "<Figure size 432x144 with 1 Axes>"
      ]
     },
     "metadata": {
      "needs_background": "light"
     },
     "output_type": "display_data"
    },
    {
     "name": "stdout",
     "output_type": "stream",
     "text": [
      "NEW FAMILIES ------ Budget\n",
      "packet sizes \n",
      " 134.0    309\n",
      "150.0    448\n",
      "175.0    763\n",
      "Name: Packet_sizes, dtype: int64\n"
     ]
    },
    {
     "data": {
      "image/png": "[encoded data removed]",
      "text/plain": [
       "<Figure size 432x144 with 1 Axes>"
      ]
     },
     "metadata": {
      "needs_background": "light"
     },
     "output_type": "display_data"
    },
    {
     "name": "stdout",
     "output_type": "stream",
     "text": [
      "OLDER FAMILIES ------ Premium\n",
      "packet sizes \n",
      " 134.0    1014\n",
      "150.0    1750\n",
      "175.0    2747\n",
      "Name: Packet_sizes, dtype: int64\n"
     ]
    },
    {
     "data": {
      "image/png": "[encoded data removed]",
      "text/plain": [
       "<Figure size 432x144 with 1 Axes>"
      ]
     },
     "metadata": {
      "needs_background": "light"
     },
     "output_type": "display_data"
    },
    {
     "name": "stdout",
     "output_type": "stream",
     "text": [
      "OLDER FAMILIES ------ Mainstream\n",
      "packet sizes \n",
      " 134.0    1234\n",
      "150.0    2261\n",
      "175.0    3489\n",
      "Name: Packet_sizes, dtype: int64\n"
     ]
    },
    {
     "data": {
      "image/png": "[encoded data removed]",
      "text/plain": [
       "<Figure size 432x144 with 1 Axes>"
      ]
     },
     "metadata": {
      "needs_background": "light"
     },
     "output_type": "display_data"
    },
    {
     "name": "stdout",
     "output_type": "stream",
     "text": [
      "OLDER FAMILIES ------ Budget\n",
      "packet sizes \n",
      " 134.0    1996\n",
      "150.0    3708\n",
      "175.0    5662\n",
      "Name: Packet_sizes, dtype: int64\n"
     ]
    },
    {
     "data": {
      "image/png": "[encoded data removed]",
      "text/plain": [
       "<Figure size 432x144 with 1 Axes>"
      ]
     },
     "metadata": {
      "needs_background": "light"
     },
     "output_type": "display_data"
    },
    {
     "name": "stdout",
     "output_type": "stream",
     "text": [
      "RETIREES ------ Premium\n",
      "packet sizes \n",
      " 134.0    1331\n",
      "150.0    2015\n",
      "175.0    3232\n",
      "Name: Packet_sizes, dtype: int64\n"
     ]
    },
    {
     "data": {
      "image/png": "[encoded data removed]",
      "text/plain": [
       "<Figure size 432x144 with 1 Axes>"
      ]
     },
     "metadata": {
      "needs_background": "light"
     },
     "output_type": "display_data"
    },
    {
     "name": "stdout",
     "output_type": "stream",
     "text": [
      "RETIREES ------ Mainstream\n",
      "packet sizes \n",
      " 134.0    2103\n",
      "150.0    3415\n",
      "175.0    5187\n",
      "Name: Packet_sizes, dtype: int64\n"
     ]
    },
    {
     "data": {
      "image/png": "[encoded data removed]",
      "text/plain": [
       "<Figure size 432x144 with 1 Axes>"
      ]
     },
     "metadata": {
      "needs_background": "light"
     },
     "output_type": "display_data"
    },
    {
     "name": "stdout",
     "output_type": "stream",
     "text": [
      "RETIREES ------ Budget\n",
      "packet sizes \n",
      " 134.0    1517\n",
      "150.0    2381\n",
      "175.0    3768\n",
      "Name: Packet_sizes, dtype: int64\n"
     ]
    },
    {
     "data": {
      "image/png": "[encoded data removed]",
      "text/plain": [
       "<Figure size 432x144 with 1 Axes>"
      ]
     },
     "metadata": {
      "needs_background": "light"
     },
     "output_type": "display_data"
    },
    {
     "name": "stdout",
     "output_type": "stream",
     "text": [
      "[175.0    1587\n",
      "Name: Packet_sizes, dtype: int64, 175.0    4928\n",
      "Name: Packet_sizes, dtype: int64, 175.0    2262\n",
      "Name: Packet_sizes, dtype: int64, 175.0    2926\n",
      "Name: Packet_sizes, dtype: int64, 175.0    3087\n",
      "Name: Packet_sizes, dtype: int64, 175.0    4800\n",
      "Name: Packet_sizes, dtype: int64, 175.0    4382\n",
      "Name: Packet_sizes, dtype: int64, 175.0    4422\n",
      "Name: Packet_sizes, dtype: int64, 175.0    4535\n",
      "Name: Packet_sizes, dtype: int64, 175.0    2034\n",
      "Name: Packet_sizes, dtype: int64, 175.0    2912\n",
      "Name: Packet_sizes, dtype: int64, 175.0    1256\n",
      "Name: Packet_sizes, dtype: int64, 175.0    371\n",
      "Name: Packet_sizes, dtype: int64, 175.0    579\n",
      "Name: Packet_sizes, dtype: int64, 175.0    763\n",
      "Name: Packet_sizes, dtype: int64, 175.0    2747\n",
      "Name: Packet_sizes, dtype: int64, 175.0    3489\n",
      "Name: Packet_sizes, dtype: int64, 175.0    5662\n",
      "Name: Packet_sizes, dtype: int64, 175.0    3232\n",
      "Name: Packet_sizes, dtype: int64, 175.0    5187\n",
      "Name: Packet_sizes, dtype: int64, 175.0    3768\n",
      "Name: Packet_sizes, dtype: int64]\n"
     ]
    }
   ],
   "source": [
    "top_packs = []\n",
    "for i in merged_df_pack[\"LIFESTAGE\"].unique():\n",
    "    for j in merged_df_pack[\"PREMIUM_CUSTOMER\"].unique():\n",
    "        print(i,'------',j)\n",
    "        \n",
    "        top3 = merged_df_pack[(merged_df_pack[\"LIFESTAGE\"] == i) \n",
    "                              & (merged_df_pack[\"PREMIUM_CUSTOMER\"] == j)][\"Packet_sizes\"].value_counts().head(3).sort_index()\n",
    "        print(\"packet sizes\",'\\n', top3)\n",
    "        top_packs.append(merged_df_pack[(merged_df_pack[\"LIFESTAGE\"] == i) \n",
    "                              & (merged_df_pack[\"PREMIUM_CUSTOMER\"] == j)][\"Packet_sizes\"].value_counts().head(1))\n",
    "        plt.figure()\n",
    "        top3.plot.barh(figsize=(6, 2), color='darkblue', title=f\"{i} - {j}\")\n",
    "        plt.show()\n",
    "print(top_packs)"
   ]
  },
  {
   "cell_type": "markdown",
   "id": "22e34fde",
   "metadata": {},
   "source": [
    "#### Mostly bought packet sizes seems to be 175g\n"
   ]
  },
  {
   "cell_type": "markdown",
   "id": "97340568",
   "metadata": {},
   "source": [
    "## Summary"
   ]
  },
  {
   "cell_type": "markdown",
   "id": "55905a51",
   "metadata": {},
   "source": [
    "The three highest contributing segments to the total sales are:\n",
    "1. Older families - Budget\n",
    "2. Young singles/couples - Mainstream\n",
    "3. Retirees - Mainstream\n",
    "\n",
    "Young Singles/Couples (Mainstream) has the highest population, followed by Retirees (Mainstream). Which explains their high total sales.\n",
    "    \n",
    "Despite Older Families not having the highest population, they have the highest frequency of purchase, which contributes to their high total sales.\n",
    "    \n",
    "Older Families followed by Young Families has the highest average quantity of chips bought per purchase.\n",
    "    \n",
    "The Mainstream category of the \"Young and Midage Singles/Couples\" have the highest spending of chips per purchase. And the difference to the non-Mainstream \"Young and Midage Singles/Couples\" are statistically significant.\n",
    "    \n",
    "Chips brand Kettle is dominating every segment as the most purchased brand.\n",
    "       \n",
    "Most frequent chip size purchased is 175gr followed by the 150gr chip size for all segments."
   ]
  },
  {
   "cell_type": "code",
   "execution_count": null,
   "id": "92fa81cc",
   "metadata": {},
   "outputs": [],
   "source": []
  }
 ],
 "metadata": {
  "kernelspec": {
   "display_name": "Python 3 (ipykernel)",
   "language": "python",
   "name": "python3"
  },
  "language_info": {
   "codemirror_mode": {
    "name": "ipython",
    "version": 3
   },
   "file_extension": ".py",
   "mimetype": "text/x-python",
   "name": "python",
   "nbconvert_exporter": "python",
   "pygments_lexer": "ipython3",
   "version": "3.9.7"
  }
 },
 "nbformat": 4,
 "nbformat_minor": 5
}
